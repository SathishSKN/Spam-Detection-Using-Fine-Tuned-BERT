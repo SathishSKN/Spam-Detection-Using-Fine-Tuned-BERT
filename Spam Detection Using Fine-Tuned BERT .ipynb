{
 "cells": [
  {
   "cell_type": "markdown",
   "id": "c49767ce-92de-4571-adea-69fa74b84f73",
   "metadata": {},
   "source": [
    "## <center> `Spam Detection Using Fine-Tuned BERT` </center>\n",
    "\n",
    "`Dataset:`\n",
    "The SMS Spam Collection is a set of SMS tagged messages that have been collected for SMS Spam research. It contains one set of SMS messages in English of 5,574 messages, tagged acording being ham (legitimate) or spam.\n",
    "\n",
    "`Objective:`\n",
    "Build an AI model that can classify messages as spam or legitimate using BERT model\n"
   ]
  },
  {
   "cell_type": "markdown",
   "id": "f4530181-aca1-44b9-aac4-ba2aeca7ec4b",
   "metadata": {},
   "source": [
    "<a class=\"anchor\" id=\"0.1\"></a>\n",
    "# **Table of Contents**\n",
    "\n",
    "1. [Loading Data](#1)\n",
    "2. [Data Preparation](#2)\n",
    "3. [Exploratory Data Analysis (EDA)](#3)\n",
    "4. [Original Data](#4)\n",
    "   1. [Train/Test Splitting](#4.1)\n",
    "   2. [Model Building](#4.2)\n",
    "   3. [Model Evaluation](#4.3)\n",
    "5. [Hyperparameter Tuning with Keras Tuner (Original Data)](#5)\n",
    "   1. [Model Building](#5.1)\n",
    "   2. [Model Evaluation](#5.2)\n",
    "   3. [Additional Metrics (ROC-AUC) for BERT](#5.3)\n",
    "6. [Downsampling Data](#6)\n",
    "   1. [Train/Test Splitting](#6.1)\n",
    "   2. [Model Building](#6.2)\n",
    "   3. [Model Evaluation](#6.3)\n",
    "7. [Hyperparameter Tuning with Keras Tuner (Downsampled Data)](#7)\n",
    "   1. [Model Building](#7.1)\n",
    "   2. [Model Evaluation](#7.2)\n",
    "   3. [Additional Metrics (ROC-AUC) for BERT](#7.3)\n",
    "8. [Upsampling Data](#8)\n",
    "   1. [Train/Test Splitting](#8.1)\n",
    "   2. [Model Building](#8.2)\n",
    "   3. [Model Evaluation](#8.3)\n",
    "9. [Hyperparameter Tuning with Keras Tuner (Upsampled Data)](#9)\n",
    "   1. [Model Building](#9.1)\n",
    "   2. [Model Evaluation](#9.2)\n",
    "   3. [Additional Metrics (ROC-AUC) for BERT](#9.3)\n",
    "10. [Class Weights](#10)\n",
    "    1. [Model Building](#10.1)\n",
    "    2. [Model Evaluation](#10.2)\n",
    "11. [Hyperparameter Tuning with Keras Tuner (Class Weights)](#11)\n",
    "    1. [Model Building](#11.1)\n",
    "    2. [Model Evaluation](#11.2)\n",
    "    3. [Additional Metrics (ROC-AUC) for BERT](#11.3)\n",
    "12. [Custom Loss](#12)\n",
    "    1. [Model Building](#12.1)\n",
    "    2. [Model Evaluation](#12.2)\n",
    "13. [Hyperparameter Tuning with Keras Tuner (Custom Loss)](#13)\n",
    "    1. [Model Building](#13.1)\n",
    "    2. [Model Evaluation](#13.2)\n",
    "    3. [Additional Metrics (ROC-AUC) for BERT](#13.3)\n",
    "14. [Performance Comparison of Fine-Tuned BERT](#14)\n",
    "15. [Performance Comparison of Hyperparameter-Tuned BERT](#15)\n",
    "16. [Inference Comparison of Fine-Tuned BERT](#16)\n",
    "17. [Inference Comparison of Hyperparameter-Tuned BERT](#17)\n",
    "18. [Conclusion](#18)\n",
    "19. [Deployment](#19)\n",
    "20. [References](#20)"
   ]
  },
  {
   "cell_type": "markdown",
   "id": "8f7a1fb6-8ebb-4c56-b9d9-b4c929b29730",
   "metadata": {},
   "source": [
    "## Loading Data\n",
    "<a class=\"anchor\" id=\"1\"></a>\n",
    "[Table of Contents](#0.1)"
   ]
  },
  {
   "cell_type": "code",
   "execution_count": 1,
   "id": "fc6868ad-9348-43cf-8644-0f52b644d11e",
   "metadata": {},
   "outputs": [],
   "source": [
    "# import modules\n",
    "import pandas as pd\n",
    "import numpy as np\n",
    "import matplotlib.pyplot as plt\n",
    "import seaborn as sns\n",
    "import tensorflow as tf\n",
    "import tensorflow_hub as hub\n",
    "import tensorflow_text as text\n",
    "import os\n",
    "import joblib\n",
    "import warnings #ignore warning\n",
    "warnings.filterwarnings(\"ignore\")"
   ]
  },
  {
   "cell_type": "code",
   "execution_count": 2,
   "id": "1cf2ec90-fc34-484f-9a0e-8b65770296e5",
   "metadata": {},
   "outputs": [
    {
     "data": {
      "text/html": [
       "<div>\n",
       "<style scoped>\n",
       "    .dataframe tbody tr th:only-of-type {\n",
       "        vertical-align: middle;\n",
       "    }\n",
       "\n",
       "    .dataframe tbody tr th {\n",
       "        vertical-align: top;\n",
       "    }\n",
       "\n",
       "    .dataframe thead th {\n",
       "        text-align: right;\n",
       "    }\n",
       "</style>\n",
       "<table border=\"1\" class=\"dataframe\">\n",
       "  <thead>\n",
       "    <tr style=\"text-align: right;\">\n",
       "      <th></th>\n",
       "      <th>v1</th>\n",
       "      <th>v2</th>\n",
       "      <th>Unnamed: 2</th>\n",
       "      <th>Unnamed: 3</th>\n",
       "      <th>Unnamed: 4</th>\n",
       "    </tr>\n",
       "  </thead>\n",
       "  <tbody>\n",
       "    <tr>\n",
       "      <th>0</th>\n",
       "      <td>ham</td>\n",
       "      <td>Go until jurong point, crazy.. Available only ...</td>\n",
       "      <td>NaN</td>\n",
       "      <td>NaN</td>\n",
       "      <td>NaN</td>\n",
       "    </tr>\n",
       "    <tr>\n",
       "      <th>1</th>\n",
       "      <td>ham</td>\n",
       "      <td>Ok lar... Joking wif u oni...</td>\n",
       "      <td>NaN</td>\n",
       "      <td>NaN</td>\n",
       "      <td>NaN</td>\n",
       "    </tr>\n",
       "    <tr>\n",
       "      <th>2</th>\n",
       "      <td>spam</td>\n",
       "      <td>Free entry in 2 a wkly comp to win FA Cup fina...</td>\n",
       "      <td>NaN</td>\n",
       "      <td>NaN</td>\n",
       "      <td>NaN</td>\n",
       "    </tr>\n",
       "    <tr>\n",
       "      <th>3</th>\n",
       "      <td>ham</td>\n",
       "      <td>U dun say so early hor... U c already then say...</td>\n",
       "      <td>NaN</td>\n",
       "      <td>NaN</td>\n",
       "      <td>NaN</td>\n",
       "    </tr>\n",
       "    <tr>\n",
       "      <th>4</th>\n",
       "      <td>ham</td>\n",
       "      <td>Nah I don't think he goes to usf, he lives aro...</td>\n",
       "      <td>NaN</td>\n",
       "      <td>NaN</td>\n",
       "      <td>NaN</td>\n",
       "    </tr>\n",
       "  </tbody>\n",
       "</table>\n",
       "</div>"
      ],
      "text/plain": [
       "     v1                                                 v2 Unnamed: 2  \\\n",
       "0   ham  Go until jurong point, crazy.. Available only ...        NaN   \n",
       "1   ham                      Ok lar... Joking wif u oni...        NaN   \n",
       "2  spam  Free entry in 2 a wkly comp to win FA Cup fina...        NaN   \n",
       "3   ham  U dun say so early hor... U c already then say...        NaN   \n",
       "4   ham  Nah I don't think he goes to usf, he lives aro...        NaN   \n",
       "\n",
       "  Unnamed: 3 Unnamed: 4  \n",
       "0        NaN        NaN  \n",
       "1        NaN        NaN  \n",
       "2        NaN        NaN  \n",
       "3        NaN        NaN  \n",
       "4        NaN        NaN  "
      ]
     },
     "execution_count": 2,
     "metadata": {},
     "output_type": "execute_result"
    }
   ],
   "source": [
    "# Define file path\n",
    "filepath =\"D://Portfolio//Internship//AFAME//Project details//Spam SMS Detection//spam.csv\"\n",
    "# Read the CSV file into a DataFrame with specified encoding\n",
    "data = pd.read_csv(filepath, encoding='latin1')\n",
    "# Display the first few rows of the DataFrame\n",
    "data.head()"
   ]
  },
  {
   "cell_type": "code",
   "execution_count": 3,
   "id": "1fb92c16-8778-46c3-a245-cb35a9e49730",
   "metadata": {},
   "outputs": [
    {
     "name": "stdout",
     "output_type": "stream",
     "text": [
      "<class 'pandas.core.frame.DataFrame'>\n",
      "RangeIndex: 5572 entries, 0 to 5571\n",
      "Data columns (total 5 columns):\n",
      " #   Column      Non-Null Count  Dtype \n",
      "---  ------      --------------  ----- \n",
      " 0   v1          5572 non-null   object\n",
      " 1   v2          5572 non-null   object\n",
      " 2   Unnamed: 2  50 non-null     object\n",
      " 3   Unnamed: 3  12 non-null     object\n",
      " 4   Unnamed: 4  6 non-null      object\n",
      "dtypes: object(5)\n",
      "memory usage: 217.8+ KB\n"
     ]
    }
   ],
   "source": [
    "data.info()"
   ]
  },
  {
   "cell_type": "markdown",
   "id": "ee4fc490-e1b3-43b0-a600-481b57bc9746",
   "metadata": {},
   "source": [
    "## Data Preparation\n",
    "<a class=\"anchor\" id=\"2\"></a>\n",
    "[Table of Contents](#0.1)"
   ]
  },
  {
   "cell_type": "code",
   "execution_count": 4,
   "id": "8d9cba9a-5b45-48d2-b754-d6a73099f886",
   "metadata": {},
   "outputs": [
    {
     "data": {
      "text/html": [
       "<div>\n",
       "<style scoped>\n",
       "    .dataframe tbody tr th:only-of-type {\n",
       "        vertical-align: middle;\n",
       "    }\n",
       "\n",
       "    .dataframe tbody tr th {\n",
       "        vertical-align: top;\n",
       "    }\n",
       "\n",
       "    .dataframe thead th {\n",
       "        text-align: right;\n",
       "    }\n",
       "</style>\n",
       "<table border=\"1\" class=\"dataframe\">\n",
       "  <thead>\n",
       "    <tr style=\"text-align: right;\">\n",
       "      <th></th>\n",
       "      <th>v1</th>\n",
       "      <th>v2</th>\n",
       "    </tr>\n",
       "  </thead>\n",
       "  <tbody>\n",
       "    <tr>\n",
       "      <th>0</th>\n",
       "      <td>ham</td>\n",
       "      <td>Go until jurong point, crazy.. Available only ...</td>\n",
       "    </tr>\n",
       "    <tr>\n",
       "      <th>1</th>\n",
       "      <td>ham</td>\n",
       "      <td>Ok lar... Joking wif u oni...</td>\n",
       "    </tr>\n",
       "    <tr>\n",
       "      <th>2</th>\n",
       "      <td>spam</td>\n",
       "      <td>Free entry in 2 a wkly comp to win FA Cup fina...</td>\n",
       "    </tr>\n",
       "    <tr>\n",
       "      <th>3</th>\n",
       "      <td>ham</td>\n",
       "      <td>U dun say so early hor... U c already then say...</td>\n",
       "    </tr>\n",
       "    <tr>\n",
       "      <th>4</th>\n",
       "      <td>ham</td>\n",
       "      <td>Nah I don't think he goes to usf, he lives aro...</td>\n",
       "    </tr>\n",
       "  </tbody>\n",
       "</table>\n",
       "</div>"
      ],
      "text/plain": [
       "     v1                                                 v2\n",
       "0   ham  Go until jurong point, crazy.. Available only ...\n",
       "1   ham                      Ok lar... Joking wif u oni...\n",
       "2  spam  Free entry in 2 a wkly comp to win FA Cup fina...\n",
       "3   ham  U dun say so early hor... U c already then say...\n",
       "4   ham  Nah I don't think he goes to usf, he lives aro..."
      ]
     },
     "execution_count": 4,
     "metadata": {},
     "output_type": "execute_result"
    }
   ],
   "source": [
    "# removing excess unnecessary column \n",
    "data = data.loc[:, ~data.columns.str.contains('^Unnamed')]\n",
    "data.head()"
   ]
  },
  {
   "cell_type": "code",
   "execution_count": 5,
   "id": "72eda21a-640b-402e-8cff-d68f3073ce08",
   "metadata": {},
   "outputs": [],
   "source": [
    "data.rename(columns={'v1': 'Class', 'v2': 'Text'}, inplace=True)"
   ]
  },
  {
   "cell_type": "code",
   "execution_count": 6,
   "id": "974c2100-1404-4d2e-8a41-1e9da3d0be18",
   "metadata": {},
   "outputs": [
    {
     "data": {
      "text/html": [
       "<div>\n",
       "<style scoped>\n",
       "    .dataframe tbody tr th:only-of-type {\n",
       "        vertical-align: middle;\n",
       "    }\n",
       "\n",
       "    .dataframe tbody tr th {\n",
       "        vertical-align: top;\n",
       "    }\n",
       "\n",
       "    .dataframe thead th {\n",
       "        text-align: right;\n",
       "    }\n",
       "</style>\n",
       "<table border=\"1\" class=\"dataframe\">\n",
       "  <thead>\n",
       "    <tr style=\"text-align: right;\">\n",
       "      <th></th>\n",
       "      <th>Class</th>\n",
       "      <th>Text</th>\n",
       "    </tr>\n",
       "  </thead>\n",
       "  <tbody>\n",
       "    <tr>\n",
       "      <th>0</th>\n",
       "      <td>0</td>\n",
       "      <td>Go until jurong point, crazy.. Available only ...</td>\n",
       "    </tr>\n",
       "    <tr>\n",
       "      <th>1</th>\n",
       "      <td>0</td>\n",
       "      <td>Ok lar... Joking wif u oni...</td>\n",
       "    </tr>\n",
       "    <tr>\n",
       "      <th>2</th>\n",
       "      <td>1</td>\n",
       "      <td>Free entry in 2 a wkly comp to win FA Cup fina...</td>\n",
       "    </tr>\n",
       "    <tr>\n",
       "      <th>3</th>\n",
       "      <td>0</td>\n",
       "      <td>U dun say so early hor... U c already then say...</td>\n",
       "    </tr>\n",
       "    <tr>\n",
       "      <th>4</th>\n",
       "      <td>0</td>\n",
       "      <td>Nah I don't think he goes to usf, he lives aro...</td>\n",
       "    </tr>\n",
       "  </tbody>\n",
       "</table>\n",
       "</div>"
      ],
      "text/plain": [
       "   Class                                               Text\n",
       "0      0  Go until jurong point, crazy.. Available only ...\n",
       "1      0                      Ok lar... Joking wif u oni...\n",
       "2      1  Free entry in 2 a wkly comp to win FA Cup fina...\n",
       "3      0  U dun say so early hor... U c already then say...\n",
       "4      0  Nah I don't think he goes to usf, he lives aro..."
      ]
     },
     "execution_count": 6,
     "metadata": {},
     "output_type": "execute_result"
    }
   ],
   "source": [
    "data['Class'] = data['Class'].map({'ham':0, 'spam':1})\n",
    "data.head()"
   ]
  },
  {
   "cell_type": "code",
   "execution_count": 7,
   "id": "04f4dae2-d0e9-4b66-a757-ded3e138a527",
   "metadata": {},
   "outputs": [
    {
     "data": {
      "text/plain": [
       "Class    0\n",
       "Text     0\n",
       "dtype: int64"
      ]
     },
     "execution_count": 7,
     "metadata": {},
     "output_type": "execute_result"
    }
   ],
   "source": [
    "# Checking null values\n",
    "data.isnull().sum()"
   ]
  },
  {
   "cell_type": "code",
   "execution_count": 8,
   "id": "a1de84b4-76ac-40db-9e37-554ecdd5fa96",
   "metadata": {},
   "outputs": [
    {
     "data": {
      "text/plain": [
       "403"
      ]
     },
     "execution_count": 8,
     "metadata": {},
     "output_type": "execute_result"
    }
   ],
   "source": [
    "data.duplicated().sum()"
   ]
  },
  {
   "cell_type": "markdown",
   "id": "b43714ec-98f2-4125-8a69-cc2dc08b4ec2",
   "metadata": {},
   "source": [
    "We are retaining the duplicate values as they are crucial for our task of identifying spam SMS messages."
   ]
  },
  {
   "cell_type": "code",
   "execution_count": 9,
   "id": "fd1169fb-c62b-4ebc-9721-27681395aeda",
   "metadata": {},
   "outputs": [
    {
     "data": {
      "text/plain": [
       "Class\n",
       "0    4825\n",
       "1     747\n",
       "Name: count, dtype: int64"
      ]
     },
     "execution_count": 9,
     "metadata": {},
     "output_type": "execute_result"
    }
   ],
   "source": [
    "# Viewing values in 'v1' column\n",
    "data['Class'].value_counts()"
   ]
  },
  {
   "cell_type": "code",
   "execution_count": 10,
   "id": "34eb3932-47e1-4e9c-8353-040a30e02253",
   "metadata": {},
   "outputs": [
    {
     "data": {
      "text/html": [
       "<div>\n",
       "<style scoped>\n",
       "    .dataframe tbody tr th:only-of-type {\n",
       "        vertical-align: middle;\n",
       "    }\n",
       "\n",
       "    .dataframe tbody tr th {\n",
       "        vertical-align: top;\n",
       "    }\n",
       "\n",
       "    .dataframe thead tr th {\n",
       "        text-align: left;\n",
       "    }\n",
       "\n",
       "    .dataframe thead tr:last-of-type th {\n",
       "        text-align: right;\n",
       "    }\n",
       "</style>\n",
       "<table border=\"1\" class=\"dataframe\">\n",
       "  <thead>\n",
       "    <tr>\n",
       "      <th></th>\n",
       "      <th colspan=\"4\" halign=\"left\">Text</th>\n",
       "    </tr>\n",
       "    <tr>\n",
       "      <th></th>\n",
       "      <th>count</th>\n",
       "      <th>unique</th>\n",
       "      <th>top</th>\n",
       "      <th>freq</th>\n",
       "    </tr>\n",
       "    <tr>\n",
       "      <th>Class</th>\n",
       "      <th></th>\n",
       "      <th></th>\n",
       "      <th></th>\n",
       "      <th></th>\n",
       "    </tr>\n",
       "  </thead>\n",
       "  <tbody>\n",
       "    <tr>\n",
       "      <th>0</th>\n",
       "      <td>4825</td>\n",
       "      <td>4516</td>\n",
       "      <td>Sorry, I'll call later</td>\n",
       "      <td>30</td>\n",
       "    </tr>\n",
       "    <tr>\n",
       "      <th>1</th>\n",
       "      <td>747</td>\n",
       "      <td>653</td>\n",
       "      <td>Please call our customer service representativ...</td>\n",
       "      <td>4</td>\n",
       "    </tr>\n",
       "  </tbody>\n",
       "</table>\n",
       "</div>"
      ],
      "text/plain": [
       "       Text                                                               \n",
       "      count unique                                                top freq\n",
       "Class                                                                     \n",
       "0      4825   4516                             Sorry, I'll call later   30\n",
       "1       747    653  Please call our customer service representativ...    4"
      ]
     },
     "execution_count": 10,
     "metadata": {},
     "output_type": "execute_result"
    }
   ],
   "source": [
    "data.groupby('Class').describe()"
   ]
  },
  {
   "cell_type": "code",
   "execution_count": 11,
   "id": "da81d3d2-08bf-407e-bdc3-2cdd879e04de",
   "metadata": {},
   "outputs": [
    {
     "data": {
      "text/plain": [
       "0.15481865284974095"
      ]
     },
     "execution_count": 11,
     "metadata": {},
     "output_type": "execute_result"
    }
   ],
   "source": [
    "# Viewing the imbalanced rate\n",
    "747/4825"
   ]
  },
  {
   "cell_type": "code",
   "execution_count": 12,
   "id": "70a3a8b3-e057-4849-be0b-c6eb49d86dc6",
   "metadata": {},
   "outputs": [
    {
     "data": {
      "text/plain": [
       "5169"
      ]
     },
     "execution_count": 12,
     "metadata": {},
     "output_type": "execute_result"
    }
   ],
   "source": [
    "# Viewing unique values in 'v2'\n",
    "data['Text'].nunique()"
   ]
  },
  {
   "cell_type": "markdown",
   "id": "344711ba-86bc-45a5-9563-0552032250e7",
   "metadata": {},
   "source": [
    "## Exploratory Data Analysis (EDA)\n",
    "<a class=\"anchor\" id=\"3\"></a>\n",
    "[Table of Contents](#0.1)"
   ]
  },
  {
   "cell_type": "code",
   "execution_count": 13,
   "id": "17e257a9-2651-4066-b27e-ddab1bc5307c",
   "metadata": {},
   "outputs": [
    {
     "data": {
      "image/png": "[encoded data removed]",
      "text/plain": [
       "<Figure size 640x480 with 1 Axes>"
      ]
     },
     "metadata": {},
     "output_type": "display_data"
    }
   ],
   "source": [
    "sns.set(style = \"darkgrid\" , font_scale = 1.2)\n",
    "sns.countplot(data=data, x= 'Class').set_title(\"Number of ham and spam messages\")\n",
    "plt.show()"
   ]
  },
  {
   "cell_type": "code",
   "execution_count": 14,
   "id": "5e0791a6-d45d-489c-915e-4e2efc2b8b64",
   "metadata": {},
   "outputs": [
    {
     "data": {
      "image/png": "[encoded data removed]",
      "text/plain": [
       "<Figure size 800x600 with 1 Axes>"
      ]
     },
     "metadata": {},
     "output_type": "display_data"
    }
   ],
   "source": [
    "# Plot the distribution of message lengths\n",
    "plt.figure(figsize=(8, 6))\n",
    "sns.histplot(x=data['Text'].str.len(), bins=30, hue=data['Class'], kde=True)\n",
    "plt.title('Length Distribution of Messages (Spam vs. Ham)')\n",
    "plt.xlabel('Message Length')\n",
    "plt.ylabel('Count')\n",
    "plt.show()"
   ]
  },
  {
   "cell_type": "code",
   "execution_count": 15,
   "id": "8bd267d3-0f4a-4f45-a576-a42fc457989e",
   "metadata": {},
   "outputs": [
    {
     "data": {
      "image/png": "[encoded data removed]",
      "text/plain": [
       "<Figure size 640x480 with 1 Axes>"
      ]
     },
     "metadata": {},
     "output_type": "display_data"
    }
   ],
   "source": [
    "sms = pd.value_counts(data[\"Class\"], sort=True)\n",
    "sms.plot(kind=\"pie\", labels=[\"ham\", \"spam\"], autopct=\"%1.0f%%\")\n",
    "\n",
    "plt.title(\"SMS messages Distribution\")\n",
    "plt.ylabel(\"\")\n",
    "plt.show()"
   ]
  },
  {
   "cell_type": "code",
   "execution_count": 16,
   "id": "8e5aaf59-cacb-4a3a-8269-7cb83b5e08d6",
   "metadata": {},
   "outputs": [
    {
     "data": {
      "image/png": "[encoded data removed]",
      "text/plain": [
       "<Figure size 1000x400 with 1 Axes>"
      ]
     },
     "metadata": {},
     "output_type": "display_data"
    }
   ],
   "source": [
    "# Calculate lengths of messages directly in the plotting function\n",
    "_, ax = plt.subplots(figsize=(10, 4))\n",
    "sns.kdeplot(data.loc[data.Class == 0, 'Text'].str.len(), shade=True, label='Ham', clip=(-50, 250))\n",
    "sns.kdeplot(data.loc[data.Class == 1, 'Text'].str.len(), shade=True, label='Spam', clip=(-50, 250))\n",
    "\n",
    "# Set axis labels and title\n",
    "ax.set(\n",
    "    xlabel='Length',\n",
    "    ylabel='Density',\n",
    "    title='Length of Messages (Spam vs. Ham)'\n",
    ")\n",
    "ax.legend(loc='upper right')\n",
    "\n",
    "# Show plot\n",
    "plt.show()"
   ]
  },
  {
   "cell_type": "markdown",
   "id": "d4dc88cc-27cf-4275-a549-757a0a0bbe99",
   "metadata": {},
   "source": [
    "## Original Data\n",
    "<a class=\"anchor\" id=\"4\"></a>\n",
    "[Table of Contents](#0.1)"
   ]
  },
  {
   "cell_type": "markdown",
   "id": "fc2f50af-2fb3-4431-8d6b-d61372aa0fe9",
   "metadata": {},
   "source": [
    "### Train/Test Spliting\n",
    "<a class=\"anchor\" id=\"4.1\"></a>\n",
    "[Table of Contents](#0.1)"
   ]
  },
  {
   "cell_type": "code",
   "execution_count": 17,
   "id": "b4b579a2-42a2-4b73-be9b-98d9e9f45273",
   "metadata": {},
   "outputs": [],
   "source": [
    "X = data['Text']\n",
    "y = data['Class']"
   ]
  },
  {
   "cell_type": "code",
   "execution_count": 18,
   "id": "5cb2c56b-58fd-4ea3-95c7-0678bfdb134e",
   "metadata": {},
   "outputs": [
    {
     "data": {
      "text/plain": [
       "(5572,)"
      ]
     },
     "execution_count": 18,
     "metadata": {},
     "output_type": "execute_result"
    }
   ],
   "source": [
    "X.shape"
   ]
  },
  {
   "cell_type": "code",
   "execution_count": 19,
   "id": "ebce4f10-b1be-44f0-a2d1-520e2309546b",
   "metadata": {},
   "outputs": [
    {
     "data": {
      "text/plain": [
       "(5572,)"
      ]
     },
     "execution_count": 19,
     "metadata": {},
     "output_type": "execute_result"
    }
   ],
   "source": [
    "y.shape"
   ]
  },
  {
   "cell_type": "code",
   "execution_count": 20,
   "id": "db61c90f-4839-47ca-9649-943d28ee9026",
   "metadata": {},
   "outputs": [
    {
     "name": "stdout",
     "output_type": "stream",
     "text": [
      "Length of X: 5572\n",
      "Length of y: 5572\n"
     ]
    }
   ],
   "source": [
    "print(f'Length of X: {len(X)}')\n",
    "print(f'Length of y: {len(y)}')"
   ]
  },
  {
   "cell_type": "code",
   "execution_count": 21,
   "id": "036093ca-cf90-4526-90f2-07fe37bd2001",
   "metadata": {},
   "outputs": [
    {
     "name": "stdout",
     "output_type": "stream",
     "text": [
      "Training data: 3900, 3900\n",
      "Validation data: 836, 836\n",
      "Testing data: 836, 836\n"
     ]
    }
   ],
   "source": [
    "from sklearn.model_selection import train_test_split\n",
    "random_seed = 42\n",
    "\n",
    "# Split data into training and temporary sets (60% train, 40% temp)\n",
    "X_train, X_temp, y_train, y_temp = train_test_split(X, y, test_size=0.3, random_state=random_seed, stratify = y)\n",
    "\n",
    "# Split temporary set into validation and test sets (20% val, 20% test)\n",
    "X_val, X_test, y_val, y_test = train_test_split(X_temp, y_temp, test_size=0.5, random_state=random_seed, stratify = y_temp)\n",
    "\n",
    "print(f'Training data: {len(X_train)}, {len(y_train)}')\n",
    "print(f'Validation data: {len(X_val)}, {len(y_val)}') \n",
    "print(f'Testing data: {len(X_test)}, {len(y_test)}') "
   ]
  },
  {
   "cell_type": "markdown",
   "id": "49945165-2b55-4609-a286-0f2cca79e38c",
   "metadata": {},
   "source": [
    "## Model Building\n",
    "<a class=\"anchor\" id=\"4.2\"></a>\n",
    "[Table of Contents](#0.1)"
   ]
  },
  {
   "cell_type": "code",
   "execution_count": 22,
   "id": "b82c21e6-7698-421f-87c8-d07a40868ccf",
   "metadata": {},
   "outputs": [
    {
     "name": "stdout",
     "output_type": "stream",
     "text": [
      "CPU times: total: 9.64 s\n",
      "Wall time: 13.9 s\n"
     ]
    }
   ],
   "source": [
    "%%time\n",
    "bert_preprocessor = hub.KerasLayer('https://tfhub.dev/tensorflow/bert_en_uncased_preprocess/3') # loading Bert Preprocessor\n",
    "bert_encoder = hub.KerasLayer('https://tfhub.dev/tensorflow/bert_en_uncased_L-12_H-768_A-12/4') # Loading Bert Encoder"
   ]
  },
  {
   "cell_type": "code",
   "execution_count": 23,
   "id": "adcac74f-7af9-45bc-bb8f-9f458fc3d858",
   "metadata": {},
   "outputs": [
    {
     "name": "stdout",
     "output_type": "stream",
     "text": [
      "CPU times: total: 438 ms\n",
      "Wall time: 616 ms\n"
     ]
    }
   ],
   "source": [
    "%%time\n",
    "from tensorflow.keras.layers import Input, Dropout, Dense, BatchNormalization\n",
    "from tensorflow.keras.models import Model\n",
    "from tensorflow.keras.optimizers import Adam  # Import the optimizer\n",
    "\n",
    "# Functional BERT layers\n",
    "text_input = Input(shape=(), dtype=tf.string, name='Inputs')\n",
    "encoder_inputs = bert_preprocessor(text_input)\n",
    "embbed = bert_encoder(encoder_inputs)\n",
    "\n",
    "# Neural Network layers\n",
    "dropout1 = Dropout(0.1, name='Dropout1')(embbed['pooled_output'])\n",
    "dense1 = Dense(128, activation='relu', name='Dense1')(dropout1)\n",
    "batch_norm1 = BatchNormalization(name='BatchNorm1')(dense1)\n",
    "dropout2 = Dropout(0.1, name='Dropout2')(batch_norm1)\n",
    "dense2 = Dense(64, activation='relu', name='Dense2')(dropout2)\n",
    "batch_norm2 = BatchNormalization(name='BatchNorm2')(dense2)\n",
    "dropout3 = Dropout(0.1, name='Dropout3')(batch_norm2)\n",
    "outputs = Dense(1, activation='sigmoid', name='Output')(dropout3)\n",
    "\n",
    "# Creating final model\n",
    "model = Model(inputs=[text_input], outputs=[outputs])"
   ]
  },
  {
   "cell_type": "code",
   "execution_count": 24,
   "id": "63af1bf2-0eed-49c4-86f0-f615d2787c5b",
   "metadata": {},
   "outputs": [
    {
     "name": "stdout",
     "output_type": "stream",
     "text": [
      "Model: \"model\"\n",
      "__________________________________________________________________________________________________\n",
      " Layer (type)                   Output Shape         Param #     Connected to                     \n",
      "==================================================================================================\n",
      " Inputs (InputLayer)            [(None,)]            0           []                               \n",
      "                                                                                                  \n",
      " keras_layer (KerasLayer)       {'input_word_ids':   0           ['Inputs[0][0]']                 \n",
      "                                (None, 128),                                                      \n",
      "                                 'input_mask': (Non                                               \n",
      "                                e, 128),                                                          \n",
      "                                 'input_type_ids':                                                \n",
      "                                (None, 128)}                                                      \n",
      "                                                                                                  \n",
      " keras_layer_1 (KerasLayer)     {'sequence_output':  109482241   ['keras_layer[0][0]',            \n",
      "                                 (None, 128, 768),                'keras_layer[0][1]',            \n",
      "                                 'pooled_output': (               'keras_layer[0][2]']            \n",
      "                                None, 768),                                                       \n",
      "                                 'default': (None,                                                \n",
      "                                768),                                                             \n",
      "                                 'encoder_outputs':                                               \n",
      "                                 [(None, 128, 768),                                               \n",
      "                                 (None, 128, 768),                                                \n",
      "                                 (None, 128, 768),                                                \n",
      "                                 (None, 128, 768),                                                \n",
      "                                 (None, 128, 768),                                                \n",
      "                                 (None, 128, 768),                                                \n",
      "                                 (None, 128, 768),                                                \n",
      "                                 (None, 128, 768),                                                \n",
      "                                 (None, 128, 768),                                                \n",
      "                                 (None, 128, 768),                                                \n",
      "                                 (None, 128, 768),                                                \n",
      "                                 (None, 128, 768)]}                                               \n",
      "                                                                                                  \n",
      " Dropout1 (Dropout)             (None, 768)          0           ['keras_layer_1[0][13]']         \n",
      "                                                                                                  \n",
      " Dense1 (Dense)                 (None, 128)          98432       ['Dropout1[0][0]']               \n",
      "                                                                                                  \n",
      " BatchNorm1 (BatchNormalization  (None, 128)         512         ['Dense1[0][0]']                 \n",
      " )                                                                                                \n",
      "                                                                                                  \n",
      " Dropout2 (Dropout)             (None, 128)          0           ['BatchNorm1[0][0]']             \n",
      "                                                                                                  \n",
      " Dense2 (Dense)                 (None, 64)           8256        ['Dropout2[0][0]']               \n",
      "                                                                                                  \n",
      " BatchNorm2 (BatchNormalization  (None, 64)          256         ['Dense2[0][0]']                 \n",
      " )                                                                                                \n",
      "                                                                                                  \n",
      " Dropout3 (Dropout)             (None, 64)           0           ['BatchNorm2[0][0]']             \n",
      "                                                                                                  \n",
      " Output (Dense)                 (None, 1)            65          ['Dropout3[0][0]']               \n",
      "                                                                                                  \n",
      "==================================================================================================\n",
      "Total params: 109,589,762\n",
      "Trainable params: 107,137\n",
      "Non-trainable params: 109,482,625\n",
      "__________________________________________________________________________________________________\n"
     ]
    }
   ],
   "source": [
    "model.summary()"
   ]
  },
  {
   "cell_type": "code",
   "execution_count": 25,
   "id": "9fdac594-77e8-44d5-a7f5-d15a63badf09",
   "metadata": {},
   "outputs": [],
   "source": [
    "metrics = [\n",
    "    tf.keras.metrics.BinaryAccuracy(name='accuracy'),\n",
    "    tf.keras.metrics.Precision(name='precision'),\n",
    "    tf.keras.metrics.Recall(name='recall')\n",
    "]\n",
    "\n",
    "model.compile(optimizer=Adam(learning_rate=0.001),\n",
    "              loss='binary_crossentropy',\n",
    "              metrics = metrics)"
   ]
  },
  {
   "cell_type": "code",
   "execution_count": 26,
   "id": "196381c5-417e-4760-b679-16304840efe5",
   "metadata": {},
   "outputs": [],
   "source": [
    "from tensorflow.keras.callbacks import EarlyStopping, ReduceLROnPlateau\n",
    "# Define callbacks\n",
    "early_stopping = EarlyStopping(monitor='val_loss',\n",
    "                               patience=3, \n",
    "                               restore_best_weights=True)\n",
    "\n",
    "# Learning rate scheduler\n",
    "lr_scheduler = ReduceLROnPlateau(monitor='val_loss', \n",
    "                                 factor=0.2, \n",
    "                                 patience=2, \n",
    "                                 min_lr=1e-7)"
   ]
  },
  {
   "cell_type": "code",
   "execution_count": 27,
   "id": "6211de53-52ef-4310-8883-610c34f6ce57",
   "metadata": {},
   "outputs": [
    {
     "name": "stdout",
     "output_type": "stream",
     "text": [
      "Epoch 1/20\n",
      "122/122 [==============================] - 71s 499ms/step - loss: 0.4288 - accuracy: 0.8308 - precision: 0.4365 - recall: 0.9006 - val_loss: 0.2376 - val_accuracy: 0.9426 - val_precision: 0.9571 - val_recall: 0.5982 - lr: 0.0010\n",
      "Epoch 2/20\n",
      "122/122 [==============================] - 60s 490ms/step - loss: 0.1779 - accuracy: 0.9518 - precision: 0.7787 - recall: 0.8948 - val_loss: 0.1249 - val_accuracy: 0.9533 - val_precision: 1.0000 - val_recall: 0.6518 - lr: 0.0010\n",
      "Epoch 3/20\n",
      "122/122 [==============================] - 60s 490ms/step - loss: 0.1232 - accuracy: 0.9618 - precision: 0.8555 - recall: 0.8604 - val_loss: 0.0707 - val_accuracy: 0.9797 - val_precision: 0.9612 - val_recall: 0.8839 - lr: 0.0010\n",
      "Epoch 4/20\n",
      "122/122 [==============================] - 60s 490ms/step - loss: 0.1058 - accuracy: 0.9672 - precision: 0.8926 - recall: 0.8585 - val_loss: 0.1003 - val_accuracy: 0.9701 - val_precision: 0.8480 - val_recall: 0.9464 - lr: 0.0010\n",
      "Epoch 5/20\n",
      "122/122 [==============================] - 60s 491ms/step - loss: 0.1000 - accuracy: 0.9687 - precision: 0.8970 - recall: 0.8662 - val_loss: 0.2649 - val_accuracy: 0.9067 - val_precision: 0.5904 - val_recall: 0.9911 - lr: 0.0010\n",
      "Epoch 6/20\n",
      "122/122 [==============================] - 60s 492ms/step - loss: 0.0833 - accuracy: 0.9726 - precision: 0.9127 - recall: 0.8795 - val_loss: 0.0596 - val_accuracy: 0.9785 - val_precision: 0.9796 - val_recall: 0.8571 - lr: 2.0000e-04\n",
      "Epoch 7/20\n",
      "122/122 [==============================] - 60s 494ms/step - loss: 0.0800 - accuracy: 0.9746 - precision: 0.9257 - recall: 0.8815 - val_loss: 0.0558 - val_accuracy: 0.9844 - val_precision: 0.9714 - val_recall: 0.9107 - lr: 2.0000e-04\n",
      "Epoch 8/20\n",
      "122/122 [==============================] - 64s 522ms/step - loss: 0.0880 - accuracy: 0.9697 - precision: 0.9042 - recall: 0.8662 - val_loss: 0.0513 - val_accuracy: 0.9821 - val_precision: 0.9619 - val_recall: 0.9018 - lr: 2.0000e-04\n",
      "Epoch 9/20\n",
      "122/122 [==============================] - 64s 523ms/step - loss: 0.0773 - accuracy: 0.9723 - precision: 0.9209 - recall: 0.8681 - val_loss: 0.0607 - val_accuracy: 0.9797 - val_precision: 1.0000 - val_recall: 0.8482 - lr: 2.0000e-04\n",
      "Epoch 10/20\n",
      "122/122 [==============================] - 64s 527ms/step - loss: 0.0742 - accuracy: 0.9759 - precision: 0.9281 - recall: 0.8891 - val_loss: 0.0458 - val_accuracy: 0.9844 - val_precision: 0.9714 - val_recall: 0.9107 - lr: 2.0000e-04\n",
      "Epoch 11/20\n",
      "122/122 [==============================] - 64s 528ms/step - loss: 0.0797 - accuracy: 0.9751 - precision: 0.9260 - recall: 0.8853 - val_loss: 0.0498 - val_accuracy: 0.9809 - val_precision: 0.9800 - val_recall: 0.8750 - lr: 2.0000e-04\n",
      "Epoch 12/20\n",
      "122/122 [==============================] - 64s 521ms/step - loss: 0.0742 - accuracy: 0.9759 - precision: 0.9231 - recall: 0.8948 - val_loss: 0.0488 - val_accuracy: 0.9821 - val_precision: 0.9802 - val_recall: 0.8839 - lr: 2.0000e-04\n",
      "Epoch 13/20\n",
      "122/122 [==============================] - 63s 519ms/step - loss: 0.0721 - accuracy: 0.9749 - precision: 0.9474 - recall: 0.8604 - val_loss: 0.0472 - val_accuracy: 0.9833 - val_precision: 0.9804 - val_recall: 0.8929 - lr: 4.0000e-05\n",
      "CPU times: total: 9min 33s\n",
      "Wall time: 13min 32s\n"
     ]
    }
   ],
   "source": [
    "%%time\n",
    "# Fit the model\n",
    "history = model.fit(X_train, y_train, epochs=20, \n",
    "                    validation_data=(X_val, y_val), \n",
    "                    callbacks=[early_stopping, lr_scheduler])"
   ]
  },
  {
   "cell_type": "markdown",
   "id": "ab1126ac-19da-4a4c-b65d-1cc266d26e0c",
   "metadata": {},
   "source": [
    "## Model Evaluation\n",
    "<a class=\"anchor\" id=\"4.3\"></a>\n",
    "[Table of Contents](#0.1)"
   ]
  },
  {
   "cell_type": "code",
   "execution_count": 28,
   "id": "39fc04f0-9057-4c48-b18e-b21a9b7be8b8",
   "metadata": {},
   "outputs": [
    {
     "name": "stdout",
     "output_type": "stream",
     "text": [
      "27/27 [==============================] - 11s 412ms/step - loss: 0.0418 - accuracy: 0.9904 - precision: 0.9815 - recall: 0.9464\n",
      "Test Loss: 0.04175851494073868\n",
      "Test Accuracy: 0.9904305934906006\n"
     ]
    }
   ],
   "source": [
    "# Evaluate the model\n",
    "results = model.evaluate(X_test, y_test)\n",
    "print(f\"Test Loss: {results[0]}\")\n",
    "print(f\"Test Accuracy: {results[1]}\")"
   ]
  },
  {
   "cell_type": "code",
   "execution_count": 29,
   "id": "51f72ce8-e49e-421d-8e2a-ea38eecd045d",
   "metadata": {},
   "outputs": [
    {
     "name": "stdout",
     "output_type": "stream",
     "text": [
      "27/27 [==============================] - 12s 414ms/step\n"
     ]
    }
   ],
   "source": [
    "y_predict = model.predict(X_test)\n",
    "y_predict = y_predict.flatten()"
   ]
  },
  {
   "cell_type": "code",
   "execution_count": 30,
   "id": "9ae72a32-fc9d-4e49-8560-760ef0440ff8",
   "metadata": {},
   "outputs": [
    {
     "data": {
      "text/plain": [
       "array([0, 1, 0, 0, 0, 1, 0, 0, 0, 1, 0, 0, 0, 0, 0, 0, 0, 0, 0, 0, 0, 0,\n",
       "       0, 0, 1, 0, 0, 1, 0, 1, 0, 0, 1, 0, 0, 0, 0, 0, 0, 0, 0, 1, 0, 0,\n",
       "       0, 0, 1, 0, 0, 0, 0, 0, 0, 0, 1, 0, 0, 0, 0, 0, 0, 0, 0, 0, 0, 0,\n",
       "       1, 0, 0, 1, 0, 0, 0, 0, 0, 1, 1, 0, 0, 0, 0, 0, 0, 0, 1, 0, 0, 0,\n",
       "       0, 0, 0, 1, 0, 0, 0, 1, 0, 0, 0, 0, 0, 0, 0, 0, 0, 1, 0, 0, 0, 1,\n",
       "       0, 0, 0, 0, 0, 0, 0, 0, 0, 1, 0, 0, 1, 0, 0, 1, 0, 1, 1, 0, 0, 0,\n",
       "       0, 0, 0, 0, 1, 0, 0, 0, 1, 0, 0, 0, 0, 0, 0, 0, 1, 0, 0, 0, 0, 0,\n",
       "       0, 1, 1, 0, 0, 0, 0, 0, 0, 0, 0, 0, 0, 0, 0, 1, 0, 1, 0, 0, 0, 0,\n",
       "       0, 0, 0, 0, 0, 0, 0, 0, 0, 0, 0, 0, 0, 0, 0, 0, 0, 0, 0, 0, 0, 0,\n",
       "       0, 0, 0, 0, 0, 0, 0, 0, 1, 0, 1, 0, 0, 0, 0, 0, 0, 0, 1, 0, 1, 0,\n",
       "       0, 0, 0, 1, 0, 0, 0, 0, 0, 0, 0, 0, 0, 0, 0, 0, 0, 1, 0, 0, 0, 1,\n",
       "       0, 0, 0, 0, 0, 0, 1, 0, 0, 0, 0, 0, 0, 0, 0, 0, 0, 0, 0, 0, 0, 0,\n",
       "       0, 0, 0, 0, 0, 0, 0, 0, 0, 0, 0, 0, 0, 0, 0, 0, 0, 0, 1, 0, 1, 0,\n",
       "       0, 0, 0, 0, 0, 0, 0, 1, 0, 0, 0, 1, 0, 0, 0, 0, 0, 0, 0, 0, 0, 0,\n",
       "       0, 1, 0, 0, 0, 1, 0, 0, 0, 0, 0, 0, 0, 0, 0, 0, 0, 0, 0, 0, 0, 0,\n",
       "       0, 0, 0, 0, 0, 0, 1, 0, 0, 0, 0, 0, 0, 0, 0, 0, 0, 1, 0, 0, 1, 1,\n",
       "       0, 0, 0, 0, 0, 0, 0, 0, 0, 0, 0, 0, 0, 1, 0, 1, 0, 0, 0, 0, 1, 0,\n",
       "       0, 0, 0, 0, 0, 1, 0, 0, 0, 0, 0, 0, 0, 0, 0, 0, 0, 0, 0, 0, 0, 0,\n",
       "       0, 0, 1, 1, 0, 0, 1, 0, 0, 0, 0, 0, 0, 0, 0, 0, 0, 0, 0, 0, 0, 0,\n",
       "       0, 0, 0, 1, 0, 0, 1, 0, 0, 0, 0, 0, 0, 0, 0, 0, 0, 0, 0, 0, 0, 0,\n",
       "       0, 1, 0, 0, 0, 0, 0, 0, 1, 0, 0, 0, 0, 0, 0, 0, 0, 0, 0, 0, 0, 0,\n",
       "       1, 0, 0, 0, 0, 0, 0, 1, 0, 0, 0, 0, 0, 0, 0, 0, 0, 0, 0, 0, 1, 0,\n",
       "       0, 0, 0, 0, 0, 1, 0, 0, 0, 0, 0, 0, 0, 0, 0, 0, 0, 0, 1, 1, 1, 0,\n",
       "       0, 1, 0, 0, 0, 0, 0, 0, 1, 0, 0, 0, 0, 0, 0, 0, 0, 1, 1, 0, 1, 0,\n",
       "       0, 0, 0, 0, 0, 0, 1, 0, 0, 0, 0, 0, 0, 0, 0, 0, 0, 0, 0, 0, 1, 0,\n",
       "       0, 1, 0, 1, 0, 0, 0, 0, 0, 0, 0, 0, 0, 0, 0, 0, 0, 0, 0, 0, 0, 0,\n",
       "       0, 0, 0, 0, 0, 0, 0, 0, 0, 0, 0, 0, 0, 0, 0, 1, 0, 0, 0, 0, 0, 0,\n",
       "       0, 0, 0, 0, 0, 0, 0, 0, 0, 0, 0, 0, 1, 0, 0, 0, 0, 0, 0, 0, 0, 0,\n",
       "       0, 0, 0, 0, 0, 0, 1, 0, 0, 0, 0, 1, 0, 0, 0, 1, 0, 0, 0, 0, 0, 0,\n",
       "       1, 0, 0, 0, 0, 0, 1, 0, 0, 0, 0, 0, 0, 0, 0, 0, 0, 0, 1, 0, 0, 0,\n",
       "       1, 1, 1, 0, 0, 1, 0, 0, 0, 0, 0, 0, 0, 0, 0, 0, 0, 0, 0, 0, 0, 0,\n",
       "       1, 0, 0, 1, 0, 0, 0, 0, 0, 1, 1, 0, 0, 0, 0, 1, 0, 0, 0, 0, 0, 0,\n",
       "       0, 0, 0, 0, 0, 0, 0, 0, 0, 0, 0, 0, 0, 0, 0, 0, 0, 0, 0, 0, 1, 0,\n",
       "       0, 0, 0, 0, 0, 1, 0, 0, 0, 0, 0, 0, 0, 0, 1, 0, 0, 0, 0, 0, 0, 0,\n",
       "       0, 0, 0, 0, 0, 0, 0, 0, 0, 0, 0, 0, 0, 0, 0, 0, 0, 0, 0, 0, 0, 0,\n",
       "       0, 0, 0, 0, 0, 0, 0, 0, 0, 1, 0, 1, 0, 0, 0, 0, 0, 0, 0, 1, 0, 0,\n",
       "       0, 0, 0, 0, 0, 0, 1, 0, 0, 0, 1, 0, 0, 0, 0, 0, 0, 0, 0, 0, 1, 0,\n",
       "       1, 0, 1, 0, 0, 0, 0, 0, 0, 0, 1, 0, 0, 0, 1, 0, 0, 0, 0, 1, 0, 1])"
      ]
     },
     "execution_count": 30,
     "metadata": {},
     "output_type": "execute_result"
    }
   ],
   "source": [
    "y_predict = np.where(y_predict > 0.5,1,0)\n",
    "y_predict"
   ]
  },
  {
   "cell_type": "code",
   "execution_count": 31,
   "id": "294a5eef-6726-496d-a8e1-c2aa7be33a54",
   "metadata": {},
   "outputs": [
    {
     "data": {
      "text/plain": [
       "array([[722,   2],\n",
       "       [  6, 106]], dtype=int64)"
      ]
     },
     "execution_count": 31,
     "metadata": {},
     "output_type": "execute_result"
    }
   ],
   "source": [
    "from sklearn.metrics import confusion_matrix\n",
    "\n",
    "cm = confusion_matrix(y_test, y_predict)\n",
    "cm"
   ]
  },
  {
   "cell_type": "code",
   "execution_count": 32,
   "id": "11a51cc6-beed-4628-841e-28b769314fd3",
   "metadata": {},
   "outputs": [
    {
     "data": {
      "text/plain": [
       "Text(43.25, 0.5, 'Actual')"
      ]
     },
     "execution_count": 32,
     "metadata": {},
     "output_type": "execute_result"
    },
    {
     "data": {
      "image/png": "[encoded data removed]",
      "text/plain": [
       "<Figure size 640x480 with 2 Axes>"
      ]
     },
     "metadata": {},
     "output_type": "display_data"
    }
   ],
   "source": [
    "sns.heatmap(cm, annot=True, fmt = 'd')\n",
    "plt.xlabel('Predicted')\n",
    "plt.ylabel('Actual')"
   ]
  },
  {
   "cell_type": "code",
   "execution_count": 33,
   "id": "74562909-d17c-44ee-b481-147b8a2df2ed",
   "metadata": {},
   "outputs": [
    {
     "name": "stdout",
     "output_type": "stream",
     "text": [
      "              precision    recall  f1-score   support\n",
      "\n",
      "         Ham       0.99      1.00      0.99       724\n",
      "        Spam       0.98      0.95      0.96       112\n",
      "\n",
      "    accuracy                           0.99       836\n",
      "   macro avg       0.99      0.97      0.98       836\n",
      "weighted avg       0.99      0.99      0.99       836\n",
      "\n"
     ]
    }
   ],
   "source": [
    "from sklearn.metrics import classification_report\n",
    "\n",
    "nml = classification_report(y_test, y_predict, target_names=['Ham', 'Spam'])\n",
    "print(nml)"
   ]
  },
  {
   "cell_type": "markdown",
   "id": "d7b8b6a2-119c-4104-907f-61cf411ff806",
   "metadata": {},
   "source": [
    "## Inference"
   ]
  },
  {
   "cell_type": "code",
   "execution_count": 34,
   "id": "4095dcfb-2b64-4bdf-998d-225938fccc2f",
   "metadata": {},
   "outputs": [
    {
     "name": "stdout",
     "output_type": "stream",
     "text": [
      "1/1 [==============================] - 1s 897ms/step\n"
     ]
    },
    {
     "data": {
      "text/plain": [
       "array([[0.02774307],\n",
       "       [0.46297142],\n",
       "       [0.15588982],\n",
       "       [0.4203427 ],\n",
       "       [0.00780586]], dtype=float32)"
      ]
     },
     "execution_count": 34,
     "metadata": {},
     "output_type": "execute_result"
    }
   ],
   "source": [
    "# Actual real examples\n",
    "reviews = [\n",
    "    'You will be hired at managerial roles in top companies',\n",
    "    'Citrusbug Technolabs is hiring for AI/ML Engineer + 14 new Fresher Data Science jobs',\n",
    "    'Job opportunity from Wipro just for You!',\n",
    "    'Dear Congratulations - Get Your Job Offer Letter @ Cognizant',\n",
    "    'Practice Coding with A Very Big Sum'\n",
    "]\n",
    "\n",
    "# Detection of examples\n",
    "nml_inf = model.predict(reviews)\n",
    "nml_inf"
   ]
  },
  {
   "cell_type": "markdown",
   "id": "b9bd02be-04a7-4d03-a72d-89641a5ed6a8",
   "metadata": {},
   "source": [
    "## Hyperparameter Tuning with Keras Tuner (Original Data)\n",
    "<a class=\"anchor\" id=\"5\"></a>\n",
    "[Table of Contents](#0.1)"
   ]
  },
  {
   "cell_type": "code",
   "execution_count": 35,
   "id": "dabbab67-78e4-47cf-bf55-6fcf3d6a3e23",
   "metadata": {},
   "outputs": [
    {
     "name": "stdout",
     "output_type": "stream",
     "text": [
      "Reloading Tuner from C:\\Users\\sathi\\Career\\Internship\\AFAME\\Spam SMS Detection\\BERT\\nml_model\\tuner0.json\n",
      "CPU times: total: 766 ms\n",
      "Wall time: 1.75 s\n"
     ]
    }
   ],
   "source": [
    "%%time\n",
    "import kerastuner as kt\n",
    "\n",
    "# Function to compile your existing model with hyperparameters\n",
    "def compile_model(hp):\n",
    "    # Tune the learning rate\n",
    "    learning_rate = hp.Choice('learning_rate', values=[1e-2, 1e-3, 1e-4])\n",
    "    \n",
    "    # Compile the model with the chosen learning rate\n",
    "    model.compile(optimizer = Adam(learning_rate=learning_rate),\n",
    "                  loss = 'binary_crossentropy',\n",
    "                  metrics = metrics)\n",
    "    return model\n",
    "\n",
    "# Initialize Keras Tuner with the existing model\n",
    "tuner = kt.Hyperband(\n",
    "    compile_model,\n",
    "    objective='val_accuracy',\n",
    "    max_epochs=5,\n",
    "    factor=3,\n",
    "    directory=os.getcwd(),\n",
    "    project_name='nml_model'\n",
    ")\n",
    "\n",
    "# Perform hyperparameter tuning\n",
    "tuner.search(X_train, y_train, epochs=5, validation_data=(X_val, y_val))\n",
    "\n",
    "# Get the best model\n",
    "best_model_nml = tuner.get_best_models(num_models=1)[0]"
   ]
  },
  {
   "cell_type": "code",
   "execution_count": 36,
   "id": "59d5a8f7-f4a2-4b84-a2ac-9eda4a32164b",
   "metadata": {},
   "outputs": [
    {
     "name": "stdout",
     "output_type": "stream",
     "text": [
      "27/27 [==============================] - 12s 409ms/step - loss: 0.0464 - accuracy: 0.9868 - precision: 0.9720 - recall: 0.9286\n",
      "\n",
      "Validation Loss: 0.046408411115407944\n",
      "Validation Accuracy: 0.9868420958518982\n"
     ]
    }
   ],
   "source": [
    "# Evaluate the best model on the validation set\n",
    "hp_results_val = best_model_nml.evaluate(X_val, y_val)\n",
    "print(f\"\\nValidation Loss: {hp_results_val[0]}\")\n",
    "print(f\"Validation Accuracy: {hp_results_val[1]}\")"
   ]
  },
  {
   "cell_type": "code",
   "execution_count": 37,
   "id": "5cd367b4-3cab-42da-b677-0c8876df0999",
   "metadata": {},
   "outputs": [
    {
     "name": "stdout",
     "output_type": "stream",
     "text": [
      "27/27 [==============================] - 11s 413ms/step - loss: 0.0403 - accuracy: 0.9916 - precision: 0.9817 - recall: 0.9554\n",
      "\\Test Loss: 0.040296293795108795\n",
      "Test Accuracy: 0.9916267991065979\n"
     ]
    }
   ],
   "source": [
    "# Evaluate the best model on the test set\n",
    "hp_results_test = best_model_nml.evaluate(X_test, y_test)\n",
    "print(f\"\\Test Loss: {hp_results_test[0]}\")\n",
    "print(f\"Test Accuracy: {hp_results_test[1]}\")"
   ]
  },
  {
   "cell_type": "markdown",
   "id": "7a1ef7ee-1cf6-4e97-8c8b-acd2a784c15b",
   "metadata": {},
   "source": [
    "## Model Building\n",
    "<a class=\"anchor\" id=\"5.1\"></a>\n",
    "[Table of Contents](#0.1)"
   ]
  },
  {
   "cell_type": "code",
   "execution_count": 38,
   "id": "653dcc3e-d156-4fdd-87bc-fee9728c5a2f",
   "metadata": {},
   "outputs": [
    {
     "name": "stdout",
     "output_type": "stream",
     "text": [
      "Epoch 1/20\n",
      "122/122 [==============================] - 69s 541ms/step - loss: 0.0681 - accuracy: 0.9767 - precision: 0.9337 - recall: 0.8891 - val_loss: 0.0484 - val_accuracy: 0.9844 - val_precision: 0.9304 - val_recall: 0.9554 - lr: 1.0000e-04\n",
      "Epoch 2/20\n",
      "122/122 [==============================] - 65s 532ms/step - loss: 0.0687 - accuracy: 0.9756 - precision: 0.9280 - recall: 0.8872 - val_loss: 0.0435 - val_accuracy: 0.9844 - val_precision: 0.9806 - val_recall: 0.9018 - lr: 1.0000e-04\n",
      "Epoch 3/20\n",
      "122/122 [==============================] - 65s 537ms/step - loss: 0.0689 - accuracy: 0.9769 - precision: 0.9339 - recall: 0.8910 - val_loss: 0.0423 - val_accuracy: 0.9844 - val_precision: 0.9806 - val_recall: 0.9018 - lr: 1.0000e-04\n",
      "Epoch 4/20\n",
      "122/122 [==============================] - 65s 533ms/step - loss: 0.0689 - accuracy: 0.9754 - precision: 0.9261 - recall: 0.8872 - val_loss: 0.0417 - val_accuracy: 0.9844 - val_precision: 0.9806 - val_recall: 0.9018 - lr: 1.0000e-04\n",
      "Epoch 5/20\n",
      "122/122 [==============================] - 66s 538ms/step - loss: 0.0640 - accuracy: 0.9790 - precision: 0.9455 - recall: 0.8948 - val_loss: 0.0413 - val_accuracy: 0.9844 - val_precision: 0.9806 - val_recall: 0.9018 - lr: 1.0000e-04\n",
      "Epoch 6/20\n",
      "122/122 [==============================] - 65s 533ms/step - loss: 0.0598 - accuracy: 0.9818 - precision: 0.9397 - recall: 0.9235 - val_loss: 0.0416 - val_accuracy: 0.9833 - val_precision: 0.9804 - val_recall: 0.8929 - lr: 1.0000e-04\n",
      "Epoch 7/20\n",
      "122/122 [==============================] - 64s 526ms/step - loss: 0.0693 - accuracy: 0.9749 - precision: 0.9259 - recall: 0.8834 - val_loss: 0.0415 - val_accuracy: 0.9844 - val_precision: 0.9714 - val_recall: 0.9107 - lr: 1.0000e-04\n",
      "Epoch 8/20\n",
      "122/122 [==============================] - 64s 524ms/step - loss: 0.0575 - accuracy: 0.9823 - precision: 0.9614 - recall: 0.9044 - val_loss: 0.0416 - val_accuracy: 0.9844 - val_precision: 0.9806 - val_recall: 0.9018 - lr: 2.0000e-05\n",
      "CPU times: total: 5min 53s\n",
      "Wall time: 8min 42s\n"
     ]
    },
    {
     "data": {
      "text/plain": [
       "<keras.callbacks.History at 0x1bde4579b10>"
      ]
     },
     "execution_count": 38,
     "metadata": {},
     "output_type": "execute_result"
    }
   ],
   "source": [
    "%%time\n",
    "# Fitting best model on X_train, y_train, X_val, y_val, X_test, y_test\n",
    "best_model_nml.fit(X_train, y_train, epochs=20, \n",
    "                    validation_data=(X_val, y_val), \n",
    "                    callbacks=[early_stopping, lr_scheduler])"
   ]
  },
  {
   "cell_type": "markdown",
   "id": "4f0faabf-66fb-4e2f-a26e-23f769a99d41",
   "metadata": {},
   "source": [
    "## Model Evaluation\n",
    "<a class=\"anchor\" id=\"5.2\"></a>\n",
    "[Table of Contents](#0.1)"
   ]
  },
  {
   "cell_type": "code",
   "execution_count": 39,
   "id": "cf4e629e-704e-48d0-8783-c6a45a8a8f2f",
   "metadata": {},
   "outputs": [
    {
     "name": "stdout",
     "output_type": "stream",
     "text": [
      "27/27 [==============================] - 12s 421ms/step\n"
     ]
    }
   ],
   "source": [
    "y_predict_hp = best_model_nml.predict(X_test)\n",
    "y_predict_hp = y_predict_hp.flatten()"
   ]
  },
  {
   "cell_type": "code",
   "execution_count": 40,
   "id": "1538e939-28d3-49cb-a880-a75ec19f0320",
   "metadata": {},
   "outputs": [
    {
     "data": {
      "text/plain": [
       "array([0, 1, 0, 0, 0, 1, 0, 0, 0, 1, 0, 0, 0, 0, 0, 0, 0, 0, 0, 0, 0, 0,\n",
       "       0, 0, 1, 0, 0, 1, 0, 1, 0, 0, 1, 0, 0, 0, 0, 0, 0, 0, 0, 1, 0, 0,\n",
       "       0, 0, 1, 0, 0, 0, 0, 0, 0, 0, 1, 0, 0, 0, 0, 0, 0, 0, 0, 0, 0, 0,\n",
       "       1, 0, 0, 1, 0, 0, 0, 0, 0, 1, 1, 0, 0, 0, 0, 0, 0, 0, 1, 0, 0, 0,\n",
       "       0, 0, 0, 1, 0, 0, 0, 1, 0, 0, 0, 0, 0, 0, 0, 0, 0, 1, 0, 0, 0, 1,\n",
       "       0, 0, 0, 0, 0, 0, 0, 0, 0, 1, 0, 0, 1, 0, 0, 1, 0, 1, 1, 0, 0, 0,\n",
       "       0, 0, 0, 0, 1, 0, 0, 0, 1, 0, 0, 0, 0, 0, 0, 0, 1, 0, 0, 0, 0, 0,\n",
       "       0, 1, 1, 0, 0, 0, 0, 0, 0, 0, 0, 0, 0, 0, 0, 1, 0, 1, 0, 0, 0, 0,\n",
       "       0, 0, 0, 0, 0, 0, 0, 0, 0, 0, 0, 0, 0, 0, 0, 0, 0, 0, 0, 0, 0, 0,\n",
       "       0, 0, 0, 0, 0, 0, 0, 0, 1, 0, 1, 0, 0, 0, 0, 0, 0, 0, 1, 0, 1, 0,\n",
       "       0, 0, 0, 1, 0, 0, 0, 0, 0, 0, 0, 0, 0, 0, 0, 0, 0, 1, 0, 0, 0, 1,\n",
       "       0, 0, 0, 0, 0, 0, 1, 0, 0, 0, 0, 0, 0, 0, 0, 0, 0, 0, 0, 0, 0, 0,\n",
       "       0, 0, 0, 0, 0, 0, 0, 0, 0, 0, 0, 0, 0, 0, 0, 0, 0, 0, 1, 0, 1, 0,\n",
       "       0, 0, 0, 0, 0, 0, 0, 1, 0, 0, 0, 1, 0, 0, 0, 0, 0, 0, 0, 0, 0, 0,\n",
       "       0, 1, 0, 0, 0, 1, 0, 0, 0, 0, 0, 0, 0, 0, 0, 0, 0, 0, 0, 0, 0, 0,\n",
       "       0, 0, 0, 0, 0, 0, 1, 0, 0, 0, 0, 0, 0, 0, 0, 0, 0, 0, 0, 0, 1, 1,\n",
       "       0, 0, 0, 0, 0, 0, 0, 0, 0, 0, 0, 0, 0, 1, 0, 1, 0, 0, 0, 0, 1, 0,\n",
       "       0, 0, 0, 0, 0, 1, 0, 0, 0, 0, 0, 0, 0, 0, 0, 0, 0, 0, 0, 0, 0, 0,\n",
       "       0, 0, 1, 1, 0, 0, 1, 0, 0, 0, 0, 0, 0, 0, 0, 0, 0, 0, 0, 0, 0, 0,\n",
       "       0, 0, 0, 1, 0, 0, 1, 0, 0, 0, 0, 0, 0, 0, 0, 0, 0, 0, 0, 0, 0, 0,\n",
       "       0, 1, 0, 0, 0, 0, 0, 0, 1, 0, 0, 0, 0, 0, 0, 0, 0, 0, 0, 0, 0, 0,\n",
       "       1, 0, 0, 0, 0, 0, 0, 1, 0, 0, 0, 0, 0, 0, 0, 0, 0, 0, 0, 0, 1, 0,\n",
       "       0, 0, 0, 0, 0, 1, 0, 0, 0, 0, 0, 0, 0, 0, 0, 0, 0, 0, 1, 1, 1, 0,\n",
       "       0, 1, 0, 0, 0, 0, 0, 0, 1, 0, 0, 0, 0, 0, 0, 0, 0, 1, 1, 0, 1, 0,\n",
       "       0, 0, 0, 0, 0, 0, 1, 0, 0, 0, 0, 0, 0, 0, 0, 0, 0, 0, 0, 0, 1, 0,\n",
       "       0, 1, 0, 1, 0, 0, 0, 0, 0, 0, 0, 0, 0, 0, 0, 0, 0, 0, 0, 0, 0, 0,\n",
       "       0, 0, 0, 0, 0, 0, 0, 0, 0, 0, 0, 0, 0, 0, 0, 1, 0, 0, 0, 0, 0, 0,\n",
       "       0, 0, 0, 0, 0, 0, 0, 0, 0, 0, 0, 0, 1, 0, 0, 0, 0, 0, 0, 0, 0, 0,\n",
       "       0, 0, 0, 0, 0, 0, 1, 0, 0, 0, 0, 1, 0, 0, 0, 1, 0, 0, 0, 0, 0, 0,\n",
       "       1, 0, 0, 0, 0, 0, 1, 0, 0, 0, 0, 0, 0, 0, 0, 0, 0, 0, 1, 0, 0, 0,\n",
       "       1, 1, 1, 0, 0, 1, 0, 0, 0, 0, 0, 0, 0, 0, 0, 0, 0, 0, 0, 0, 0, 0,\n",
       "       1, 0, 0, 1, 0, 0, 0, 0, 0, 1, 1, 0, 0, 0, 0, 1, 0, 0, 0, 0, 0, 0,\n",
       "       0, 0, 0, 0, 0, 0, 0, 0, 0, 0, 0, 0, 0, 0, 0, 0, 0, 0, 0, 0, 1, 0,\n",
       "       0, 0, 0, 0, 0, 1, 0, 0, 0, 0, 0, 0, 0, 0, 1, 0, 0, 0, 0, 0, 0, 0,\n",
       "       0, 0, 0, 0, 0, 0, 0, 0, 0, 0, 0, 0, 0, 0, 0, 0, 0, 0, 0, 0, 0, 0,\n",
       "       0, 0, 0, 0, 0, 0, 0, 0, 0, 1, 0, 1, 0, 0, 0, 0, 0, 0, 0, 1, 0, 0,\n",
       "       0, 0, 0, 0, 0, 0, 1, 0, 0, 0, 1, 0, 0, 0, 0, 0, 0, 0, 0, 0, 1, 0,\n",
       "       1, 0, 1, 0, 0, 0, 0, 0, 0, 0, 1, 0, 0, 0, 1, 0, 0, 0, 0, 1, 0, 1])"
      ]
     },
     "execution_count": 40,
     "metadata": {},
     "output_type": "execute_result"
    }
   ],
   "source": [
    "y_predict_hp = np.where(y_predict_hp > 0.5,1,0)\n",
    "y_predict_hp"
   ]
  },
  {
   "cell_type": "code",
   "execution_count": 41,
   "id": "57a35f98-5a44-46f1-90d0-4d78daa75ae3",
   "metadata": {},
   "outputs": [
    {
     "data": {
      "text/plain": [
       "array([[722,   2],\n",
       "       [  7, 105]], dtype=int64)"
      ]
     },
     "execution_count": 41,
     "metadata": {},
     "output_type": "execute_result"
    }
   ],
   "source": [
    "cm_hp = confusion_matrix(y_test, y_predict_hp)\n",
    "cm_hp"
   ]
  },
  {
   "cell_type": "code",
   "execution_count": 42,
   "id": "c83b5e8c-b4aa-4e81-b89f-eb7414606872",
   "metadata": {},
   "outputs": [
    {
     "data": {
      "text/plain": [
       "Text(43.25, 0.5, 'Actual')"
      ]
     },
     "execution_count": 42,
     "metadata": {},
     "output_type": "execute_result"
    },
    {
     "data": {
      "image/png": "[encoded data removed]",
      "text/plain": [
       "<Figure size 640x480 with 2 Axes>"
      ]
     },
     "metadata": {},
     "output_type": "display_data"
    }
   ],
   "source": [
    "sns.heatmap(cm_hp, annot=True, fmt = 'd')\n",
    "plt.xlabel('Predicted')\n",
    "plt.ylabel('Actual')"
   ]
  },
  {
   "cell_type": "code",
   "execution_count": 43,
   "id": "b4b89bc9-d61b-4020-b428-9e3fa3d9ef08",
   "metadata": {},
   "outputs": [
    {
     "name": "stdout",
     "output_type": "stream",
     "text": [
      "              precision    recall  f1-score   support\n",
      "\n",
      "         Ham       0.99      1.00      0.99       724\n",
      "        Spam       0.98      0.94      0.96       112\n",
      "\n",
      "    accuracy                           0.99       836\n",
      "   macro avg       0.99      0.97      0.98       836\n",
      "weighted avg       0.99      0.99      0.99       836\n",
      "\n"
     ]
    }
   ],
   "source": [
    "nml_hp = classification_report(y_test, y_predict_hp, target_names=['Ham', 'Spam'])\n",
    "print(nml_hp)"
   ]
  },
  {
   "cell_type": "markdown",
   "id": "4eb9cc80-8a60-4b02-b806-9763b16fb797",
   "metadata": {},
   "source": [
    "## Additional Metrics (ROC-AUC) for BERT\n",
    "<a class=\"anchor\" id=\"5.3\"></a>\n",
    "[Table of Contents](#0.1)"
   ]
  },
  {
   "cell_type": "code",
   "execution_count": 44,
   "id": "a9bdbdc9-22c6-4271-b3cf-82b46939acdd",
   "metadata": {},
   "outputs": [
    {
     "name": "stdout",
     "output_type": "stream",
     "text": [
      "ROC-AUC Score on Test Set: 0.9674\n"
     ]
    }
   ],
   "source": [
    "from sklearn.metrics import roc_auc_score\n",
    "\n",
    "roc_auc_test = roc_auc_score(y_test, y_predict_hp)\n",
    "print(f'ROC-AUC Score on Test Set: {roc_auc_test:.4f}')"
   ]
  },
  {
   "cell_type": "code",
   "execution_count": 45,
   "id": "f9658109-7d93-4d4e-91de-ae74faa22d4d",
   "metadata": {},
   "outputs": [
    {
     "data": {
      "image/png": "[encoded data removed]",
      "text/plain": [
       "<Figure size 640x480 with 1 Axes>"
      ]
     },
     "metadata": {},
     "output_type": "display_data"
    }
   ],
   "source": [
    "from sklearn.metrics import roc_curve, auc\n",
    "\n",
    "# Assuming y_test and y_predict_hp are already defined\n",
    "fpr, tpr, _ = roc_curve(y_test, y_predict_hp)\n",
    "roc_auc = auc(fpr, tpr)\n",
    "\n",
    "# Plotting the ROC curve\n",
    "plt.figure()\n",
    "plt.plot(fpr, tpr, color='darkorange', lw=2, label=f'ROC curve (area = {roc_auc:.4f})')\n",
    "plt.plot([0, 1], [0, 1], color='navy', lw=2, linestyle='--')\n",
    "plt.xlim([0.0, 1.0])\n",
    "plt.ylim([0.0, 1.05])\n",
    "plt.xlabel('False Positive Rate')\n",
    "plt.ylabel('True Positive Rate')\n",
    "plt.title('Receiver Operating Characteristic (ROC) Curve')\n",
    "plt.legend(loc='lower right')\n",
    "plt.show()\n"
   ]
  },
  {
   "cell_type": "code",
   "execution_count": 46,
   "id": "7cad11a1-7b66-4f9d-89da-42f7dfebe755",
   "metadata": {},
   "outputs": [
    {
     "name": "stdout",
     "output_type": "stream",
     "text": [
      "1/1 [==============================] - 1s 921ms/step\n"
     ]
    },
    {
     "data": {
      "text/plain": [
       "array([[0.02172732],\n",
       "       [0.39693063],\n",
       "       [0.2005491 ],\n",
       "       [0.35874367],\n",
       "       [0.00429705]], dtype=float32)"
      ]
     },
     "execution_count": 46,
     "metadata": {},
     "output_type": "execute_result"
    }
   ],
   "source": [
    "# Detection of examples\n",
    "nml_inf_hp = best_model_nml.predict(reviews)\n",
    "nml_inf_hp"
   ]
  },
  {
   "cell_type": "markdown",
   "id": "824ef1c3-1f9b-4355-bc43-c7ca3399075b",
   "metadata": {},
   "source": [
    "## Downsampling Data\n",
    "<a class=\"anchor\" id=\"6\"></a>\n",
    "[Table of Contents](#0.1)"
   ]
  },
  {
   "cell_type": "code",
   "execution_count": 47,
   "id": "13c50633-0f4e-4340-94ae-97d64cfc8539",
   "metadata": {},
   "outputs": [],
   "source": [
    "data_dwn = data.copy(deep=True)"
   ]
  },
  {
   "cell_type": "code",
   "execution_count": 48,
   "id": "8c7a8f77-25b8-479d-98b5-e4620411725a",
   "metadata": {},
   "outputs": [
    {
     "data": {
      "text/html": [
       "<div>\n",
       "<style scoped>\n",
       "    .dataframe tbody tr th:only-of-type {\n",
       "        vertical-align: middle;\n",
       "    }\n",
       "\n",
       "    .dataframe tbody tr th {\n",
       "        vertical-align: top;\n",
       "    }\n",
       "\n",
       "    .dataframe thead th {\n",
       "        text-align: right;\n",
       "    }\n",
       "</style>\n",
       "<table border=\"1\" class=\"dataframe\">\n",
       "  <thead>\n",
       "    <tr style=\"text-align: right;\">\n",
       "      <th></th>\n",
       "      <th>Class</th>\n",
       "      <th>Text</th>\n",
       "    </tr>\n",
       "  </thead>\n",
       "  <tbody>\n",
       "    <tr>\n",
       "      <th>0</th>\n",
       "      <td>0</td>\n",
       "      <td>Go until jurong point, crazy.. Available only ...</td>\n",
       "    </tr>\n",
       "    <tr>\n",
       "      <th>1</th>\n",
       "      <td>0</td>\n",
       "      <td>Ok lar... Joking wif u oni...</td>\n",
       "    </tr>\n",
       "    <tr>\n",
       "      <th>2</th>\n",
       "      <td>1</td>\n",
       "      <td>Free entry in 2 a wkly comp to win FA Cup fina...</td>\n",
       "    </tr>\n",
       "    <tr>\n",
       "      <th>3</th>\n",
       "      <td>0</td>\n",
       "      <td>U dun say so early hor... U c already then say...</td>\n",
       "    </tr>\n",
       "    <tr>\n",
       "      <th>4</th>\n",
       "      <td>0</td>\n",
       "      <td>Nah I don't think he goes to usf, he lives aro...</td>\n",
       "    </tr>\n",
       "  </tbody>\n",
       "</table>\n",
       "</div>"
      ],
      "text/plain": [
       "   Class                                               Text\n",
       "0      0  Go until jurong point, crazy.. Available only ...\n",
       "1      0                      Ok lar... Joking wif u oni...\n",
       "2      1  Free entry in 2 a wkly comp to win FA Cup fina...\n",
       "3      0  U dun say so early hor... U c already then say...\n",
       "4      0  Nah I don't think he goes to usf, he lives aro..."
      ]
     },
     "execution_count": 48,
     "metadata": {},
     "output_type": "execute_result"
    }
   ],
   "source": [
    "data_dwn.head()"
   ]
  },
  {
   "cell_type": "code",
   "execution_count": 49,
   "id": "d9f20a35-b786-4b03-8182-9e3aedc5023e",
   "metadata": {},
   "outputs": [
    {
     "data": {
      "text/plain": [
       "(747, 2)"
      ]
     },
     "execution_count": 49,
     "metadata": {},
     "output_type": "execute_result"
    }
   ],
   "source": [
    "data_spam = data_dwn[data_dwn['Class']==1]\n",
    "data_spam.shape"
   ]
  },
  {
   "cell_type": "code",
   "execution_count": 50,
   "id": "61f25a92-5fc6-41a0-842e-b2e3481cb728",
   "metadata": {},
   "outputs": [
    {
     "data": {
      "text/plain": [
       "(4825, 2)"
      ]
     },
     "execution_count": 50,
     "metadata": {},
     "output_type": "execute_result"
    }
   ],
   "source": [
    "data_ham = data_dwn[data_dwn['Class']==0]\n",
    "data_ham.shape"
   ]
  },
  {
   "cell_type": "code",
   "execution_count": 51,
   "id": "f3ebd37b-d7a7-4033-b091-1586a8208edd",
   "metadata": {},
   "outputs": [
    {
     "data": {
      "text/plain": [
       "(747, 2)"
      ]
     },
     "execution_count": 51,
     "metadata": {},
     "output_type": "execute_result"
    }
   ],
   "source": [
    "data_ham_downsampled = data_ham.sample(data_spam.shape[0])\n",
    "data_ham_downsampled.shape"
   ]
  },
  {
   "cell_type": "code",
   "execution_count": 52,
   "id": "f023b50f-ad51-424a-b332-b5c89662d362",
   "metadata": {},
   "outputs": [
    {
     "data": {
      "text/plain": [
       "(1494, 2)"
      ]
     },
     "execution_count": 52,
     "metadata": {},
     "output_type": "execute_result"
    }
   ],
   "source": [
    "data_balanced_dwn = pd.concat([data_spam,data_ham_downsampled])\n",
    "data_balanced_dwn.shape"
   ]
  },
  {
   "cell_type": "code",
   "execution_count": 53,
   "id": "823619c0-10e0-4c3f-8806-1da0c03b3144",
   "metadata": {},
   "outputs": [
    {
     "data": {
      "text/plain": [
       "Class\n",
       "1    747\n",
       "0    747\n",
       "Name: count, dtype: int64"
      ]
     },
     "execution_count": 53,
     "metadata": {},
     "output_type": "execute_result"
    }
   ],
   "source": [
    "data_balanced_dwn['Class'].value_counts()"
   ]
  },
  {
   "cell_type": "markdown",
   "id": "4e1ba910-e0cb-4db0-a2e5-3d3a7256299f",
   "metadata": {},
   "source": [
    "## Train/Test Splitting\n",
    "<a class=\"anchor\" id=\"6.1\"></a>\n",
    "[Table of Contents](#0.1)"
   ]
  },
  {
   "cell_type": "code",
   "execution_count": 54,
   "id": "d71176c0-a04d-42b1-abd2-00246a348657",
   "metadata": {},
   "outputs": [],
   "source": [
    "X_dwn = data_balanced_dwn['Text']\n",
    "y_dwn = data_balanced_dwn['Class']"
   ]
  },
  {
   "cell_type": "code",
   "execution_count": 55,
   "id": "b7ba78ef-7d6b-4c7e-8030-53d33074010f",
   "metadata": {},
   "outputs": [
    {
     "name": "stdout",
     "output_type": "stream",
     "text": [
      "Training data: 1045, 1045\n",
      "Validation data: 224, 224\n",
      "Testing data: 225, 225\n"
     ]
    }
   ],
   "source": [
    "# Split data into training and temporary sets (60% train, 40% temp)\n",
    "X_train_dwn, X_temp_dwn, y_train_dwn, y_temp_dwn = train_test_split(X_dwn, y_dwn, test_size=0.3, random_state=random_seed, stratify = y_dwn)\n",
    "\n",
    "# Split temporary set into validation and test sets (20% val, 20% test)\n",
    "X_val_dwn, X_test_dwn, y_val_dwn, y_test_dwn = train_test_split(X_temp_dwn, y_temp_dwn, test_size=0.5, random_state=random_seed, stratify = y_temp_dwn)\n",
    "\n",
    "print(f'Training data: {len(X_train_dwn)}, {len(y_train_dwn)}')\n",
    "print(f'Validation data: {len(X_val_dwn)}, {len(y_val_dwn)}') \n",
    "print(f'Testing data: {len(X_test_dwn)}, {len(y_test_dwn)}') "
   ]
  },
  {
   "cell_type": "markdown",
   "id": "fe736d08-626d-445b-bb5a-eb92d9630925",
   "metadata": {},
   "source": [
    "## Model Building\n",
    "<a class=\"anchor\" id=\"6.2\"></a>\n",
    "[Table of Contents](#0.1)"
   ]
  },
  {
   "cell_type": "code",
   "execution_count": 56,
   "id": "416951ac-30cc-44b2-951a-4152e927f45f",
   "metadata": {},
   "outputs": [
    {
     "name": "stdout",
     "output_type": "stream",
     "text": [
      "Epoch 1/20\n",
      "33/33 [==============================] - 18s 534ms/step - loss: 0.7489 - accuracy: 0.7522 - precision: 1.0000 - recall: 0.5048 - val_loss: 0.1234 - val_accuracy: 0.9554 - val_precision: 1.0000 - val_recall: 0.9107 - lr: 2.0000e-05\n",
      "Epoch 2/20\n",
      "33/33 [==============================] - 17s 517ms/step - loss: 0.7105 - accuracy: 0.7732 - precision: 1.0000 - recall: 0.5468 - val_loss: 0.1597 - val_accuracy: 0.9330 - val_precision: 1.0000 - val_recall: 0.8661 - lr: 2.0000e-05\n",
      "Epoch 3/20\n",
      "33/33 [==============================] - 17s 519ms/step - loss: 0.6482 - accuracy: 0.7876 - precision: 1.0000 - recall: 0.5755 - val_loss: 0.1856 - val_accuracy: 0.9241 - val_precision: 1.0000 - val_recall: 0.8482 - lr: 2.0000e-05\n",
      "Epoch 4/20\n",
      "33/33 [==============================] - 17s 524ms/step - loss: 0.6164 - accuracy: 0.8038 - precision: 0.9969 - recall: 0.6099 - val_loss: 0.2278 - val_accuracy: 0.9196 - val_precision: 1.0000 - val_recall: 0.8393 - lr: 4.0000e-06\n",
      "CPU times: total: 49.2 s\n",
      "Wall time: 1min 8s\n"
     ]
    }
   ],
   "source": [
    "%%time\n",
    "# Fit the model\n",
    "history_dwn = model.fit(X_train_dwn, y_train_dwn, epochs=20, \n",
    "                    validation_data=(X_val_dwn, y_val_dwn), \n",
    "                    callbacks=[early_stopping, lr_scheduler])"
   ]
  },
  {
   "cell_type": "markdown",
   "id": "e6ada07b-b87e-4d40-bf2c-f272e839a8f1",
   "metadata": {},
   "source": [
    "### Model Evaluation\n",
    "<a class=\"anchor\" id=\"6.3\"></a>\n",
    "[Table of Contents](#0.1)"
   ]
  },
  {
   "cell_type": "code",
   "execution_count": 57,
   "id": "5cb1f1ec-d6b5-4e70-ad9a-e127883552b1",
   "metadata": {},
   "outputs": [
    {
     "name": "stdout",
     "output_type": "stream",
     "text": [
      "8/8 [==============================] - 3s 376ms/step - loss: 0.1270 - accuracy: 0.9600 - precision: 1.0000 - recall: 0.9196\n",
      "Test Loss: 0.12701144814491272\n",
      "Test Accuracy: 0.9599999785423279\n"
     ]
    }
   ],
   "source": [
    "# Evaluate the model\n",
    "results_dwn = model.evaluate(X_test_dwn, y_test_dwn)\n",
    "print(f\"Test Loss: {results_dwn[0]}\")\n",
    "print(f\"Test Accuracy: {results_dwn[1]}\")"
   ]
  },
  {
   "cell_type": "code",
   "execution_count": 58,
   "id": "e7da641e-5874-481a-87f5-4bb170857e81",
   "metadata": {},
   "outputs": [
    {
     "name": "stdout",
     "output_type": "stream",
     "text": [
      "8/8 [==============================] - 3s 418ms/step\n"
     ]
    }
   ],
   "source": [
    "y_predict_dwn = model.predict(X_test_dwn)\n",
    "y_predict_dwn = y_predict_dwn.flatten()"
   ]
  },
  {
   "cell_type": "code",
   "execution_count": 59,
   "id": "5aaa25e4-4994-43f4-886f-9f49710d80fc",
   "metadata": {},
   "outputs": [
    {
     "data": {
      "text/plain": [
       "array([1, 1, 0, 0, 0, 1, 1, 0, 1, 0, 0, 1, 0, 1, 0, 0, 1, 1, 1, 0, 0, 1,\n",
       "       1, 1, 1, 0, 0, 0, 0, 0, 1, 1, 1, 1, 0, 0, 1, 0, 0, 0, 0, 1, 0, 0,\n",
       "       0, 0, 1, 1, 0, 0, 0, 0, 0, 1, 1, 1, 1, 0, 0, 1, 1, 1, 0, 1, 0, 0,\n",
       "       1, 1, 1, 1, 1, 0, 1, 0, 1, 0, 1, 0, 0, 1, 0, 1, 1, 1, 1, 0, 0, 1,\n",
       "       1, 1, 0, 0, 1, 0, 1, 1, 1, 0, 0, 1, 1, 1, 1, 0, 1, 0, 0, 0, 0, 1,\n",
       "       1, 1, 0, 1, 0, 0, 0, 1, 1, 0, 0, 1, 1, 0, 1, 0, 1, 0, 0, 1, 1, 1,\n",
       "       1, 0, 0, 0, 0, 1, 1, 0, 0, 1, 0, 0, 0, 1, 1, 0, 0, 0, 1, 1, 0, 0,\n",
       "       0, 0, 0, 0, 0, 0, 1, 1, 0, 0, 0, 0, 0, 1, 0, 0, 0, 1, 1, 0, 0, 0,\n",
       "       1, 1, 0, 0, 0, 0, 0, 0, 0, 1, 1, 0, 0, 0, 1, 0, 0, 0, 0, 0, 1, 1,\n",
       "       0, 1, 1, 0, 0, 0, 0, 1, 1, 1, 1, 1, 1, 1, 1, 0, 0, 0, 0, 1, 0, 1,\n",
       "       1, 0, 1, 0, 1])"
      ]
     },
     "execution_count": 59,
     "metadata": {},
     "output_type": "execute_result"
    }
   ],
   "source": [
    "y_predict_dwn = np.where(y_predict_dwn > 0.5,1,0)\n",
    "y_predict_dwn"
   ]
  },
  {
   "cell_type": "code",
   "execution_count": 60,
   "id": "23caf631-2580-4fcf-941e-33df50981525",
   "metadata": {},
   "outputs": [
    {
     "data": {
      "text/plain": [
       "array([[113,   0],\n",
       "       [  9, 103]], dtype=int64)"
      ]
     },
     "execution_count": 60,
     "metadata": {},
     "output_type": "execute_result"
    }
   ],
   "source": [
    "cm_dwn = confusion_matrix(y_test_dwn, y_predict_dwn)\n",
    "cm_dwn"
   ]
  },
  {
   "cell_type": "code",
   "execution_count": 61,
   "id": "3ed7eab3-99d9-41cd-8458-22e72a3b79ab",
   "metadata": {},
   "outputs": [
    {
     "data": {
      "text/plain": [
       "Text(43.25, 0.5, 'Actual')"
      ]
     },
     "execution_count": 61,
     "metadata": {},
     "output_type": "execute_result"
    },
    {
     "data": {
      "image/png": "[encoded data removed]",
      "text/plain": [
       "<Figure size 640x480 with 2 Axes>"
      ]
     },
     "metadata": {},
     "output_type": "display_data"
    }
   ],
   "source": [
    "sns.heatmap(cm_dwn, annot=True, fmt = 'd')\n",
    "plt.xlabel('Predicted')\n",
    "plt.ylabel('Actual')"
   ]
  },
  {
   "cell_type": "code",
   "execution_count": 62,
   "id": "afc7ca7c-8068-4453-bafe-c22ff7e5745f",
   "metadata": {},
   "outputs": [
    {
     "name": "stdout",
     "output_type": "stream",
     "text": [
      "              precision    recall  f1-score   support\n",
      "\n",
      "         Ham       0.93      1.00      0.96       113\n",
      "        Spam       1.00      0.92      0.96       112\n",
      "\n",
      "    accuracy                           0.96       225\n",
      "   macro avg       0.96      0.96      0.96       225\n",
      "weighted avg       0.96      0.96      0.96       225\n",
      "\n"
     ]
    }
   ],
   "source": [
    "dwn = classification_report(y_test_dwn, y_predict_dwn, target_names=['Ham', 'Spam'])\n",
    "print(dwn)"
   ]
  },
  {
   "cell_type": "code",
   "execution_count": 63,
   "id": "71052f06-600d-43cb-ab30-4604c1d72ee2",
   "metadata": {},
   "outputs": [
    {
     "name": "stdout",
     "output_type": "stream",
     "text": [
      "1/1 [==============================] - 0s 47ms/step\n"
     ]
    },
    {
     "data": {
      "text/plain": [
       "array([[0.00748722],\n",
       "       [0.21018825],\n",
       "       [0.08766864],\n",
       "       [0.2078424 ],\n",
       "       [0.00202337]], dtype=float32)"
      ]
     },
     "execution_count": 63,
     "metadata": {},
     "output_type": "execute_result"
    }
   ],
   "source": [
    "# Detection of examples\n",
    "dwn_inf = model.predict(reviews)\n",
    "dwn_inf"
   ]
  },
  {
   "cell_type": "markdown",
   "id": "c63300d0-94c6-44a8-b68d-dd27c1818c8f",
   "metadata": {},
   "source": [
    "## Hyperparameter Tuning with Keras Tuner (Downsampled Data)\n",
    "<a class=\"anchor\" id=\"7\"></a>\n",
    "[Table of Contents](#0.1)"
   ]
  },
  {
   "cell_type": "code",
   "execution_count": 64,
   "id": "2b630ff7-b11c-4e2d-94bb-26668fd27a12",
   "metadata": {},
   "outputs": [
    {
     "name": "stdout",
     "output_type": "stream",
     "text": [
      "Reloading Tuner from C:\\Users\\sathi\\Career\\Internship\\AFAME\\Spam SMS Detection\\BERT\\dwn_model\\tuner0.json\n",
      "CPU times: total: 828 ms\n",
      "Wall time: 1.65 s\n"
     ]
    }
   ],
   "source": [
    "%%time\n",
    "# Initialize Keras Tuner with the existing model\n",
    "tuner = kt.Hyperband(\n",
    "    compile_model,\n",
    "    objective='val_accuracy',\n",
    "    max_epochs=5,\n",
    "    factor=3,\n",
    "    directory=os.getcwd(),\n",
    "    project_name='dwn_model'\n",
    ")\n",
    "\n",
    "# Perform hyperparameter tuning\n",
    "tuner.search(X_train_dwn, y_train_dwn, epochs=5, validation_data=(X_val_dwn, y_val_dwn))\n",
    "\n",
    "# Get the best model\n",
    "best_model_dwn = tuner.get_best_models(num_models=1)[0]"
   ]
  },
  {
   "cell_type": "code",
   "execution_count": 65,
   "id": "5488e061-7902-4f1c-a718-3c8aa295d6a8",
   "metadata": {},
   "outputs": [
    {
     "name": "stdout",
     "output_type": "stream",
     "text": [
      "7/7 [==============================] - 4s 423ms/step - loss: 0.0493 - accuracy: 0.9733 - precision: 0.9953 - recall: 0.9509\n",
      "\n",
      "Validation Loss: 0.046408411115407944\n",
      "Validation Accuracy: 0.9868420958518982\n"
     ]
    }
   ],
   "source": [
    "# Evaluate the best model on the validation set\n",
    "hp_results_val_dwn = best_model_dwn.evaluate(X_val_dwn, y_val_dwn)\n",
    "print(f\"\\nValidation Loss: {hp_results_val[0]}\")\n",
    "print(f\"Validation Accuracy: {hp_results_val[1]}\")"
   ]
  },
  {
   "cell_type": "code",
   "execution_count": 66,
   "id": "a3dbf7b9-ee1c-4ca7-ae15-ae8882b43fad",
   "metadata": {},
   "outputs": [
    {
     "name": "stdout",
     "output_type": "stream",
     "text": [
      "8/8 [==============================] - 4s 372ms/step - loss: 0.1388 - accuracy: 0.9511 - precision: 0.9391 - recall: 0.9643\n",
      "\\Test Loss: 0.13879336416721344\n",
      "Test Accuracy: 0.9511111378669739\n"
     ]
    }
   ],
   "source": [
    "# Evaluate the best model on the Test set\n",
    "hp_results_test_dwn = best_model_dwn.evaluate(X_test_dwn, y_test_dwn)\n",
    "print(f\"\\Test Loss: {hp_results_test_dwn[0]}\")\n",
    "print(f\"Test Accuracy: {hp_results_test_dwn[1]}\")"
   ]
  },
  {
   "cell_type": "markdown",
   "id": "e63007fd-72c0-480e-83ef-a8ae517e9ac9",
   "metadata": {},
   "source": [
    "## Model Building\n",
    "<a class=\"anchor\" id=\"7.1\"></a>\n",
    "[Table of Contents](#0.1)"
   ]
  },
  {
   "cell_type": "code",
   "execution_count": 67,
   "id": "164d7f73-1302-4f3f-aafa-51f9905969d1",
   "metadata": {},
   "outputs": [
    {
     "name": "stdout",
     "output_type": "stream",
     "text": [
      "Epoch 1/20\n",
      "33/33 [==============================] - 21s 547ms/step - loss: 0.2156 - accuracy: 0.9359 - precision: 0.9831 - recall: 0.8872 - val_loss: 0.7917 - val_accuracy: 0.7411 - val_precision: 0.6588 - val_recall: 1.0000 - lr: 0.0010\n",
      "Epoch 2/20\n",
      "33/33 [==============================] - 17s 525ms/step - loss: 0.1898 - accuracy: 0.9349 - precision: 0.9577 - recall: 0.9101 - val_loss: 0.1175 - val_accuracy: 0.9598 - val_precision: 0.9328 - val_recall: 0.9911 - lr: 0.0010\n",
      "Epoch 3/20\n",
      "33/33 [==============================] - 17s 528ms/step - loss: 0.1424 - accuracy: 0.9608 - precision: 0.9671 - recall: 0.9541 - val_loss: 0.0829 - val_accuracy: 0.9777 - val_precision: 0.9908 - val_recall: 0.9643 - lr: 0.0010\n",
      "Epoch 4/20\n",
      "33/33 [==============================] - 17s 527ms/step - loss: 0.1279 - accuracy: 0.9627 - precision: 0.9672 - recall: 0.9579 - val_loss: 0.0738 - val_accuracy: 0.9777 - val_precision: 0.9820 - val_recall: 0.9732 - lr: 0.0010\n",
      "Epoch 5/20\n",
      "33/33 [==============================] - 17s 513ms/step - loss: 0.1582 - accuracy: 0.9541 - precision: 0.9612 - recall: 0.9465 - val_loss: 0.1764 - val_accuracy: 0.9196 - val_precision: 0.8672 - val_recall: 0.9911 - lr: 0.0010\n",
      "Epoch 6/20\n",
      "33/33 [==============================] - 17s 514ms/step - loss: 0.1145 - accuracy: 0.9656 - precision: 0.9692 - recall: 0.9618 - val_loss: 0.1427 - val_accuracy: 0.9420 - val_precision: 0.9024 - val_recall: 0.9911 - lr: 0.0010\n",
      "Epoch 7/20\n",
      "33/33 [==============================] - 17s 527ms/step - loss: 0.1315 - accuracy: 0.9512 - precision: 0.9591 - recall: 0.9426 - val_loss: 0.1130 - val_accuracy: 0.9554 - val_precision: 0.9250 - val_recall: 0.9911 - lr: 2.0000e-04\n",
      "CPU times: total: 1min 29s\n",
      "Wall time: 2min 3s\n"
     ]
    },
    {
     "data": {
      "text/plain": [
       "<keras.callbacks.History at 0x1bd01c623e0>"
      ]
     },
     "execution_count": 67,
     "metadata": {},
     "output_type": "execute_result"
    }
   ],
   "source": [
    "%%time\n",
    "# Fitting best model on X_train, y_train, X_val, y_val, X_test, y_test\n",
    "best_model_dwn.fit(X_train_dwn, y_train_dwn, epochs=20, \n",
    "                    validation_data=(X_val_dwn, y_val_dwn), \n",
    "                    callbacks=[early_stopping, lr_scheduler])"
   ]
  },
  {
   "cell_type": "markdown",
   "id": "ec544e2c-a2b3-4da9-bbf2-9aeaad093312",
   "metadata": {},
   "source": [
    "## Model Evaluation\n",
    "<a class=\"anchor\" id=\"7.2\"></a>\n",
    "[Table of Contents](#0.1)"
   ]
  },
  {
   "cell_type": "code",
   "execution_count": 68,
   "id": "b0d7d6a0-9386-49a3-aff3-4a5373b77e80",
   "metadata": {},
   "outputs": [
    {
     "name": "stdout",
     "output_type": "stream",
     "text": [
      "8/8 [==============================] - 4s 416ms/step\n"
     ]
    }
   ],
   "source": [
    "y_predict_hp_dwn = best_model_dwn.predict(X_test_dwn)\n",
    "y_predict_hp_dwn = y_predict_hp_dwn.flatten()"
   ]
  },
  {
   "cell_type": "code",
   "execution_count": 69,
   "id": "ad5349e4-c443-4ef5-952e-fa0f3c71225a",
   "metadata": {},
   "outputs": [
    {
     "data": {
      "text/plain": [
       "array([1, 1, 0, 0, 0, 1, 1, 0, 1, 0, 0, 1, 0, 1, 0, 0, 1, 1, 1, 0, 1, 1,\n",
       "       1, 1, 1, 0, 0, 0, 0, 0, 1, 1, 1, 1, 1, 0, 1, 0, 0, 0, 0, 1, 0, 0,\n",
       "       0, 0, 1, 1, 0, 0, 0, 0, 0, 1, 1, 1, 1, 0, 0, 1, 1, 1, 0, 1, 0, 0,\n",
       "       1, 1, 1, 1, 1, 0, 1, 0, 1, 0, 1, 0, 0, 1, 0, 1, 1, 1, 1, 0, 0, 1,\n",
       "       1, 1, 0, 0, 1, 0, 1, 1, 1, 0, 0, 1, 1, 1, 1, 0, 1, 0, 1, 0, 0, 1,\n",
       "       1, 1, 0, 1, 0, 0, 0, 1, 1, 0, 0, 1, 1, 0, 1, 0, 1, 0, 0, 1, 1, 1,\n",
       "       1, 0, 0, 0, 0, 1, 1, 0, 0, 1, 0, 0, 0, 1, 1, 0, 0, 0, 1, 1, 0, 0,\n",
       "       0, 0, 0, 0, 0, 0, 1, 1, 0, 0, 0, 0, 0, 1, 0, 0, 0, 1, 1, 0, 0, 0,\n",
       "       1, 1, 0, 0, 0, 0, 0, 0, 0, 1, 1, 0, 0, 0, 1, 0, 0, 0, 0, 0, 1, 1,\n",
       "       1, 1, 1, 1, 1, 0, 0, 1, 1, 1, 1, 1, 1, 1, 1, 1, 0, 0, 0, 1, 0, 1,\n",
       "       1, 0, 1, 0, 1])"
      ]
     },
     "execution_count": 69,
     "metadata": {},
     "output_type": "execute_result"
    }
   ],
   "source": [
    "y_predict_hp_dwn = np.where(y_predict_hp_dwn > 0.5,1,0)\n",
    "y_predict_hp_dwn"
   ]
  },
  {
   "cell_type": "code",
   "execution_count": 70,
   "id": "a7a61c02-7fe1-4a9d-8522-78d624232b45",
   "metadata": {},
   "outputs": [
    {
     "data": {
      "text/plain": [
       "array([[110,   3],\n",
       "       [  5, 107]], dtype=int64)"
      ]
     },
     "execution_count": 70,
     "metadata": {},
     "output_type": "execute_result"
    }
   ],
   "source": [
    "cm_hp_dwn = confusion_matrix(y_test_dwn, y_predict_hp_dwn)\n",
    "cm_hp_dwn"
   ]
  },
  {
   "cell_type": "code",
   "execution_count": 71,
   "id": "d88e760e-b582-4f75-acab-0aa114e2929f",
   "metadata": {},
   "outputs": [
    {
     "data": {
      "text/plain": [
       "Text(43.25, 0.5, 'Actual')"
      ]
     },
     "execution_count": 71,
     "metadata": {},
     "output_type": "execute_result"
    },
    {
     "data": {
      "image/png": "[encoded data removed]",
      "text/plain": [
       "<Figure size 640x480 with 2 Axes>"
      ]
     },
     "metadata": {},
     "output_type": "display_data"
    }
   ],
   "source": [
    "sns.heatmap(cm_hp_dwn, annot=True, fmt = 'd')\n",
    "plt.xlabel('Predicted')\n",
    "plt.ylabel('Actual')"
   ]
  },
  {
   "cell_type": "code",
   "execution_count": 72,
   "id": "d58cdc4d-c1ae-4f9e-81e2-a2d7ab385af4",
   "metadata": {},
   "outputs": [
    {
     "name": "stdout",
     "output_type": "stream",
     "text": [
      "              precision    recall  f1-score   support\n",
      "\n",
      "         Ham       0.96      0.97      0.96       113\n",
      "        Spam       0.97      0.96      0.96       112\n",
      "\n",
      "    accuracy                           0.96       225\n",
      "   macro avg       0.96      0.96      0.96       225\n",
      "weighted avg       0.96      0.96      0.96       225\n",
      "\n"
     ]
    }
   ],
   "source": [
    "dwn_hp = classification_report(y_test_dwn, y_predict_hp_dwn, target_names=['Ham', 'Spam'])\n",
    "print(dwn_hp)"
   ]
  },
  {
   "cell_type": "markdown",
   "id": "3ce4ad86-3680-4b6d-9d1f-4e75feaa81f8",
   "metadata": {},
   "source": [
    "## Additional Metrics (ROC-AUC) for BERT\n",
    "<a class=\"anchor\" id=\"7.3\"></a>\n",
    "[Table of Contents](#0.1)"
   ]
  },
  {
   "cell_type": "code",
   "execution_count": 73,
   "id": "0fe2db2a-2d02-4dbf-a4c3-4fe48ccf6398",
   "metadata": {},
   "outputs": [
    {
     "name": "stdout",
     "output_type": "stream",
     "text": [
      "ROC-AUC Score on Test Set: 0.9644\n"
     ]
    }
   ],
   "source": [
    "roc_auc_test = roc_auc_score(y_test_dwn, y_predict_hp_dwn)\n",
    "print(f'ROC-AUC Score on Test Set: {roc_auc_test:.4f}')"
   ]
  },
  {
   "cell_type": "code",
   "execution_count": 74,
   "id": "e9ec00a7-97ad-423a-ad6c-9fffb4de82d9",
   "metadata": {},
   "outputs": [
    {
     "data": {
      "image/png": "[encoded data removed]",
      "text/plain": [
       "<Figure size 640x480 with 1 Axes>"
      ]
     },
     "metadata": {},
     "output_type": "display_data"
    }
   ],
   "source": [
    "# y_test and y_predict_hp are already defined\n",
    "fpr, tpr, _ = roc_curve(y_test_dwn, y_predict_hp_dwn)\n",
    "roc_auc = auc(fpr, tpr)\n",
    "\n",
    "# Plotting the ROC curve\n",
    "plt.figure()\n",
    "plt.plot(fpr, tpr, color='darkorange', lw=2, label=f'ROC curve (area = {roc_auc:.4f})')\n",
    "plt.plot([0, 1], [0, 1], color='navy', lw=2, linestyle='--')\n",
    "plt.xlim([0.0, 1.0])\n",
    "plt.ylim([0.0, 1.05])\n",
    "plt.xlabel('False Positive Rate')\n",
    "plt.ylabel('True Positive Rate')\n",
    "plt.title('Receiver Operating Characteristic (ROC) Curve')\n",
    "plt.legend(loc='lower right')\n",
    "plt.show()"
   ]
  },
  {
   "cell_type": "code",
   "execution_count": 75,
   "id": "38d288c2-ca66-48d6-873a-09cf7c200d7c",
   "metadata": {},
   "outputs": [
    {
     "name": "stdout",
     "output_type": "stream",
     "text": [
      "1/1 [==============================] - 1s 839ms/step\n"
     ]
    },
    {
     "data": {
      "text/plain": [
       "array([[0.04702015],\n",
       "       [0.44492415],\n",
       "       [0.8023651 ],\n",
       "       [0.7688524 ],\n",
       "       [0.00090111]], dtype=float32)"
      ]
     },
     "execution_count": 75,
     "metadata": {},
     "output_type": "execute_result"
    }
   ],
   "source": [
    "# Detection of examples\n",
    "dwn_inf_hp = best_model_dwn.predict(reviews)\n",
    "dwn_inf_hp"
   ]
  },
  {
   "cell_type": "markdown",
   "id": "12bcb7eb-08bd-4f78-90a0-82cb8772b004",
   "metadata": {},
   "source": [
    "## Upsampling Data\n",
    "<a class=\"anchor\" id=\"8\"></a>\n",
    "[Table of Contents](#0.1)"
   ]
  },
  {
   "cell_type": "code",
   "execution_count": 76,
   "id": "c971b86e-fcb1-4795-9f3e-420ea5b2350d",
   "metadata": {},
   "outputs": [
    {
     "data": {
      "text/html": [
       "<div>\n",
       "<style scoped>\n",
       "    .dataframe tbody tr th:only-of-type {\n",
       "        vertical-align: middle;\n",
       "    }\n",
       "\n",
       "    .dataframe tbody tr th {\n",
       "        vertical-align: top;\n",
       "    }\n",
       "\n",
       "    .dataframe thead th {\n",
       "        text-align: right;\n",
       "    }\n",
       "</style>\n",
       "<table border=\"1\" class=\"dataframe\">\n",
       "  <thead>\n",
       "    <tr style=\"text-align: right;\">\n",
       "      <th></th>\n",
       "      <th>Class</th>\n",
       "      <th>Text</th>\n",
       "    </tr>\n",
       "  </thead>\n",
       "  <tbody>\n",
       "    <tr>\n",
       "      <th>0</th>\n",
       "      <td>0</td>\n",
       "      <td>Go until jurong point, crazy.. Available only ...</td>\n",
       "    </tr>\n",
       "    <tr>\n",
       "      <th>1</th>\n",
       "      <td>0</td>\n",
       "      <td>Ok lar... Joking wif u oni...</td>\n",
       "    </tr>\n",
       "    <tr>\n",
       "      <th>2</th>\n",
       "      <td>1</td>\n",
       "      <td>Free entry in 2 a wkly comp to win FA Cup fina...</td>\n",
       "    </tr>\n",
       "    <tr>\n",
       "      <th>3</th>\n",
       "      <td>0</td>\n",
       "      <td>U dun say so early hor... U c already then say...</td>\n",
       "    </tr>\n",
       "    <tr>\n",
       "      <th>4</th>\n",
       "      <td>0</td>\n",
       "      <td>Nah I don't think he goes to usf, he lives aro...</td>\n",
       "    </tr>\n",
       "    <tr>\n",
       "      <th>...</th>\n",
       "      <td>...</td>\n",
       "      <td>...</td>\n",
       "    </tr>\n",
       "    <tr>\n",
       "      <th>5567</th>\n",
       "      <td>1</td>\n",
       "      <td>This is the 2nd time we have tried 2 contact u...</td>\n",
       "    </tr>\n",
       "    <tr>\n",
       "      <th>5568</th>\n",
       "      <td>0</td>\n",
       "      <td>Will Ì_ b going to esplanade fr home?</td>\n",
       "    </tr>\n",
       "    <tr>\n",
       "      <th>5569</th>\n",
       "      <td>0</td>\n",
       "      <td>Pity, * was in mood for that. So...any other s...</td>\n",
       "    </tr>\n",
       "    <tr>\n",
       "      <th>5570</th>\n",
       "      <td>0</td>\n",
       "      <td>The guy did some bitching but I acted like i'd...</td>\n",
       "    </tr>\n",
       "    <tr>\n",
       "      <th>5571</th>\n",
       "      <td>0</td>\n",
       "      <td>Rofl. Its true to its name</td>\n",
       "    </tr>\n",
       "  </tbody>\n",
       "</table>\n",
       "<p>5572 rows × 2 columns</p>\n",
       "</div>"
      ],
      "text/plain": [
       "      Class                                               Text\n",
       "0         0  Go until jurong point, crazy.. Available only ...\n",
       "1         0                      Ok lar... Joking wif u oni...\n",
       "2         1  Free entry in 2 a wkly comp to win FA Cup fina...\n",
       "3         0  U dun say so early hor... U c already then say...\n",
       "4         0  Nah I don't think he goes to usf, he lives aro...\n",
       "...     ...                                                ...\n",
       "5567      1  This is the 2nd time we have tried 2 contact u...\n",
       "5568      0              Will Ì_ b going to esplanade fr home?\n",
       "5569      0  Pity, * was in mood for that. So...any other s...\n",
       "5570      0  The guy did some bitching but I acted like i'd...\n",
       "5571      0                         Rofl. Its true to its name\n",
       "\n",
       "[5572 rows x 2 columns]"
      ]
     },
     "execution_count": 76,
     "metadata": {},
     "output_type": "execute_result"
    }
   ],
   "source": [
    "data_up = data.copy(deep=True)\n",
    "data_up"
   ]
  },
  {
   "cell_type": "code",
   "execution_count": 77,
   "id": "871f11f9-6977-4d7d-a164-92cd7baaab42",
   "metadata": {},
   "outputs": [
    {
     "data": {
      "text/plain": [
       "(747, 2)"
      ]
     },
     "execution_count": 77,
     "metadata": {},
     "output_type": "execute_result"
    }
   ],
   "source": [
    "data_spam_up = data_up[data_up['Class']==1]\n",
    "data_spam_up.shape"
   ]
  },
  {
   "cell_type": "code",
   "execution_count": 78,
   "id": "573011ed-6c55-4141-ab6a-688969d28bf9",
   "metadata": {},
   "outputs": [
    {
     "data": {
      "text/plain": [
       "(4825, 2)"
      ]
     },
     "execution_count": 78,
     "metadata": {},
     "output_type": "execute_result"
    }
   ],
   "source": [
    "data_ham_up = data_up[data_up['Class']==0]\n",
    "data_ham_up.shape"
   ]
  },
  {
   "cell_type": "code",
   "execution_count": 79,
   "id": "11654df4-e69b-445a-b5f4-43fd8c3908a8",
   "metadata": {},
   "outputs": [
    {
     "data": {
      "text/plain": [
       "(4825, 2)"
      ]
     },
     "execution_count": 79,
     "metadata": {},
     "output_type": "execute_result"
    }
   ],
   "source": [
    "data_spam_upsampled = data_spam_up.sample(data_ham_up.shape[0], replace=True)\n",
    "data_spam_upsampled.shape"
   ]
  },
  {
   "cell_type": "code",
   "execution_count": 80,
   "id": "6c5615e6-3f60-48ca-9ae6-e195a4fff701",
   "metadata": {},
   "outputs": [
    {
     "data": {
      "text/plain": [
       "(9650, 2)"
      ]
     },
     "execution_count": 80,
     "metadata": {},
     "output_type": "execute_result"
    }
   ],
   "source": [
    "data_balanced_up = pd.concat([data_ham_up,data_spam_upsampled])\n",
    "data_balanced_up.shape"
   ]
  },
  {
   "cell_type": "code",
   "execution_count": 81,
   "id": "91f4584a-4c20-46fa-a0d9-56a0c63aa6ae",
   "metadata": {},
   "outputs": [
    {
     "data": {
      "text/plain": [
       "Class\n",
       "0    4825\n",
       "1    4825\n",
       "Name: count, dtype: int64"
      ]
     },
     "execution_count": 81,
     "metadata": {},
     "output_type": "execute_result"
    }
   ],
   "source": [
    "data_balanced_up['Class'].value_counts()"
   ]
  },
  {
   "cell_type": "markdown",
   "id": "ae19df2c-bb8b-4374-97f8-45dc9ac504b1",
   "metadata": {},
   "source": [
    "## Train/Test Splitting\n",
    "<a class=\"anchor\" id=\"8.1\"></a>\n",
    "[Table of Contents](#0.1)"
   ]
  },
  {
   "cell_type": "code",
   "execution_count": 82,
   "id": "39446ea1-04ff-4a57-95f6-d4ddacc49f03",
   "metadata": {},
   "outputs": [],
   "source": [
    "X_up = data_balanced_up['Text']\n",
    "y_up = data_balanced_up['Class']"
   ]
  },
  {
   "cell_type": "code",
   "execution_count": 83,
   "id": "963342f9-ae39-408a-a4ad-1f3f517f170b",
   "metadata": {},
   "outputs": [
    {
     "name": "stdout",
     "output_type": "stream",
     "text": [
      "Training data: 6755, 6755\n",
      "Validation data: 1447, 1447\n",
      "Testing data: 1448, 1448\n"
     ]
    }
   ],
   "source": [
    "# Split data into training and temporary sets (60% train, 40% temp)\n",
    "X_train_up, X_temp_up, y_train_up, y_temp_up = train_test_split(X_up, y_up, test_size=0.3, random_state=random_seed, stratify = y_up)\n",
    "\n",
    "# Split temporary set into validation and test sets (20% val, 20% test)\n",
    "X_val_up, X_test_up, y_val_up, y_test_up = train_test_split(X_temp_up, y_temp_up, test_size=0.5, random_state=random_seed, stratify = y_temp_up)\n",
    "\n",
    "print(f'Training data: {len(X_train_up)}, {len(y_train_up)}')\n",
    "print(f'Validation data: {len(X_val_up)}, {len(y_val_up)}') \n",
    "print(f'Testing data: {len(X_test_up)}, {len(y_test_up)}') "
   ]
  },
  {
   "cell_type": "markdown",
   "id": "c0e49457-bf18-40ef-ad49-645f7bf720e0",
   "metadata": {},
   "source": [
    "## Model Building\n",
    "<a class=\"anchor\" id=\"8.2\"></a>\n",
    "[Table of Contents](#0.1)"
   ]
  },
  {
   "cell_type": "code",
   "execution_count": 84,
   "id": "cc65c7d6-e72a-409a-b510-7e19fd400bef",
   "metadata": {},
   "outputs": [
    {
     "name": "stdout",
     "output_type": "stream",
     "text": [
      "Epoch 1/20\n",
      "212/212 [==============================] - 111s 522ms/step - loss: 0.1430 - accuracy: 0.9560 - precision: 0.9622 - recall: 0.9494 - val_loss: 0.0633 - val_accuracy: 0.9786 - val_precision: 0.9613 - val_recall: 0.9972 - lr: 2.0000e-04\n",
      "Epoch 2/20\n",
      "212/212 [==============================] - 109s 516ms/step - loss: 0.1374 - accuracy: 0.9560 - precision: 0.9573 - recall: 0.9547 - val_loss: 0.0504 - val_accuracy: 0.9834 - val_precision: 0.9768 - val_recall: 0.9903 - lr: 2.0000e-04\n",
      "Epoch 3/20\n",
      "212/212 [==============================] - 110s 521ms/step - loss: 0.1221 - accuracy: 0.9587 - precision: 0.9605 - recall: 0.9568 - val_loss: 0.0529 - val_accuracy: 0.9786 - val_precision: 0.9873 - val_recall: 0.9696 - lr: 2.0000e-04\n",
      "Epoch 4/20\n",
      "212/212 [==============================] - 111s 525ms/step - loss: 0.1245 - accuracy: 0.9585 - precision: 0.9586 - recall: 0.9586 - val_loss: 0.0444 - val_accuracy: 0.9869 - val_precision: 0.9848 - val_recall: 0.9889 - lr: 2.0000e-04\n",
      "Epoch 5/20\n",
      "212/212 [==============================] - 111s 522ms/step - loss: 0.1109 - accuracy: 0.9634 - precision: 0.9636 - recall: 0.9633 - val_loss: 0.0470 - val_accuracy: 0.9834 - val_precision: 0.9794 - val_recall: 0.9876 - lr: 2.0000e-04\n",
      "Epoch 6/20\n",
      "212/212 [==============================] - 110s 521ms/step - loss: 0.1191 - accuracy: 0.9617 - precision: 0.9637 - recall: 0.9594 - val_loss: 0.0523 - val_accuracy: 0.9779 - val_precision: 0.9832 - val_recall: 0.9723 - lr: 2.0000e-04\n",
      "Epoch 7/20\n",
      "212/212 [==============================] - 111s 522ms/step - loss: 0.1056 - accuracy: 0.9639 - precision: 0.9628 - recall: 0.9651 - val_loss: 0.0428 - val_accuracy: 0.9862 - val_precision: 0.9835 - val_recall: 0.9889 - lr: 4.0000e-05\n",
      "Epoch 8/20\n",
      "212/212 [==============================] - 111s 525ms/step - loss: 0.1062 - accuracy: 0.9630 - precision: 0.9633 - recall: 0.9627 - val_loss: 0.0425 - val_accuracy: 0.9889 - val_precision: 0.9862 - val_recall: 0.9917 - lr: 4.0000e-05\n",
      "Epoch 9/20\n",
      "212/212 [==============================] - 112s 527ms/step - loss: 0.0998 - accuracy: 0.9633 - precision: 0.9606 - recall: 0.9663 - val_loss: 0.0425 - val_accuracy: 0.9883 - val_precision: 0.9849 - val_recall: 0.9917 - lr: 4.0000e-05\n",
      "Epoch 10/20\n",
      "212/212 [==============================] - 114s 539ms/step - loss: 0.1071 - accuracy: 0.9630 - precision: 0.9630 - recall: 0.9630 - val_loss: 0.0431 - val_accuracy: 0.9883 - val_precision: 0.9862 - val_recall: 0.9903 - lr: 4.0000e-05\n",
      "Epoch 11/20\n",
      "212/212 [==============================] - 113s 533ms/step - loss: 0.1030 - accuracy: 0.9662 - precision: 0.9668 - recall: 0.9657 - val_loss: 0.0424 - val_accuracy: 0.9883 - val_precision: 0.9849 - val_recall: 0.9917 - lr: 8.0000e-06\n",
      "Epoch 12/20\n",
      "212/212 [==============================] - 112s 528ms/step - loss: 0.1062 - accuracy: 0.9654 - precision: 0.9621 - recall: 0.9689 - val_loss: 0.0427 - val_accuracy: 0.9855 - val_precision: 0.9769 - val_recall: 0.9945 - lr: 8.0000e-06\n",
      "Epoch 13/20\n",
      "212/212 [==============================] - 112s 527ms/step - loss: 0.1018 - accuracy: 0.9624 - precision: 0.9613 - recall: 0.9636 - val_loss: 0.0414 - val_accuracy: 0.9889 - val_precision: 0.9862 - val_recall: 0.9917 - lr: 1.6000e-06\n",
      "Epoch 14/20\n",
      "212/212 [==============================] - 112s 528ms/step - loss: 0.1032 - accuracy: 0.9643 - precision: 0.9636 - recall: 0.9651 - val_loss: 0.0417 - val_accuracy: 0.9883 - val_precision: 0.9849 - val_recall: 0.9917 - lr: 1.6000e-06\n",
      "Epoch 15/20\n",
      "212/212 [==============================] - 112s 527ms/step - loss: 0.1029 - accuracy: 0.9657 - precision: 0.9637 - recall: 0.9677 - val_loss: 0.0416 - val_accuracy: 0.9889 - val_precision: 0.9862 - val_recall: 0.9917 - lr: 1.6000e-06\n",
      "Epoch 16/20\n",
      "212/212 [==============================] - 112s 528ms/step - loss: 0.1084 - accuracy: 0.9631 - precision: 0.9636 - recall: 0.9627 - val_loss: 0.0417 - val_accuracy: 0.9889 - val_precision: 0.9862 - val_recall: 0.9917 - lr: 3.2000e-07\n",
      "CPU times: total: 20min 25s\n",
      "Wall time: 29min 42s\n"
     ]
    }
   ],
   "source": [
    "%%time\n",
    "# Fit the model\n",
    "history_up = model.fit(X_train_up, y_train_up, epochs=20, \n",
    "                    validation_data=(X_val_up, y_val_up), \n",
    "                    callbacks=[early_stopping, lr_scheduler])"
   ]
  },
  {
   "cell_type": "markdown",
   "id": "3e312355-caef-49bd-aec1-b72307946061",
   "metadata": {},
   "source": [
    "## Model Evaluation\n",
    "<a class=\"anchor\" id=\"8.3\"></a>\n",
    "[Table of Contents](#0.1)"
   ]
  },
  {
   "cell_type": "code",
   "execution_count": 85,
   "id": "10e53d58-04b4-4056-9533-8b189d87ccb1",
   "metadata": {},
   "outputs": [
    {
     "name": "stdout",
     "output_type": "stream",
     "text": [
      "46/46 [==============================] - 20s 425ms/step - loss: 0.0483 - accuracy: 0.9827 - precision: 0.9781 - recall: 0.9876\n",
      "Test Loss: 0.04834875836968422\n",
      "Test Accuracy: 0.9827347993850708\n"
     ]
    }
   ],
   "source": [
    "# Evaluate the model\n",
    "results_up = model.evaluate(X_test_up, y_test_up)\n",
    "print(f\"Test Loss: {results_up[0]}\")\n",
    "print(f\"Test Accuracy: {results_up[1]}\")"
   ]
  },
  {
   "cell_type": "code",
   "execution_count": 86,
   "id": "0dfb877c-45ab-49b6-8ba5-c420df2be20f",
   "metadata": {},
   "outputs": [
    {
     "name": "stdout",
     "output_type": "stream",
     "text": [
      "46/46 [==============================] - 19s 423ms/step\n"
     ]
    }
   ],
   "source": [
    "y_predict_up = model.predict(X_test_up)\n",
    "y_predict_up = y_predict_up.flatten()"
   ]
  },
  {
   "cell_type": "code",
   "execution_count": 87,
   "id": "198619c4-8902-4611-9497-e51e552eb16b",
   "metadata": {},
   "outputs": [
    {
     "data": {
      "text/plain": [
       "array([1, 1, 1, ..., 1, 0, 1])"
      ]
     },
     "execution_count": 87,
     "metadata": {},
     "output_type": "execute_result"
    }
   ],
   "source": [
    "y_predict_up = np.where(y_predict_up > 0.5,1,0)\n",
    "y_predict_up"
   ]
  },
  {
   "cell_type": "code",
   "execution_count": 88,
   "id": "06364ec6-83e8-44c5-b0d1-ae6be5428a73",
   "metadata": {},
   "outputs": [
    {
     "data": {
      "text/plain": [
       "array([[708,  16],\n",
       "       [  9, 715]], dtype=int64)"
      ]
     },
     "execution_count": 88,
     "metadata": {},
     "output_type": "execute_result"
    }
   ],
   "source": [
    "cm_up = confusion_matrix(y_test_up, y_predict_up)\n",
    "cm_up"
   ]
  },
  {
   "cell_type": "code",
   "execution_count": 89,
   "id": "d5632547-c2e7-40b1-acfe-55fcd6bae106",
   "metadata": {},
   "outputs": [
    {
     "data": {
      "text/plain": [
       "Text(43.25, 0.5, 'Actual')"
      ]
     },
     "execution_count": 89,
     "metadata": {},
     "output_type": "execute_result"
    },
    {
     "data": {
      "image/png": "[encoded data removed]",
      "text/plain": [
       "<Figure size 640x480 with 2 Axes>"
      ]
     },
     "metadata": {},
     "output_type": "display_data"
    }
   ],
   "source": [
    "sns.heatmap(cm_up, annot=True, fmt = 'd')\n",
    "plt.xlabel('Predicted')\n",
    "plt.ylabel('Actual')"
   ]
  },
  {
   "cell_type": "code",
   "execution_count": 90,
   "id": "2a14e13e-ea6a-455d-bffb-c0140afbaad8",
   "metadata": {},
   "outputs": [
    {
     "name": "stdout",
     "output_type": "stream",
     "text": [
      "              precision    recall  f1-score   support\n",
      "\n",
      "         Ham       0.99      0.98      0.98       724\n",
      "        Spam       0.98      0.99      0.98       724\n",
      "\n",
      "    accuracy                           0.98      1448\n",
      "   macro avg       0.98      0.98      0.98      1448\n",
      "weighted avg       0.98      0.98      0.98      1448\n",
      "\n"
     ]
    }
   ],
   "source": [
    "up = classification_report(y_test_up, y_predict_up, target_names=['Ham', 'Spam'])\n",
    "print(up)"
   ]
  },
  {
   "cell_type": "code",
   "execution_count": 91,
   "id": "7dc2bdd9-8211-4490-a9a8-7a2ffb36570f",
   "metadata": {},
   "outputs": [
    {
     "name": "stdout",
     "output_type": "stream",
     "text": [
      "1/1 [==============================] - 0s 48ms/step\n"
     ]
    },
    {
     "data": {
      "text/plain": [
       "array([[0.21406454],\n",
       "       [0.7806962 ],\n",
       "       [0.7113453 ],\n",
       "       [0.7660223 ],\n",
       "       [0.00785503]], dtype=float32)"
      ]
     },
     "execution_count": 91,
     "metadata": {},
     "output_type": "execute_result"
    }
   ],
   "source": [
    "# Detection of examples\n",
    "up_inf = model.predict(reviews)\n",
    "up_inf"
   ]
  },
  {
   "cell_type": "markdown",
   "id": "d8c3cdb4-bc1a-4226-bfd4-134e9617dda5",
   "metadata": {},
   "source": [
    "## Hyperparameter Tuning with Keras Tuner (Upsampled Data)\n",
    "<a class=\"anchor\" id=\"9\"></a>\n",
    "[Table of Contents](#0.1)"
   ]
  },
  {
   "cell_type": "code",
   "execution_count": 92,
   "id": "43fc49dd-d4ce-4e16-8e62-b68790407295",
   "metadata": {},
   "outputs": [
    {
     "name": "stdout",
     "output_type": "stream",
     "text": [
      "Reloading Tuner from C:\\Users\\sathi\\Career\\Internship\\AFAME\\Spam SMS Detection\\BERT\\up_model\\tuner0.json\n",
      "CPU times: total: 812 ms\n",
      "Wall time: 2.2 s\n"
     ]
    }
   ],
   "source": [
    "%%time\n",
    "# Initialize Keras Tuner with the existing model\n",
    "tuner = kt.Hyperband(\n",
    "    compile_model,\n",
    "    objective='val_accuracy',\n",
    "    max_epochs=5,\n",
    "    factor=3,\n",
    "    directory=os.getcwd(),\n",
    "    project_name='up_model'\n",
    ")\n",
    "\n",
    "# Perform hyperparameter tuning\n",
    "tuner.search(X_train_up, y_train_up, epochs=5, validation_data=(X_val_up, y_val_up))\n",
    "\n",
    "# Get the best model\n",
    "best_model_up = tuner.get_best_models(num_models=1)[0]"
   ]
  },
  {
   "cell_type": "code",
   "execution_count": 93,
   "id": "6fed0f59-edb1-4bf9-993c-a44e96dba7f4",
   "metadata": {},
   "outputs": [
    {
     "name": "stdout",
     "output_type": "stream",
     "text": [
      "46/46 [==============================] - 21s 424ms/step - loss: 0.2839 - accuracy: 0.9592 - precision: 0.9819 - recall: 0.9357\n",
      "\n",
      "Validation Loss: 0.28387752175331116\n",
      "Validation Accuracy: 0.9592400789260864\n"
     ]
    }
   ],
   "source": [
    "# Evaluate the best model on the validation set\n",
    "hp_results_val_up = best_model_up.evaluate(X_val_up, y_val_up)\n",
    "print(f\"\\nValidation Loss: {hp_results_val_up[0]}\")\n",
    "print(f\"Validation Accuracy: {hp_results_val_up[1]}\")"
   ]
  },
  {
   "cell_type": "code",
   "execution_count": 94,
   "id": "e8e0cffc-a17c-4e5c-bc3d-3601fbc85269",
   "metadata": {},
   "outputs": [
    {
     "name": "stdout",
     "output_type": "stream",
     "text": [
      "46/46 [==============================] - 20s 425ms/step - loss: 0.3052 - accuracy: 0.9289 - precision: 0.9829 - recall: 0.8729\n",
      "\\Test Loss: 0.3051791191101074\n",
      "Test Accuracy: 0.9288673996925354\n"
     ]
    }
   ],
   "source": [
    "# Evaluate the best model on the Test set\n",
    "hp_results_test_up = best_model_up.evaluate(X_test_up, y_test_up)\n",
    "print(f\"\\Test Loss: {hp_results_test_up[0]}\")\n",
    "print(f\"Test Accuracy: {hp_results_test_up[1]}\")"
   ]
  },
  {
   "cell_type": "markdown",
   "id": "a97f8e57-50ca-445b-8385-0ad87047c03b",
   "metadata": {},
   "source": [
    "## Model Building\n",
    "<a class=\"anchor\" id=\"9.1\"></a>\n",
    "[Table of Contents](#0.1)"
   ]
  },
  {
   "cell_type": "code",
   "execution_count": 95,
   "id": "dbc55aed-1ced-41e9-b5d5-ae2be3f54a97",
   "metadata": {},
   "outputs": [
    {
     "name": "stdout",
     "output_type": "stream",
     "text": [
      "Epoch 1/20\n",
      "212/212 [==============================] - 115s 528ms/step - loss: 0.1590 - accuracy: 0.9442 - precision: 0.9446 - recall: 0.9438 - val_loss: 0.1823 - val_accuracy: 0.9302 - val_precision: 0.8793 - val_recall: 0.9972 - lr: 0.0100\n",
      "Epoch 2/20\n",
      "212/212 [==============================] - 113s 532ms/step - loss: 0.1397 - accuracy: 0.9482 - precision: 0.9487 - recall: 0.9476 - val_loss: 0.0907 - val_accuracy: 0.9682 - val_precision: 0.9971 - val_recall: 0.9391 - lr: 0.0100\n",
      "Epoch 3/20\n",
      "212/212 [==============================] - 112s 529ms/step - loss: 0.1398 - accuracy: 0.9510 - precision: 0.9533 - recall: 0.9485 - val_loss: 0.5105 - val_accuracy: 0.7630 - val_precision: 0.6782 - val_recall: 1.0000 - lr: 0.0100\n",
      "Epoch 4/20\n",
      "212/212 [==============================] - 110s 520ms/step - loss: 0.1400 - accuracy: 0.9491 - precision: 0.9496 - recall: 0.9485 - val_loss: 0.0769 - val_accuracy: 0.9730 - val_precision: 0.9817 - val_recall: 0.9640 - lr: 0.0100\n",
      "Epoch 5/20\n",
      "212/212 [==============================] - 110s 518ms/step - loss: 0.1226 - accuracy: 0.9565 - precision: 0.9589 - recall: 0.9538 - val_loss: 0.0684 - val_accuracy: 0.9744 - val_precision: 0.9738 - val_recall: 0.9751 - lr: 0.0100\n",
      "Epoch 6/20\n",
      "212/212 [==============================] - 112s 530ms/step - loss: 0.1300 - accuracy: 0.9510 - precision: 0.9538 - recall: 0.9479 - val_loss: 0.0652 - val_accuracy: 0.9737 - val_precision: 0.9561 - val_recall: 0.9931 - lr: 0.0100\n",
      "Epoch 7/20\n",
      "212/212 [==============================] - 112s 530ms/step - loss: 0.1250 - accuracy: 0.9560 - precision: 0.9586 - recall: 0.9532 - val_loss: 0.0522 - val_accuracy: 0.9793 - val_precision: 0.9846 - val_recall: 0.9737 - lr: 0.0100\n",
      "Epoch 8/20\n",
      "212/212 [==============================] - 111s 524ms/step - loss: 0.1160 - accuracy: 0.9596 - precision: 0.9622 - recall: 0.9568 - val_loss: 0.0911 - val_accuracy: 0.9634 - val_precision: 0.9589 - val_recall: 0.9682 - lr: 0.0100\n",
      "Epoch 9/20\n",
      "212/212 [==============================] - 110s 520ms/step - loss: 0.1182 - accuracy: 0.9587 - precision: 0.9610 - recall: 0.9562 - val_loss: 0.0638 - val_accuracy: 0.9772 - val_precision: 0.9650 - val_recall: 0.9903 - lr: 0.0100\n",
      "Epoch 10/20\n",
      "212/212 [==============================] - 111s 525ms/step - loss: 0.1066 - accuracy: 0.9618 - precision: 0.9594 - recall: 0.9645 - val_loss: 0.0484 - val_accuracy: 0.9827 - val_precision: 0.9929 - val_recall: 0.9723 - lr: 0.0020\n",
      "Epoch 11/20\n",
      "212/212 [==============================] - 113s 534ms/step - loss: 0.1021 - accuracy: 0.9633 - precision: 0.9677 - recall: 0.9586 - val_loss: 0.0475 - val_accuracy: 0.9862 - val_precision: 0.9930 - val_recall: 0.9793 - lr: 0.0020\n",
      "Epoch 12/20\n",
      "212/212 [==============================] - 112s 528ms/step - loss: 0.0997 - accuracy: 0.9645 - precision: 0.9656 - recall: 0.9633 - val_loss: 0.0418 - val_accuracy: 0.9896 - val_precision: 0.9876 - val_recall: 0.9917 - lr: 0.0020\n",
      "Epoch 13/20\n",
      "212/212 [==============================] - 111s 525ms/step - loss: 0.1025 - accuracy: 0.9643 - precision: 0.9656 - recall: 0.9630 - val_loss: 0.0560 - val_accuracy: 0.9800 - val_precision: 0.9957 - val_recall: 0.9640 - lr: 0.0020\n",
      "Epoch 14/20\n",
      "212/212 [==============================] - 112s 529ms/step - loss: 0.1062 - accuracy: 0.9627 - precision: 0.9649 - recall: 0.9603 - val_loss: 0.0441 - val_accuracy: 0.9876 - val_precision: 0.9930 - val_recall: 0.9820 - lr: 0.0020\n",
      "Epoch 15/20\n",
      "212/212 [==============================] - 111s 525ms/step - loss: 0.0974 - accuracy: 0.9661 - precision: 0.9679 - recall: 0.9642 - val_loss: 0.0427 - val_accuracy: 0.9896 - val_precision: 0.9917 - val_recall: 0.9876 - lr: 4.0000e-04\n",
      "CPU times: total: 19min 5s\n",
      "Wall time: 27min 56s\n"
     ]
    },
    {
     "data": {
      "text/plain": [
       "<keras.callbacks.History at 0x1be44de0640>"
      ]
     },
     "execution_count": 95,
     "metadata": {},
     "output_type": "execute_result"
    }
   ],
   "source": [
    "%%time\n",
    "# Fitting best model on X_train, y_train, X_val, y_val, X_test, y_test\n",
    "best_model_up.fit(X_train_up, y_train_up, epochs=20, \n",
    "                    validation_data=(X_val_up, y_val_up), \n",
    "                    callbacks=[early_stopping, lr_scheduler])"
   ]
  },
  {
   "cell_type": "markdown",
   "id": "83362c65-aed4-438a-a6db-745395d4fb22",
   "metadata": {},
   "source": [
    "## Model Evaluation\n",
    "<a class=\"anchor\" id=\"9.2\"></a>\n",
    "[Table of Contents](#0.1)"
   ]
  },
  {
   "cell_type": "code",
   "execution_count": 96,
   "id": "6788681b-4e3e-40c1-9cfa-8bd31ce46571",
   "metadata": {},
   "outputs": [
    {
     "name": "stdout",
     "output_type": "stream",
     "text": [
      "46/46 [==============================] - 20s 421ms/step\n"
     ]
    }
   ],
   "source": [
    "y_predict_hp_up = best_model_up.predict(X_test_up)\n",
    "y_predict_hp_up = y_predict_hp_up.flatten()"
   ]
  },
  {
   "cell_type": "code",
   "execution_count": 97,
   "id": "125c9e8b-c395-490e-bd0d-d4ee061a7450",
   "metadata": {},
   "outputs": [
    {
     "data": {
      "text/plain": [
       "array([1, 1, 1, ..., 1, 0, 1])"
      ]
     },
     "execution_count": 97,
     "metadata": {},
     "output_type": "execute_result"
    }
   ],
   "source": [
    "y_predict_hp_up = np.where(y_predict_hp_up > 0.5,1,0)\n",
    "y_predict_hp_up"
   ]
  },
  {
   "cell_type": "code",
   "execution_count": 98,
   "id": "d35618b4-8e63-45ac-adc7-350709c70415",
   "metadata": {},
   "outputs": [
    {
     "data": {
      "text/plain": [
       "array([[708,  16],\n",
       "       [  8, 716]], dtype=int64)"
      ]
     },
     "execution_count": 98,
     "metadata": {},
     "output_type": "execute_result"
    }
   ],
   "source": [
    "cm_hp_up = confusion_matrix(y_test_up, y_predict_hp_up)\n",
    "cm_hp_up"
   ]
  },
  {
   "cell_type": "code",
   "execution_count": 99,
   "id": "7ba924ae-5a65-4a1d-b95b-302e02d5593b",
   "metadata": {},
   "outputs": [
    {
     "data": {
      "text/plain": [
       "Text(43.25, 0.5, 'Actual')"
      ]
     },
     "execution_count": 99,
     "metadata": {},
     "output_type": "execute_result"
    },
    {
     "data": {
      "image/png": "[encoded data removed]",
      "text/plain": [
       "<Figure size 640x480 with 2 Axes>"
      ]
     },
     "metadata": {},
     "output_type": "display_data"
    }
   ],
   "source": [
    "sns.heatmap(cm_hp_up, annot=True, fmt = 'd')\n",
    "plt.xlabel('Predicted')\n",
    "plt.ylabel('Actual')"
   ]
  },
  {
   "cell_type": "code",
   "execution_count": 100,
   "id": "390d540f-f5f0-48b1-a83e-cf48c3a8bfb7",
   "metadata": {
    "scrolled": true
   },
   "outputs": [
    {
     "name": "stdout",
     "output_type": "stream",
     "text": [
      "              precision    recall  f1-score   support\n",
      "\n",
      "         Ham       0.99      0.98      0.98       724\n",
      "        Spam       0.98      0.99      0.98       724\n",
      "\n",
      "    accuracy                           0.98      1448\n",
      "   macro avg       0.98      0.98      0.98      1448\n",
      "weighted avg       0.98      0.98      0.98      1448\n",
      "\n"
     ]
    }
   ],
   "source": [
    "up_hp = classification_report(y_test_up, y_predict_hp_up, target_names=['Ham', 'Spam'])\n",
    "print(up_hp)"
   ]
  },
  {
   "cell_type": "markdown",
   "id": "f9b53307-0fb8-4828-9d40-5902e2b3c9be",
   "metadata": {},
   "source": [
    "## Additional Metrics (ROC-AUC) for BERT\n",
    "<a class=\"anchor\" id=\"9.3\"></a>\n",
    "[Table of Contents](#0.1)"
   ]
  },
  {
   "cell_type": "code",
   "execution_count": 101,
   "id": "214033ed-1cc7-4924-bcb1-5a9f9c058ab3",
   "metadata": {},
   "outputs": [
    {
     "name": "stdout",
     "output_type": "stream",
     "text": [
      "ROC-AUC Score on Test Set: 0.9834\n"
     ]
    }
   ],
   "source": [
    "roc_auc_test = roc_auc_score(y_test_up, y_predict_hp_up)\n",
    "print(f'ROC-AUC Score on Test Set: {roc_auc_test:.4f}')"
   ]
  },
  {
   "cell_type": "code",
   "execution_count": 102,
   "id": "f20c8c06-d694-4248-a723-f8435fe0e9e2",
   "metadata": {},
   "outputs": [
    {
     "data": {
      "image/png": "[encoded data removed]",
      "text/plain": [
       "<Figure size 640x480 with 1 Axes>"
      ]
     },
     "metadata": {},
     "output_type": "display_data"
    }
   ],
   "source": [
    "# y_test and y_predict_hp are already defined\n",
    "fpr, tpr, _ = roc_curve(y_test_up, y_predict_hp_up)\n",
    "roc_auc = auc(fpr, tpr)\n",
    "\n",
    "# Plotting the ROC curve\n",
    "plt.figure()\n",
    "plt.plot(fpr, tpr, color='darkorange', lw=2, label=f'ROC curve (area = {roc_auc:.4f})')\n",
    "plt.plot([0, 1], [0, 1], color='navy', lw=2, linestyle='--')\n",
    "plt.xlim([0.0, 1.0])\n",
    "plt.ylim([0.0, 1.05])\n",
    "plt.xlabel('False Positive Rate')\n",
    "plt.ylabel('True Positive Rate')\n",
    "plt.title('Receiver Operating Characteristic (ROC) Curve')\n",
    "plt.legend(loc='lower right')\n",
    "plt.show()"
   ]
  },
  {
   "cell_type": "code",
   "execution_count": 103,
   "id": "e7cc66aa-e34b-412c-b12c-477a25a4f11a",
   "metadata": {},
   "outputs": [
    {
     "name": "stdout",
     "output_type": "stream",
     "text": [
      "1/1 [==============================] - 1s 746ms/step\n"
     ]
    },
    {
     "data": {
      "text/plain": [
       "array([[0.36807302],\n",
       "       [0.89284533],\n",
       "       [0.7597308 ],\n",
       "       [0.90501106],\n",
       "       [0.00621142]], dtype=float32)"
      ]
     },
     "execution_count": 103,
     "metadata": {},
     "output_type": "execute_result"
    }
   ],
   "source": [
    "# Detection of examples\n",
    "up_inf_hp = best_model_up.predict(reviews)\n",
    "up_inf_hp"
   ]
  },
  {
   "cell_type": "markdown",
   "id": "5bf31eea-3a56-4d85-bf2d-34a184a0bb6c",
   "metadata": {},
   "source": [
    "## Class Weights\n",
    "<a class=\"anchor\" id=\"10\"></a>\n",
    "[Table of Contents](#0.1)"
   ]
  },
  {
   "cell_type": "code",
   "execution_count": 104,
   "id": "36d1cc34-bc59-4a11-a9a3-a6a3050a1f45",
   "metadata": {},
   "outputs": [],
   "source": [
    "# Calculate class weights\n",
    "class_weights = {\n",
    "    0: len(y_train) / (2 * (len(y_train) - np.sum(y_train))),  # Weight for ham\n",
    "    1: len(y_train) / (2 * np.sum(y_train))  # Weight for spam\n",
    "}\n"
   ]
  },
  {
   "cell_type": "code",
   "execution_count": 105,
   "id": "53c9456b-0f14-455d-be14-3ae7bdee8ff5",
   "metadata": {},
   "outputs": [
    {
     "name": "stdout",
     "output_type": "stream",
     "text": [
      "CPU times: total: 10.2 s\n",
      "Wall time: 11.5 s\n"
     ]
    }
   ],
   "source": [
    "%%time\n",
    "clw_model = tf.keras.models.clone_model(model)"
   ]
  },
  {
   "cell_type": "code",
   "execution_count": 106,
   "id": "13472599-5858-4d88-bb0f-ecafb464554c",
   "metadata": {},
   "outputs": [],
   "source": [
    "# Compile the model with class weights\n",
    "clw_model.compile(optimizer=Adam(learning_rate=0.001),\n",
    "                  loss='binary_crossentropy',\n",
    "                  metrics = metrics)"
   ]
  },
  {
   "cell_type": "markdown",
   "id": "7d24dea8-11e5-4aab-90be-909cba689c2a",
   "metadata": {},
   "source": [
    "## Model Building\n",
    "<a class=\"anchor\" id=\"10.1\"></a>\n",
    "[Table of Contents](#0.1)"
   ]
  },
  {
   "cell_type": "code",
   "execution_count": 107,
   "id": "209278ac-aaf7-4433-bb3d-d0ea8749177c",
   "metadata": {},
   "outputs": [
    {
     "name": "stdout",
     "output_type": "stream",
     "text": [
      "Epoch 1/20\n",
      "122/122 [==============================] - 68s 543ms/step - loss: 0.3629 - accuracy: 0.7838 - precision: 0.3827 - recall: 0.9981 - val_loss: 0.1253 - val_accuracy: 0.9605 - val_precision: 0.7762 - val_recall: 0.9911 - lr: 4.0000e-04\n",
      "Epoch 2/20\n",
      "122/122 [==============================] - 65s 534ms/step - loss: 0.1899 - accuracy: 0.8808 - precision: 0.5297 - recall: 0.9885 - val_loss: 0.1105 - val_accuracy: 0.9797 - val_precision: 0.8740 - val_recall: 0.9911 - lr: 4.0000e-04\n",
      "Epoch 3/20\n",
      "122/122 [==============================] - 72s 592ms/step - loss: 0.1398 - accuracy: 0.9382 - precision: 0.6911 - recall: 0.9751 - val_loss: 0.0931 - val_accuracy: 0.9833 - val_precision: 0.8952 - val_recall: 0.9911 - lr: 4.0000e-04\n",
      "Epoch 4/20\n",
      "122/122 [==============================] - 64s 527ms/step - loss: 0.1366 - accuracy: 0.9523 - precision: 0.7519 - recall: 0.9618 - val_loss: 0.0849 - val_accuracy: 0.9844 - val_precision: 0.9024 - val_recall: 0.9911 - lr: 4.0000e-04\n",
      "Epoch 5/20\n",
      "122/122 [==============================] - 64s 525ms/step - loss: 0.1178 - accuracy: 0.9528 - precision: 0.7482 - recall: 0.9771 - val_loss: 0.0739 - val_accuracy: 0.9844 - val_precision: 0.9091 - val_recall: 0.9821 - lr: 4.0000e-04\n",
      "Epoch 6/20\n",
      "122/122 [==============================] - 64s 524ms/step - loss: 0.1203 - accuracy: 0.9592 - precision: 0.7835 - recall: 0.9618 - val_loss: 0.0897 - val_accuracy: 0.9797 - val_precision: 0.8740 - val_recall: 0.9911 - lr: 4.0000e-04\n",
      "Epoch 7/20\n",
      "122/122 [==============================] - 64s 523ms/step - loss: 0.1115 - accuracy: 0.9610 - precision: 0.7930 - recall: 0.9598 - val_loss: 0.0878 - val_accuracy: 0.9797 - val_precision: 0.8740 - val_recall: 0.9911 - lr: 4.0000e-04\n",
      "Epoch 8/20\n",
      "122/122 [==============================] - 65s 530ms/step - loss: 0.1182 - accuracy: 0.9628 - precision: 0.8000 - recall: 0.9637 - val_loss: 0.0734 - val_accuracy: 0.9844 - val_precision: 0.9024 - val_recall: 0.9911 - lr: 8.0000e-05\n",
      "Epoch 9/20\n",
      "122/122 [==============================] - 64s 524ms/step - loss: 0.1145 - accuracy: 0.9641 - precision: 0.8084 - recall: 0.9598 - val_loss: 0.0698 - val_accuracy: 0.9833 - val_precision: 0.9016 - val_recall: 0.9821 - lr: 8.0000e-05\n",
      "Epoch 10/20\n",
      "122/122 [==============================] - 63s 518ms/step - loss: 0.1178 - accuracy: 0.9636 - precision: 0.8058 - recall: 0.9598 - val_loss: 0.0723 - val_accuracy: 0.9809 - val_precision: 0.8810 - val_recall: 0.9911 - lr: 8.0000e-05\n",
      "Epoch 11/20\n",
      "122/122 [==============================] - 63s 520ms/step - loss: 0.1172 - accuracy: 0.9646 - precision: 0.8130 - recall: 0.9560 - val_loss: 0.0689 - val_accuracy: 0.9833 - val_precision: 0.9016 - val_recall: 0.9821 - lr: 8.0000e-05\n",
      "Epoch 12/20\n",
      "122/122 [==============================] - 63s 520ms/step - loss: 0.1182 - accuracy: 0.9577 - precision: 0.7762 - recall: 0.9618 - val_loss: 0.0663 - val_accuracy: 0.9833 - val_precision: 0.9016 - val_recall: 0.9821 - lr: 8.0000e-05\n",
      "Epoch 13/20\n",
      "122/122 [==============================] - 64s 523ms/step - loss: 0.1240 - accuracy: 0.9587 - precision: 0.7828 - recall: 0.9579 - val_loss: 0.0666 - val_accuracy: 0.9833 - val_precision: 0.9016 - val_recall: 0.9821 - lr: 8.0000e-05\n",
      "Epoch 14/20\n",
      "122/122 [==============================] - 68s 562ms/step - loss: 0.1126 - accuracy: 0.9636 - precision: 0.8098 - recall: 0.9522 - val_loss: 0.0643 - val_accuracy: 0.9833 - val_precision: 0.9016 - val_recall: 0.9821 - lr: 8.0000e-05\n",
      "Epoch 15/20\n",
      "122/122 [==============================] - 66s 540ms/step - loss: 0.1024 - accuracy: 0.9641 - precision: 0.8025 - recall: 0.9713 - val_loss: 0.0653 - val_accuracy: 0.9833 - val_precision: 0.9016 - val_recall: 0.9821 - lr: 8.0000e-05\n",
      "Epoch 16/20\n",
      "122/122 [==============================] - 66s 541ms/step - loss: 0.0973 - accuracy: 0.9674 - precision: 0.8183 - recall: 0.9732 - val_loss: 0.0613 - val_accuracy: 0.9844 - val_precision: 0.9091 - val_recall: 0.9821 - lr: 8.0000e-05\n",
      "Epoch 17/20\n",
      "122/122 [==============================] - 65s 534ms/step - loss: 0.1156 - accuracy: 0.9654 - precision: 0.8160 - recall: 0.9579 - val_loss: 0.0642 - val_accuracy: 0.9844 - val_precision: 0.9091 - val_recall: 0.9821 - lr: 8.0000e-05\n",
      "Epoch 18/20\n",
      "122/122 [==============================] - 63s 520ms/step - loss: 0.1117 - accuracy: 0.9646 - precision: 0.8090 - recall: 0.9637 - val_loss: 0.0648 - val_accuracy: 0.9833 - val_precision: 0.9016 - val_recall: 0.9821 - lr: 8.0000e-05\n",
      "Epoch 19/20\n",
      "122/122 [==============================] - 64s 522ms/step - loss: 0.1127 - accuracy: 0.9631 - precision: 0.8022 - recall: 0.9618 - val_loss: 0.0644 - val_accuracy: 0.9833 - val_precision: 0.9016 - val_recall: 0.9821 - lr: 1.6000e-05\n",
      "CPU times: total: 14min 7s\n",
      "Wall time: 20min 35s\n"
     ]
    }
   ],
   "source": [
    "%%time\n",
    "# Fit the model\n",
    "history_clw = model.fit(X_train, y_train, epochs=20, \n",
    "                    validation_data=(X_val, y_val), \n",
    "                    class_weight=class_weights,\n",
    "                    callbacks=[early_stopping, lr_scheduler])"
   ]
  },
  {
   "cell_type": "markdown",
   "id": "775fb77e-b80f-44f2-a996-17fb67782b08",
   "metadata": {},
   "source": [
    "## Model Evaluation\n",
    "<a class=\"anchor\" id=\"10.2\"></a>\n",
    "[Table of Contents](#0.1)"
   ]
  },
  {
   "cell_type": "code",
   "execution_count": 108,
   "id": "f3c4cece-a31b-460c-9ca3-7dc8e652afcc",
   "metadata": {},
   "outputs": [
    {
     "name": "stdout",
     "output_type": "stream",
     "text": [
      "27/27 [==============================] - 11s 413ms/step - loss: 0.0506 - accuracy: 0.9904 - precision: 0.9483 - recall: 0.9821\n",
      "Test Loss: 0.04175851494073868\n",
      "Test Accuracy: 0.9904305934906006\n"
     ]
    }
   ],
   "source": [
    "# Evaluate the model\n",
    "results_clw = model.evaluate(X_test, y_test)\n",
    "print(f\"Test Loss: {results[0]}\")\n",
    "print(f\"Test Accuracy: {results[1]}\")"
   ]
  },
  {
   "cell_type": "code",
   "execution_count": 109,
   "id": "98f400c3-df67-452c-827a-d3ba58cfd0d7",
   "metadata": {},
   "outputs": [
    {
     "name": "stdout",
     "output_type": "stream",
     "text": [
      "27/27 [==============================] - 12s 414ms/step\n"
     ]
    }
   ],
   "source": [
    "y_predict_clw = clw_model.predict(X_test)\n",
    "y_predict_clw = y_predict_clw.flatten()"
   ]
  },
  {
   "cell_type": "code",
   "execution_count": 110,
   "id": "7000d9d5-e7e3-4ef1-8a4b-95f82e45597a",
   "metadata": {},
   "outputs": [
    {
     "data": {
      "text/plain": [
       "array([1, 1, 1, 1, 1, 1, 1, 1, 1, 1, 1, 1, 1, 1, 1, 1, 1, 1, 1, 1, 1, 1,\n",
       "       1, 1, 1, 1, 1, 1, 1, 1, 1, 1, 1, 1, 1, 1, 1, 1, 1, 1, 1, 1, 1, 1,\n",
       "       1, 1, 1, 1, 0, 1, 1, 1, 1, 1, 1, 1, 1, 1, 1, 0, 1, 1, 1, 1, 1, 1,\n",
       "       1, 1, 1, 1, 1, 1, 1, 1, 1, 1, 1, 1, 1, 1, 1, 1, 1, 1, 1, 1, 1, 1,\n",
       "       1, 1, 1, 1, 1, 1, 1, 1, 1, 1, 1, 1, 1, 1, 1, 1, 1, 1, 1, 1, 1, 1,\n",
       "       1, 1, 1, 1, 1, 1, 1, 1, 1, 1, 1, 1, 1, 1, 1, 1, 1, 1, 1, 1, 1, 1,\n",
       "       1, 1, 1, 1, 1, 1, 1, 1, 1, 1, 1, 1, 1, 1, 1, 1, 1, 1, 1, 1, 1, 1,\n",
       "       1, 1, 1, 1, 1, 1, 1, 1, 1, 1, 1, 1, 1, 0, 1, 1, 1, 1, 1, 1, 1, 1,\n",
       "       1, 1, 1, 1, 1, 1, 1, 1, 1, 1, 1, 1, 1, 1, 1, 1, 1, 1, 1, 1, 1, 1,\n",
       "       1, 1, 1, 0, 1, 1, 1, 1, 1, 1, 1, 1, 1, 1, 1, 1, 1, 1, 1, 1, 1, 1,\n",
       "       1, 1, 1, 1, 1, 1, 1, 1, 1, 1, 1, 1, 1, 1, 1, 1, 1, 1, 1, 1, 1, 1,\n",
       "       1, 1, 1, 1, 1, 1, 1, 1, 1, 1, 1, 1, 1, 1, 1, 1, 1, 1, 1, 1, 1, 1,\n",
       "       1, 1, 1, 1, 1, 0, 1, 1, 1, 1, 1, 1, 1, 1, 1, 1, 1, 1, 1, 1, 1, 1,\n",
       "       1, 1, 1, 1, 1, 1, 1, 1, 1, 1, 1, 1, 1, 1, 1, 1, 1, 1, 1, 1, 1, 1,\n",
       "       1, 1, 1, 1, 1, 1, 1, 1, 1, 1, 1, 1, 1, 1, 1, 1, 1, 1, 1, 1, 1, 1,\n",
       "       1, 1, 1, 1, 1, 1, 1, 1, 1, 1, 1, 1, 1, 1, 1, 1, 1, 1, 1, 1, 1, 1,\n",
       "       1, 1, 1, 1, 1, 1, 1, 1, 1, 1, 1, 1, 1, 1, 1, 1, 1, 1, 1, 1, 1, 1,\n",
       "       1, 0, 1, 1, 1, 1, 1, 1, 1, 1, 1, 1, 1, 1, 1, 1, 1, 1, 1, 1, 1, 1,\n",
       "       1, 1, 1, 1, 1, 1, 1, 1, 1, 1, 1, 1, 1, 1, 1, 1, 1, 1, 1, 1, 1, 1,\n",
       "       1, 1, 1, 1, 1, 1, 1, 1, 1, 1, 1, 1, 1, 1, 1, 1, 1, 1, 1, 1, 1, 1,\n",
       "       1, 1, 1, 1, 1, 1, 1, 1, 1, 1, 1, 1, 1, 1, 1, 1, 1, 1, 1, 1, 1, 1,\n",
       "       1, 1, 1, 1, 1, 0, 1, 1, 1, 1, 1, 1, 1, 1, 1, 1, 1, 1, 1, 1, 1, 1,\n",
       "       1, 1, 1, 1, 1, 1, 1, 1, 1, 1, 1, 1, 1, 1, 1, 1, 1, 1, 1, 1, 1, 1,\n",
       "       1, 1, 0, 1, 1, 1, 1, 1, 1, 1, 1, 1, 1, 1, 1, 1, 1, 1, 1, 1, 1, 1,\n",
       "       1, 1, 1, 1, 1, 1, 1, 1, 1, 1, 1, 1, 1, 1, 1, 1, 1, 1, 1, 1, 1, 1,\n",
       "       1, 1, 1, 1, 0, 1, 1, 1, 1, 1, 1, 1, 1, 1, 1, 1, 1, 1, 1, 1, 1, 1,\n",
       "       1, 1, 1, 1, 1, 1, 1, 1, 1, 1, 1, 1, 1, 1, 1, 1, 1, 1, 1, 1, 1, 1,\n",
       "       1, 1, 1, 1, 1, 1, 1, 1, 1, 1, 1, 1, 1, 1, 1, 1, 1, 0, 1, 1, 1, 1,\n",
       "       1, 1, 1, 1, 1, 1, 1, 1, 1, 1, 1, 1, 1, 1, 1, 1, 1, 1, 1, 1, 1, 1,\n",
       "       1, 1, 1, 1, 1, 1, 1, 1, 1, 1, 1, 1, 1, 1, 1, 1, 1, 1, 1, 1, 1, 1,\n",
       "       1, 1, 1, 1, 1, 1, 1, 1, 1, 1, 1, 1, 1, 1, 1, 1, 1, 1, 1, 1, 1, 1,\n",
       "       1, 0, 1, 1, 1, 1, 1, 1, 1, 1, 1, 1, 1, 1, 1, 1, 1, 0, 1, 1, 0, 1,\n",
       "       1, 1, 1, 1, 1, 1, 1, 1, 1, 1, 1, 1, 1, 1, 1, 1, 1, 0, 1, 1, 1, 1,\n",
       "       1, 1, 1, 1, 1, 1, 1, 1, 1, 1, 1, 1, 1, 1, 1, 1, 1, 0, 1, 1, 1, 1,\n",
       "       1, 1, 1, 1, 1, 1, 1, 1, 1, 1, 1, 1, 1, 1, 1, 1, 1, 1, 1, 1, 1, 0,\n",
       "       1, 1, 1, 1, 1, 1, 1, 1, 1, 1, 1, 1, 1, 1, 1, 1, 1, 1, 1, 1, 1, 1,\n",
       "       1, 1, 1, 1, 1, 1, 1, 1, 1, 1, 1, 1, 1, 1, 1, 1, 1, 1, 1, 1, 1, 1,\n",
       "       1, 1, 1, 1, 1, 1, 1, 1, 1, 1, 1, 1, 1, 1, 1, 1, 1, 1, 1, 1, 1, 1])"
      ]
     },
     "execution_count": 110,
     "metadata": {},
     "output_type": "execute_result"
    }
   ],
   "source": [
    "y_predict_clw = np.where(y_predict_clw > 0.5,1,0)\n",
    "y_predict_clw"
   ]
  },
  {
   "cell_type": "code",
   "execution_count": 111,
   "id": "090fb2a7-9650-4f0f-8ab7-f9b69f3b93c0",
   "metadata": {},
   "outputs": [
    {
     "data": {
      "text/plain": [
       "array([[722,   2],\n",
       "       [  6, 106]], dtype=int64)"
      ]
     },
     "execution_count": 111,
     "metadata": {},
     "output_type": "execute_result"
    }
   ],
   "source": [
    "clw_cm = confusion_matrix(y_test, y_predict)\n",
    "clw_cm"
   ]
  },
  {
   "cell_type": "code",
   "execution_count": 112,
   "id": "73e16c6d-42d1-4337-8360-f00d44372cb8",
   "metadata": {},
   "outputs": [
    {
     "data": {
      "text/plain": [
       "Text(43.25, 0.5, 'Actual')"
      ]
     },
     "execution_count": 112,
     "metadata": {},
     "output_type": "execute_result"
    },
    {
     "data": {
      "image/png": "[encoded data removed]",
      "text/plain": [
       "<Figure size 640x480 with 2 Axes>"
      ]
     },
     "metadata": {},
     "output_type": "display_data"
    }
   ],
   "source": [
    "sns.heatmap(clw_cm, annot=True, fmt = 'd')\n",
    "plt.xlabel('Predicted')\n",
    "plt.ylabel('Actual')"
   ]
  },
  {
   "cell_type": "code",
   "execution_count": 113,
   "id": "f5159fda-e036-4150-a567-28ad10473e75",
   "metadata": {},
   "outputs": [
    {
     "name": "stdout",
     "output_type": "stream",
     "text": [
      "              precision    recall  f1-score   support\n",
      "\n",
      "         Ham       1.00      0.02      0.04       724\n",
      "        Spam       0.14      1.00      0.24       112\n",
      "\n",
      "    accuracy                           0.15       836\n",
      "   macro avg       0.57      0.51      0.14       836\n",
      "weighted avg       0.88      0.15      0.07       836\n",
      "\n"
     ]
    }
   ],
   "source": [
    "clw = classification_report(y_test, y_predict_clw, target_names=['Ham', 'Spam'])\n",
    "print(clw)"
   ]
  },
  {
   "cell_type": "code",
   "execution_count": 114,
   "id": "1f7946f5-78e3-4421-9f4c-5546362e8c85",
   "metadata": {},
   "outputs": [
    {
     "name": "stdout",
     "output_type": "stream",
     "text": [
      "1/1 [==============================] - 1s 753ms/step\n"
     ]
    },
    {
     "data": {
      "text/plain": [
       "array([[0.627704  ],\n",
       "       [0.6396768 ],\n",
       "       [0.52495974],\n",
       "       [0.59353304],\n",
       "       [0.5944877 ]], dtype=float32)"
      ]
     },
     "execution_count": 114,
     "metadata": {},
     "output_type": "execute_result"
    }
   ],
   "source": [
    "# Detection of examples\n",
    "clw_inf = clw_model.predict(reviews)\n",
    "clw_inf"
   ]
  },
  {
   "cell_type": "markdown",
   "id": "f43957d3-2c0e-47fa-9734-2cad163d40c8",
   "metadata": {},
   "source": [
    "## Hyperparameter Tuning with Keras Tuner (Class Weights)\n",
    "<a class=\"anchor\" id=\"11\"></a>\n",
    "[Table of Contents](#0.1)"
   ]
  },
  {
   "cell_type": "code",
   "execution_count": 115,
   "id": "53d340ff-a765-457e-a949-fa45a33abcad",
   "metadata": {},
   "outputs": [
    {
     "name": "stdout",
     "output_type": "stream",
     "text": [
      "Trial 3 Complete [00h 02m 15s]\n",
      "val_accuracy: 0.9844497442245483\n",
      "\n",
      "Best val_accuracy So Far: 0.9844497442245483\n",
      "Total elapsed time: 00h 06m 52s\n",
      "CPU times: total: 4min 45s\n",
      "Wall time: 6min 53s\n"
     ]
    }
   ],
   "source": [
    "%%time\n",
    "# Initialize Keras Tuner with the existing model\n",
    "tuner = kt.Hyperband(\n",
    "    compile_model,\n",
    "    objective='val_accuracy',\n",
    "    max_epochs=5,\n",
    "    factor=3,\n",
    "    directory=os.getcwd(),\n",
    "    project_name='clw_model'\n",
    ")\n",
    "\n",
    "# Perform hyperparameter tuning\n",
    "tuner.search(X_train, y_train, epochs=5, validation_data=(X_val, y_val))\n",
    "\n",
    "# Get the best model\n",
    "best_model_clw = tuner.get_best_models(num_models=1)[0]"
   ]
  },
  {
   "cell_type": "code",
   "execution_count": 116,
   "id": "02c9050d-9ec9-4583-804c-61cf0c4cd578",
   "metadata": {},
   "outputs": [
    {
     "name": "stdout",
     "output_type": "stream",
     "text": [
      "27/27 [==============================] - 12s 413ms/step - loss: 0.0379 - accuracy: 0.9844 - precision: 0.9760 - recall: 0.9062\n",
      "\n",
      "Validation Loss: 0.03790128976106644\n",
      "Validation Accuracy: 0.9844497442245483\n"
     ]
    }
   ],
   "source": [
    "# Evaluate the best model on the validation set\n",
    "hp_results_val_clw = best_model_clw.evaluate(X_val, y_val)\n",
    "print(f\"\\nValidation Loss: {hp_results_val_clw[0]}\")\n",
    "print(f\"Validation Accuracy: {hp_results_val_clw[1]}\")"
   ]
  },
  {
   "cell_type": "code",
   "execution_count": 117,
   "id": "9f5e6fd1-ae81-4d68-9d2c-53e02bb3cdba",
   "metadata": {},
   "outputs": [
    {
     "name": "stdout",
     "output_type": "stream",
     "text": [
      "27/27 [==============================] - 11s 410ms/step - loss: 0.0407 - accuracy: 0.9844 - precision: 0.9806 - recall: 0.9018\n",
      "\\Test Loss: 0.04074835404753685\n",
      "Test Accuracy: 0.9844497442245483\n"
     ]
    }
   ],
   "source": [
    "# Evaluate the best model on the test set\n",
    "hp_results_test_clw = best_model_clw.evaluate(X_test, y_test)\n",
    "print(f\"\\Test Loss: {hp_results_test_clw[0]}\")\n",
    "print(f\"Test Accuracy: {hp_results_test_clw[1]}\")"
   ]
  },
  {
   "cell_type": "markdown",
   "id": "c18b1867-35bc-4626-8303-3b9569178373",
   "metadata": {},
   "source": [
    "## Model Building \n",
    "<a class=\"anchor\" id=\"11.1\"></a>\n",
    "[Table of Contents](#0.1)"
   ]
  },
  {
   "cell_type": "code",
   "execution_count": 118,
   "id": "cf2f6af4-f30e-4baf-b0e6-0350d7c5c87e",
   "metadata": {},
   "outputs": [
    {
     "name": "stdout",
     "output_type": "stream",
     "text": [
      "Epoch 1/20\n",
      "122/122 [==============================] - 66s 522ms/step - loss: 0.0699 - accuracy: 0.9767 - precision: 0.9390 - recall: 0.8834 - val_loss: 0.0334 - val_accuracy: 0.9868 - val_precision: 0.9810 - val_recall: 0.9196 - lr: 0.0010\n",
      "Epoch 2/20\n",
      "122/122 [==============================] - 64s 527ms/step - loss: 0.0674 - accuracy: 0.9751 - precision: 0.9193 - recall: 0.8929 - val_loss: 0.0356 - val_accuracy: 0.9856 - val_precision: 0.9808 - val_recall: 0.9107 - lr: 0.0010\n",
      "Epoch 3/20\n",
      "122/122 [==============================] - 64s 525ms/step - loss: 0.0822 - accuracy: 0.9708 - precision: 0.9098 - recall: 0.8681 - val_loss: 0.0361 - val_accuracy: 0.9856 - val_precision: 0.9808 - val_recall: 0.9107 - lr: 0.0010\n",
      "Epoch 4/20\n",
      "122/122 [==============================] - 65s 531ms/step - loss: 0.0761 - accuracy: 0.9731 - precision: 0.9098 - recall: 0.8872 - val_loss: 0.0350 - val_accuracy: 0.9844 - val_precision: 0.9714 - val_recall: 0.9107 - lr: 2.0000e-04\n",
      "CPU times: total: 2min 59s\n",
      "Wall time: 4min 19s\n"
     ]
    },
    {
     "data": {
      "text/plain": [
       "<keras.callbacks.History at 0x1be90e2a680>"
      ]
     },
     "execution_count": 118,
     "metadata": {},
     "output_type": "execute_result"
    }
   ],
   "source": [
    "%%time\n",
    "# Fitting best model on X_train, y_train, X_val, y_val, X_test, y_test\n",
    "best_model_clw.fit(X_train, y_train, epochs=20, \n",
    "                    validation_data=(X_val, y_val), \n",
    "                    callbacks=[early_stopping, lr_scheduler])"
   ]
  },
  {
   "cell_type": "markdown",
   "id": "a0620e00-35a7-447c-9084-8dcce91f15eb",
   "metadata": {},
   "source": [
    "## Model Evaluation\n",
    "<a class=\"anchor\" id=\"11.2\"></a>\n",
    "[Table of Contents](#0.1)"
   ]
  },
  {
   "cell_type": "code",
   "execution_count": 119,
   "id": "beff583f-12ce-474b-acb6-be62cd986931",
   "metadata": {},
   "outputs": [
    {
     "name": "stdout",
     "output_type": "stream",
     "text": [
      "27/27 [==============================] - 12s 430ms/step\n"
     ]
    }
   ],
   "source": [
    "y_predict_hp_clw = best_model_clw.predict(X_test)\n",
    "y_predict_hp_clw = y_predict_hp_clw.flatten()"
   ]
  },
  {
   "cell_type": "code",
   "execution_count": 120,
   "id": "5a0556d6-fc44-4cd6-acca-f17ee2d98d32",
   "metadata": {},
   "outputs": [
    {
     "data": {
      "text/plain": [
       "array([0, 1, 0, 0, 0, 1, 0, 0, 0, 1, 0, 0, 0, 0, 0, 0, 0, 0, 0, 0, 0, 0,\n",
       "       0, 0, 1, 0, 0, 1, 0, 1, 0, 0, 1, 0, 0, 0, 0, 0, 0, 0, 0, 1, 0, 0,\n",
       "       0, 0, 1, 0, 0, 0, 0, 0, 0, 0, 1, 0, 0, 0, 0, 0, 0, 0, 0, 0, 0, 0,\n",
       "       1, 0, 0, 1, 0, 0, 0, 0, 0, 1, 1, 0, 0, 0, 0, 0, 0, 0, 1, 0, 0, 0,\n",
       "       0, 0, 0, 1, 0, 0, 0, 1, 0, 0, 0, 0, 0, 0, 0, 0, 0, 1, 0, 0, 0, 1,\n",
       "       0, 0, 0, 0, 0, 0, 0, 0, 0, 1, 0, 0, 1, 0, 0, 1, 0, 1, 1, 0, 0, 0,\n",
       "       0, 0, 0, 0, 1, 0, 0, 0, 1, 0, 0, 0, 0, 0, 0, 0, 1, 0, 0, 0, 0, 0,\n",
       "       0, 1, 1, 0, 0, 0, 0, 0, 0, 0, 0, 0, 0, 0, 0, 1, 0, 1, 0, 0, 0, 0,\n",
       "       0, 0, 0, 0, 0, 0, 0, 0, 0, 0, 0, 0, 0, 0, 0, 0, 0, 0, 0, 0, 0, 0,\n",
       "       0, 0, 0, 0, 0, 0, 0, 0, 1, 0, 1, 0, 0, 0, 0, 0, 0, 0, 1, 0, 1, 0,\n",
       "       0, 0, 0, 1, 0, 0, 0, 0, 0, 0, 0, 0, 0, 0, 0, 0, 0, 1, 0, 0, 0, 1,\n",
       "       0, 0, 0, 0, 0, 0, 1, 0, 0, 0, 0, 0, 0, 0, 0, 0, 0, 0, 0, 0, 0, 0,\n",
       "       0, 0, 0, 0, 0, 0, 0, 0, 0, 0, 0, 0, 0, 0, 0, 0, 0, 0, 1, 0, 1, 0,\n",
       "       0, 0, 0, 0, 0, 0, 0, 1, 0, 0, 0, 1, 0, 0, 0, 0, 0, 0, 0, 0, 0, 0,\n",
       "       0, 1, 0, 0, 0, 1, 0, 0, 0, 0, 0, 0, 0, 0, 0, 0, 0, 0, 0, 0, 0, 0,\n",
       "       0, 0, 0, 0, 0, 0, 0, 0, 0, 0, 0, 0, 0, 0, 0, 0, 0, 1, 0, 0, 1, 1,\n",
       "       0, 0, 0, 0, 0, 0, 0, 0, 0, 0, 0, 0, 0, 1, 0, 1, 0, 0, 0, 0, 1, 0,\n",
       "       0, 0, 0, 0, 0, 1, 0, 0, 0, 0, 0, 0, 0, 0, 0, 0, 0, 0, 0, 0, 0, 0,\n",
       "       0, 0, 1, 1, 0, 0, 1, 0, 0, 0, 0, 0, 0, 0, 0, 0, 0, 0, 0, 0, 0, 0,\n",
       "       0, 0, 0, 1, 0, 0, 1, 0, 0, 0, 0, 0, 0, 0, 0, 0, 0, 0, 0, 0, 0, 0,\n",
       "       0, 1, 0, 0, 0, 0, 0, 0, 1, 0, 0, 0, 0, 0, 0, 0, 0, 0, 0, 0, 0, 0,\n",
       "       1, 0, 0, 0, 0, 0, 0, 1, 0, 0, 0, 0, 0, 0, 0, 0, 0, 0, 0, 0, 1, 0,\n",
       "       0, 0, 0, 0, 0, 1, 0, 0, 0, 0, 0, 0, 0, 0, 0, 0, 0, 0, 1, 0, 1, 0,\n",
       "       0, 1, 0, 0, 0, 0, 0, 0, 1, 0, 0, 0, 0, 0, 0, 0, 0, 1, 1, 0, 1, 0,\n",
       "       0, 0, 0, 0, 0, 0, 1, 0, 0, 0, 0, 0, 0, 0, 0, 0, 0, 0, 0, 0, 1, 0,\n",
       "       0, 1, 0, 1, 0, 0, 0, 0, 0, 0, 0, 0, 0, 0, 0, 0, 0, 0, 0, 0, 0, 0,\n",
       "       0, 0, 0, 0, 0, 0, 0, 0, 0, 0, 0, 0, 0, 0, 0, 1, 0, 0, 0, 0, 0, 0,\n",
       "       0, 0, 0, 0, 0, 0, 0, 0, 0, 0, 0, 0, 1, 0, 0, 0, 0, 0, 0, 0, 0, 0,\n",
       "       0, 0, 0, 0, 0, 0, 1, 0, 0, 0, 0, 1, 0, 0, 0, 1, 0, 0, 0, 0, 0, 0,\n",
       "       1, 0, 0, 0, 0, 0, 1, 0, 0, 0, 0, 0, 0, 0, 0, 0, 0, 0, 1, 0, 0, 0,\n",
       "       1, 1, 1, 0, 0, 1, 0, 0, 0, 0, 0, 0, 0, 0, 0, 0, 0, 0, 0, 0, 0, 0,\n",
       "       1, 0, 0, 1, 0, 0, 0, 0, 0, 1, 1, 0, 0, 0, 0, 1, 0, 0, 0, 0, 0, 0,\n",
       "       0, 0, 0, 0, 0, 0, 0, 0, 0, 0, 0, 0, 0, 0, 0, 0, 0, 0, 0, 0, 1, 0,\n",
       "       0, 0, 0, 0, 0, 1, 0, 0, 0, 0, 0, 0, 0, 0, 1, 0, 0, 0, 0, 0, 0, 0,\n",
       "       0, 0, 0, 0, 0, 0, 0, 0, 0, 0, 0, 0, 0, 0, 0, 0, 0, 0, 0, 0, 0, 0,\n",
       "       0, 0, 0, 0, 0, 0, 0, 0, 0, 1, 0, 1, 0, 0, 0, 0, 0, 0, 0, 1, 0, 0,\n",
       "       0, 0, 0, 0, 0, 0, 1, 0, 0, 0, 1, 0, 0, 0, 0, 0, 0, 0, 0, 0, 1, 0,\n",
       "       1, 0, 1, 0, 0, 0, 0, 0, 0, 0, 1, 0, 0, 0, 1, 0, 0, 0, 0, 1, 0, 1])"
      ]
     },
     "execution_count": 120,
     "metadata": {},
     "output_type": "execute_result"
    }
   ],
   "source": [
    "y_predict_hp_clw = np.where(y_predict_hp_clw > 0.5,1,0)\n",
    "y_predict_hp_clw"
   ]
  },
  {
   "cell_type": "code",
   "execution_count": 121,
   "id": "4f514521-7f44-48e5-a9a7-489b3ea2879a",
   "metadata": {},
   "outputs": [
    {
     "data": {
      "text/plain": [
       "array([[722,   2],\n",
       "       [  8, 104]], dtype=int64)"
      ]
     },
     "execution_count": 121,
     "metadata": {},
     "output_type": "execute_result"
    }
   ],
   "source": [
    "cm_hp_clw = confusion_matrix(y_test, y_predict_hp_clw)\n",
    "cm_hp_clw"
   ]
  },
  {
   "cell_type": "code",
   "execution_count": 122,
   "id": "b4e40ef0-80f1-449e-923b-dde138776619",
   "metadata": {},
   "outputs": [
    {
     "data": {
      "text/plain": [
       "Text(43.25, 0.5, 'Actual')"
      ]
     },
     "execution_count": 122,
     "metadata": {},
     "output_type": "execute_result"
    },
    {
     "data": {
      "image/png": "[encoded data removed]",
      "text/plain": [
       "<Figure size 640x480 with 2 Axes>"
      ]
     },
     "metadata": {},
     "output_type": "display_data"
    }
   ],
   "source": [
    "sns.heatmap(cm_hp_clw, annot=True, fmt = 'd')\n",
    "plt.xlabel('Predicted')\n",
    "plt.ylabel('Actual')"
   ]
  },
  {
   "cell_type": "code",
   "execution_count": 123,
   "id": "a22c97cf-41e2-44d3-9333-3d46c435aadf",
   "metadata": {},
   "outputs": [
    {
     "name": "stdout",
     "output_type": "stream",
     "text": [
      "              precision    recall  f1-score   support\n",
      "\n",
      "         Ham       0.99      1.00      0.99       724\n",
      "        Spam       0.98      0.93      0.95       112\n",
      "\n",
      "    accuracy                           0.99       836\n",
      "   macro avg       0.99      0.96      0.97       836\n",
      "weighted avg       0.99      0.99      0.99       836\n",
      "\n"
     ]
    }
   ],
   "source": [
    "cus_hp = classification_report(y_test, y_predict_hp_clw, target_names=['Ham', 'Spam'])\n",
    "print(cus_hp)"
   ]
  },
  {
   "cell_type": "markdown",
   "id": "04791044-f669-4586-bc9d-2b761a9f8b11",
   "metadata": {},
   "source": [
    "## Additional Metrics (ROC-AUC) for BERT\n",
    "<a class=\"anchor\" id=\"11.3\"></a>\n",
    "[Table of Contents](#0.1)"
   ]
  },
  {
   "cell_type": "code",
   "execution_count": 124,
   "id": "a147f987-8696-4561-8a37-0e7a61ec08de",
   "metadata": {},
   "outputs": [
    {
     "name": "stdout",
     "output_type": "stream",
     "text": [
      "ROC-AUC Score on Test Set: 0.9629\n"
     ]
    }
   ],
   "source": [
    "roc_auc_test = roc_auc_score(y_test, y_predict_hp_clw)\n",
    "print(f'ROC-AUC Score on Test Set: {roc_auc_test:.4f}')"
   ]
  },
  {
   "cell_type": "code",
   "execution_count": 125,
   "id": "ae56be86-8c37-4b78-b5b7-eb24009005bf",
   "metadata": {},
   "outputs": [
    {
     "data": {
      "image/png": "[encoded data removed]",
      "text/plain": [
       "<Figure size 640x480 with 1 Axes>"
      ]
     },
     "metadata": {},
     "output_type": "display_data"
    }
   ],
   "source": [
    "# Assuming y_test and y_predict_hp are already defined\n",
    "fpr, tpr, _ = roc_curve(y_test, y_predict_hp_clw)\n",
    "roc_auc = auc(fpr, tpr)\n",
    "\n",
    "# Plotting the ROC curve\n",
    "plt.figure()\n",
    "plt.plot(fpr, tpr, color='darkorange', lw=2, label=f'ROC curve (area = {roc_auc:.4f})')\n",
    "plt.plot([0, 1], [0, 1], color='navy', lw=2, linestyle='--')\n",
    "plt.xlim([0.0, 1.0])\n",
    "plt.ylim([0.0, 1.05])\n",
    "plt.xlabel('False Positive Rate')\n",
    "plt.ylabel('True Positive Rate')\n",
    "plt.title('Receiver Operating Characteristic (ROC) Curve')\n",
    "plt.legend(loc='lower right')\n",
    "plt.show()"
   ]
  },
  {
   "cell_type": "code",
   "execution_count": 126,
   "id": "c1664402-97cf-408d-ae45-9f3bdac900cc",
   "metadata": {},
   "outputs": [
    {
     "name": "stdout",
     "output_type": "stream",
     "text": [
      "1/1 [==============================] - 1s 824ms/step\n"
     ]
    },
    {
     "data": {
      "text/plain": [
       "array([[0.03164164],\n",
       "       [0.43615294],\n",
       "       [0.15338531],\n",
       "       [0.39281282],\n",
       "       [0.00118425]], dtype=float32)"
      ]
     },
     "execution_count": 126,
     "metadata": {},
     "output_type": "execute_result"
    }
   ],
   "source": [
    "# Detection of examples\n",
    "clw_inf_hp = best_model_clw.predict(reviews)\n",
    "clw_inf_hp"
   ]
  },
  {
   "cell_type": "markdown",
   "id": "2878fb59-2204-401e-a1cb-08cdd77229ee",
   "metadata": {},
   "source": [
    "## Custom Loss\n",
    "<a class=\"anchor\" id=\"12\"></a>\n",
    "[Table of Contents](#0.1)"
   ]
  },
  {
   "cell_type": "code",
   "execution_count": 127,
   "id": "e1527601-3a19-4add-b3b8-0d9dad3abfb8",
   "metadata": {},
   "outputs": [
    {
     "name": "stdout",
     "output_type": "stream",
     "text": [
      "CPU times: total: 11.1 s\n",
      "Wall time: 12.1 s\n"
     ]
    }
   ],
   "source": [
    "%%time\n",
    "cus_model = tf.keras.models.clone_model(model)  # Cloning the custom model architectire without learned weights"
   ]
  },
  {
   "cell_type": "code",
   "execution_count": 128,
   "id": "fad45376-17be-4bc5-97b0-e63842288f1d",
   "metadata": {},
   "outputs": [],
   "source": [
    "def custom_loss(y_train, y_predict):\n",
    "    # Convert y_train to float\n",
    "    y_train = tf.cast(y_train, tf.float32)\n",
    "    \n",
    "    # Apply label smoothing\n",
    "    y_train_smoothed = y_train * 0.9 + 0.05\n",
    "\n",
    "    # Compute binary cross-entropy\n",
    "    bce_loss = tf.keras.losses.binary_crossentropy(y_train_smoothed, y_predict, from_logits=False)\n",
    "\n",
    "    return bce_loss"
   ]
  },
  {
   "cell_type": "code",
   "execution_count": 129,
   "id": "7c46520e-8117-479b-a46f-a5bc53151691",
   "metadata": {},
   "outputs": [
    {
     "name": "stdout",
     "output_type": "stream",
     "text": [
      "CPU times: total: 0 ns\n",
      "Wall time: 4.35 ms\n"
     ]
    }
   ],
   "source": [
    "%%time\n",
    "cus_model.compile(optimizer=Adam(learning_rate=0.001),\n",
    "                  loss = custom_loss,\n",
    "                  metrics = metrics)"
   ]
  },
  {
   "cell_type": "markdown",
   "id": "2b78f4ca-7f00-4243-97a3-e5ac113817c8",
   "metadata": {},
   "source": [
    "## Model Building\n",
    "<a class=\"anchor\" id=\"12.1\"></a>\n",
    "[Table of Contents](#0.1)"
   ]
  },
  {
   "cell_type": "code",
   "execution_count": 130,
   "id": "92645a15-e6cf-4da1-ad8f-c0f12b39ed0c",
   "metadata": {},
   "outputs": [
    {
     "name": "stdout",
     "output_type": "stream",
     "text": [
      "Epoch 1/20\n",
      "122/122 [==============================] - 66s 543ms/step - loss: 0.0699 - accuracy: 0.9751 - precision: 0.9128 - recall: 0.9006 - val_loss: 0.0343 - val_accuracy: 0.9868 - val_precision: 0.9810 - val_recall: 0.9196 - lr: 2.0000e-04\n",
      "Epoch 2/20\n",
      "122/122 [==============================] - 65s 532ms/step - loss: 0.0725 - accuracy: 0.9736 - precision: 0.9070 - recall: 0.8948 - val_loss: 0.0343 - val_accuracy: 0.9868 - val_precision: 0.9810 - val_recall: 0.9196 - lr: 2.0000e-04\n",
      "Epoch 3/20\n",
      "122/122 [==============================] - 65s 532ms/step - loss: 0.0744 - accuracy: 0.9762 - precision: 0.9216 - recall: 0.8987 - val_loss: 0.0343 - val_accuracy: 0.9868 - val_precision: 0.9633 - val_recall: 0.9375 - lr: 2.0000e-04\n",
      "Epoch 4/20\n",
      "122/122 [==============================] - 65s 534ms/step - loss: 0.0619 - accuracy: 0.9790 - precision: 0.9473 - recall: 0.8929 - val_loss: 0.0342 - val_accuracy: 0.9868 - val_precision: 0.9720 - val_recall: 0.9286 - lr: 4.0000e-05\n",
      "Epoch 5/20\n",
      "122/122 [==============================] - 66s 539ms/step - loss: 0.0640 - accuracy: 0.9774 - precision: 0.9290 - recall: 0.9006 - val_loss: 0.0341 - val_accuracy: 0.9856 - val_precision: 0.9717 - val_recall: 0.9196 - lr: 4.0000e-05\n",
      "Epoch 6/20\n",
      "122/122 [==============================] - 65s 533ms/step - loss: 0.0696 - accuracy: 0.9769 - precision: 0.9270 - recall: 0.8987 - val_loss: 0.0343 - val_accuracy: 0.9868 - val_precision: 0.9810 - val_recall: 0.9196 - lr: 4.0000e-05\n",
      "Epoch 7/20\n",
      "122/122 [==============================] - 65s 533ms/step - loss: 0.0680 - accuracy: 0.9744 - precision: 0.9188 - recall: 0.8872 - val_loss: 0.0344 - val_accuracy: 0.9868 - val_precision: 0.9810 - val_recall: 0.9196 - lr: 8.0000e-06\n",
      "Epoch 8/20\n",
      "122/122 [==============================] - 65s 532ms/step - loss: 0.0730 - accuracy: 0.9754 - precision: 0.9261 - recall: 0.8872 - val_loss: 0.0343 - val_accuracy: 0.9856 - val_precision: 0.9717 - val_recall: 0.9196 - lr: 8.0000e-06\n",
      "CPU times: total: 5min 51s\n",
      "Wall time: 8min 41s\n"
     ]
    }
   ],
   "source": [
    "%%time\n",
    "# Fit the model\n",
    "history_cus = model.fit(X_train, y_train, epochs=20, \n",
    "                    validation_data=(X_val, y_val), \n",
    "                    callbacks=[early_stopping, lr_scheduler])"
   ]
  },
  {
   "cell_type": "markdown",
   "id": "49b8576e-c7f1-4284-b5a6-1e1724b3fb53",
   "metadata": {},
   "source": [
    "## Model Evaluation\n",
    "<a class=\"anchor\" id=\"12.2\"></a>\n",
    "[Table of Contents](#0.1)"
   ]
  },
  {
   "cell_type": "code",
   "execution_count": 131,
   "id": "68bc1b4b-621c-48c0-892e-70d88a018963",
   "metadata": {},
   "outputs": [
    {
     "name": "stdout",
     "output_type": "stream",
     "text": [
      "27/27 [==============================] - 12s 431ms/step - loss: 0.0346 - accuracy: 0.9892 - precision: 0.9813 - recall: 0.9375\n",
      "Test Loss: 0.034644171595573425\n",
      "Test Accuracy: 0.989234447479248\n"
     ]
    }
   ],
   "source": [
    "# Evaluate the model\n",
    "results_cus = model.evaluate(X_test, y_test)\n",
    "print(f\"Test Loss: {results_cus[0]}\")\n",
    "print(f\"Test Accuracy: {results_cus[1]}\")"
   ]
  },
  {
   "cell_type": "code",
   "execution_count": 132,
   "id": "af1d52b4-6c23-4e79-8bc8-42a73ec5a6d5",
   "metadata": {},
   "outputs": [
    {
     "name": "stdout",
     "output_type": "stream",
     "text": [
      "27/27 [==============================] - 12s 440ms/step\n"
     ]
    }
   ],
   "source": [
    "y_predict_cus = cus_model.predict(X_test)\n",
    "y_predict_cus = y_predict_cus.flatten()"
   ]
  },
  {
   "cell_type": "code",
   "execution_count": 133,
   "id": "ca30f06b-74d9-4ec7-a6e8-037fa7bae72b",
   "metadata": {},
   "outputs": [
    {
     "data": {
      "text/plain": [
       "array([1, 1, 1, 0, 1, 1, 1, 1, 0, 1, 1, 1, 1, 1, 1, 1, 1, 0, 1, 1, 1, 1,\n",
       "       1, 0, 1, 1, 1, 1, 1, 0, 1, 1, 1, 1, 1, 1, 1, 0, 1, 1, 1, 1, 1, 1,\n",
       "       0, 1, 1, 1, 1, 1, 1, 1, 1, 1, 1, 0, 1, 1, 1, 1, 1, 1, 1, 0, 1, 1,\n",
       "       1, 1, 1, 1, 1, 0, 1, 1, 0, 1, 1, 1, 1, 1, 0, 1, 1, 1, 1, 1, 1, 1,\n",
       "       1, 1, 1, 1, 1, 1, 1, 1, 0, 1, 1, 1, 1, 1, 1, 1, 1, 1, 1, 1, 1, 1,\n",
       "       1, 1, 1, 1, 0, 0, 1, 1, 1, 1, 1, 1, 1, 1, 1, 1, 1, 0, 0, 1, 1, 0,\n",
       "       1, 1, 1, 1, 1, 1, 1, 1, 1, 1, 1, 1, 1, 0, 1, 1, 1, 1, 1, 1, 1, 1,\n",
       "       1, 1, 1, 1, 1, 1, 1, 1, 1, 1, 1, 1, 1, 0, 1, 1, 0, 1, 1, 1, 1, 1,\n",
       "       1, 1, 0, 1, 1, 1, 1, 1, 1, 1, 1, 1, 1, 0, 1, 1, 1, 1, 1, 1, 0, 1,\n",
       "       0, 1, 1, 1, 1, 0, 1, 1, 1, 1, 1, 0, 1, 1, 1, 1, 1, 1, 1, 1, 1, 1,\n",
       "       1, 1, 1, 1, 1, 0, 1, 1, 0, 1, 1, 1, 1, 0, 1, 1, 1, 1, 1, 1, 0, 1,\n",
       "       0, 1, 1, 1, 1, 1, 1, 1, 1, 1, 1, 1, 1, 1, 1, 1, 1, 1, 1, 1, 1, 1,\n",
       "       1, 1, 1, 1, 1, 0, 1, 1, 1, 1, 1, 0, 0, 1, 0, 1, 1, 1, 1, 1, 1, 1,\n",
       "       1, 1, 1, 0, 1, 1, 1, 1, 0, 1, 1, 1, 1, 1, 1, 1, 0, 1, 0, 1, 1, 1,\n",
       "       0, 1, 1, 1, 1, 1, 1, 1, 1, 1, 0, 0, 1, 1, 1, 1, 1, 1, 1, 1, 1, 1,\n",
       "       1, 1, 1, 1, 1, 1, 1, 1, 1, 1, 1, 0, 1, 1, 1, 1, 1, 1, 1, 1, 1, 1,\n",
       "       1, 1, 1, 1, 1, 0, 1, 1, 1, 1, 1, 1, 1, 1, 1, 1, 0, 1, 1, 1, 1, 1,\n",
       "       1, 1, 0, 1, 1, 1, 1, 1, 1, 1, 1, 1, 1, 1, 1, 0, 1, 1, 1, 1, 1, 1,\n",
       "       1, 1, 1, 1, 1, 1, 1, 1, 1, 1, 1, 1, 1, 0, 1, 1, 1, 1, 1, 0, 1, 1,\n",
       "       0, 1, 1, 0, 1, 1, 1, 1, 1, 0, 1, 1, 1, 1, 0, 1, 1, 1, 1, 1, 1, 1,\n",
       "       1, 1, 1, 1, 1, 1, 1, 1, 0, 1, 1, 1, 1, 1, 1, 1, 1, 1, 1, 0, 1, 1,\n",
       "       1, 0, 1, 1, 1, 1, 0, 1, 1, 1, 1, 1, 1, 1, 1, 0, 0, 1, 0, 1, 1, 1,\n",
       "       1, 1, 0, 1, 1, 0, 1, 1, 1, 1, 1, 1, 1, 1, 1, 1, 1, 1, 1, 1, 1, 0,\n",
       "       1, 0, 0, 1, 1, 1, 1, 1, 1, 0, 1, 1, 1, 0, 1, 1, 1, 1, 1, 1, 1, 1,\n",
       "       1, 1, 1, 1, 1, 1, 1, 1, 1, 1, 1, 1, 1, 1, 1, 1, 1, 1, 1, 1, 1, 1,\n",
       "       1, 1, 1, 0, 1, 1, 1, 1, 1, 0, 1, 1, 0, 1, 1, 1, 1, 1, 0, 1, 1, 1,\n",
       "       1, 1, 0, 0, 0, 1, 1, 1, 1, 1, 1, 1, 1, 1, 1, 1, 1, 1, 0, 1, 1, 1,\n",
       "       1, 1, 1, 1, 0, 1, 1, 1, 1, 1, 1, 1, 0, 1, 1, 1, 1, 1, 0, 0, 1, 1,\n",
       "       1, 1, 1, 1, 1, 1, 1, 1, 1, 1, 1, 1, 1, 0, 1, 1, 1, 1, 1, 1, 1, 1,\n",
       "       1, 1, 1, 1, 1, 1, 1, 1, 1, 1, 0, 1, 1, 0, 1, 1, 1, 1, 1, 1, 1, 1,\n",
       "       1, 1, 1, 0, 1, 1, 0, 1, 1, 1, 1, 1, 1, 1, 1, 1, 1, 0, 1, 1, 0, 1,\n",
       "       1, 0, 1, 1, 1, 1, 1, 1, 1, 1, 1, 1, 0, 1, 1, 1, 1, 1, 0, 0, 1, 1,\n",
       "       1, 1, 1, 1, 1, 0, 1, 1, 1, 1, 1, 0, 1, 1, 1, 1, 1, 1, 0, 1, 1, 1,\n",
       "       0, 1, 1, 1, 1, 1, 1, 0, 1, 1, 0, 1, 1, 1, 1, 1, 0, 0, 1, 1, 1, 1,\n",
       "       1, 1, 1, 1, 1, 1, 1, 1, 1, 1, 1, 1, 1, 1, 1, 1, 1, 1, 1, 1, 1, 1,\n",
       "       1, 1, 1, 1, 0, 1, 1, 1, 1, 1, 1, 1, 1, 1, 1, 1, 1, 1, 1, 0, 1, 1,\n",
       "       1, 1, 1, 1, 1, 1, 1, 1, 1, 1, 1, 1, 1, 1, 1, 1, 0, 1, 1, 1, 1, 1,\n",
       "       1, 1, 1, 1, 1, 1, 1, 0, 0, 1, 1, 1, 0, 1, 1, 1, 1, 1, 1, 0, 0, 1])"
      ]
     },
     "execution_count": 133,
     "metadata": {},
     "output_type": "execute_result"
    }
   ],
   "source": [
    "y_predict_cus = np.where(y_predict_cus > 0.5,1,0)\n",
    "y_predict_cus"
   ]
  },
  {
   "cell_type": "code",
   "execution_count": 134,
   "id": "5543c5a0-ecfb-4dec-889e-3ba37a907753",
   "metadata": {},
   "outputs": [
    {
     "data": {
      "text/plain": [
       "array([[ 96, 628],\n",
       "       [ 11, 101]], dtype=int64)"
      ]
     },
     "execution_count": 134,
     "metadata": {},
     "output_type": "execute_result"
    }
   ],
   "source": [
    "cm_cus = confusion_matrix(y_test, y_predict_cus)\n",
    "cm_cus"
   ]
  },
  {
   "cell_type": "code",
   "execution_count": 135,
   "id": "931aff55-7eb8-48fe-a6f0-711697997bb6",
   "metadata": {},
   "outputs": [
    {
     "data": {
      "text/plain": [
       "Text(43.25, 0.5, 'Actual')"
      ]
     },
     "execution_count": 135,
     "metadata": {},
     "output_type": "execute_result"
    },
    {
     "data": {
      "image/png": "[encoded data removed]",
      "text/plain": [
       "<Figure size 640x480 with 2 Axes>"
      ]
     },
     "metadata": {},
     "output_type": "display_data"
    }
   ],
   "source": [
    "sns.heatmap(cm_cus, annot=True, fmt = 'd')\n",
    "plt.xlabel('Predicted')\n",
    "plt.ylabel('Actual')"
   ]
  },
  {
   "cell_type": "code",
   "execution_count": 136,
   "id": "3665785c-70e4-427b-99c8-2e3c6f1c6212",
   "metadata": {},
   "outputs": [
    {
     "name": "stdout",
     "output_type": "stream",
     "text": [
      "              precision    recall  f1-score   support\n",
      "\n",
      "         Ham       0.90      0.13      0.23       724\n",
      "        Spam       0.14      0.90      0.24       112\n",
      "\n",
      "    accuracy                           0.24       836\n",
      "   macro avg       0.52      0.52      0.24       836\n",
      "weighted avg       0.80      0.24      0.23       836\n",
      "\n"
     ]
    }
   ],
   "source": [
    "cus = classification_report(y_test, y_predict_cus, target_names=['Ham', 'Spam'])\n",
    "print(cus)"
   ]
  },
  {
   "cell_type": "code",
   "execution_count": 137,
   "id": "5de83311-2a13-4d51-ade3-21f4e1d73d81",
   "metadata": {},
   "outputs": [
    {
     "name": "stdout",
     "output_type": "stream",
     "text": [
      "1/1 [==============================] - 1s 947ms/step\n"
     ]
    },
    {
     "data": {
      "text/plain": [
       "array([[0.50201404],\n",
       "       [0.5446488 ],\n",
       "       [0.52540606],\n",
       "       [0.53057665],\n",
       "       [0.52335185]], dtype=float32)"
      ]
     },
     "execution_count": 137,
     "metadata": {},
     "output_type": "execute_result"
    }
   ],
   "source": [
    "# Detection of examples\n",
    "cus_inf = cus_model.predict(reviews)\n",
    "cus_inf"
   ]
  },
  {
   "cell_type": "markdown",
   "id": "078d3e32-fdc5-42f4-90d1-f9147519f648",
   "metadata": {},
   "source": [
    "## Hyperparameter Tuning with Keras Tuner (Custom Loss)\n",
    "<a class=\"anchor\" id=\"13\"></a>\n",
    "[Table of Contents](#0.1)"
   ]
  },
  {
   "cell_type": "code",
   "execution_count": 138,
   "id": "171835f1-d1db-4968-ba79-1cc043148be2",
   "metadata": {},
   "outputs": [
    {
     "name": "stdout",
     "output_type": "stream",
     "text": [
      "Trial 3 Complete [00h 02m 14s]\n",
      "val_accuracy: 0.9844497442245483\n",
      "\n",
      "Best val_accuracy So Far: 0.9868420958518982\n",
      "Total elapsed time: 00h 06m 45s\n",
      "CPU times: total: 4min 43s\n",
      "Wall time: 6min 46s\n"
     ]
    }
   ],
   "source": [
    "%%time\n",
    "# Initialize Keras Tuner with the existing model\n",
    "tuner = kt.Hyperband(\n",
    "    compile_model,\n",
    "    objective='val_accuracy',\n",
    "    max_epochs=5,\n",
    "    factor=3,\n",
    "    directory=os.getcwd(),\n",
    "    project_name='cus_model'\n",
    ")\n",
    "\n",
    "# Perform hyperparameter tuning\n",
    "tuner.search(X_train, y_train, epochs=5, validation_data=(X_val, y_val))\n",
    "\n",
    "# Get the best model\n",
    "best_model_cus = tuner.get_best_models(num_models=1)[0]"
   ]
  },
  {
   "cell_type": "code",
   "execution_count": 139,
   "id": "88ab073f-d449-4f0f-96ce-be03aea5c9fb",
   "metadata": {},
   "outputs": [
    {
     "name": "stdout",
     "output_type": "stream",
     "text": [
      "27/27 [==============================] - 12s 408ms/step - loss: 0.0333 - accuracy: 0.9850 - precision: 0.9807 - recall: 0.9062\n",
      "\n",
      "Validation Loss: 0.03334769606590271\n",
      "Validation Accuracy: 0.9850478172302246\n"
     ]
    }
   ],
   "source": [
    "# Evaluate the best model on the validation set\n",
    "hp_results_val_cus = best_model_cus.evaluate(X_val, y_val)\n",
    "print(f\"\\nValidation Loss: {hp_results_val_cus[0]}\")\n",
    "print(f\"Validation Accuracy: {hp_results_val_cus[1]}\")"
   ]
  },
  {
   "cell_type": "code",
   "execution_count": 140,
   "id": "c05b958b-c167-43ac-af70-0dbc4d9715db",
   "metadata": {},
   "outputs": [
    {
     "name": "stdout",
     "output_type": "stream",
     "text": [
      "27/27 [==============================] - 11s 408ms/step - loss: 0.0349 - accuracy: 0.9880 - precision: 0.9811 - recall: 0.9286\n",
      "\\Test Loss: 0.03488761931657791\n",
      "Test Accuracy: 0.9880383014678955\n"
     ]
    }
   ],
   "source": [
    "# Evaluate the best model on the test set\n",
    "hp_results_test_cus = best_model_cus.evaluate(X_test, y_test)\n",
    "print(f\"\\Test Loss: {hp_results_test_cus[0]}\")\n",
    "print(f\"Test Accuracy: {hp_results_test_cus[1]}\")"
   ]
  },
  {
   "cell_type": "markdown",
   "id": "a3169433-726e-4465-af82-25154f05c315",
   "metadata": {},
   "source": [
    "## Model Building\n",
    "<a class=\"anchor\" id=\"13.1\"></a>\n",
    "[Table of Contents](#0.1)"
   ]
  },
  {
   "cell_type": "code",
   "execution_count": 141,
   "id": "84d1a61c-a16d-49b0-98ba-4a91d689cef3",
   "metadata": {},
   "outputs": [
    {
     "name": "stdout",
     "output_type": "stream",
     "text": [
      "Epoch 1/20\n",
      "122/122 [==============================] - 66s 518ms/step - loss: 0.0677 - accuracy: 0.9759 - precision: 0.9231 - recall: 0.8948 - val_loss: 0.0350 - val_accuracy: 0.9856 - val_precision: 0.9717 - val_recall: 0.9196 - lr: 0.0010\n",
      "Epoch 2/20\n",
      "122/122 [==============================] - 63s 517ms/step - loss: 0.0729 - accuracy: 0.9744 - precision: 0.9273 - recall: 0.8776 - val_loss: 0.0329 - val_accuracy: 0.9868 - val_precision: 0.9720 - val_recall: 0.9286 - lr: 0.0010\n",
      "Epoch 3/20\n",
      "122/122 [==============================] - 63s 514ms/step - loss: 0.0691 - accuracy: 0.9767 - precision: 0.9219 - recall: 0.9025 - val_loss: 0.0341 - val_accuracy: 0.9880 - val_precision: 0.9722 - val_recall: 0.9375 - lr: 0.0010\n",
      "Epoch 4/20\n",
      "122/122 [==============================] - 63s 515ms/step - loss: 0.0637 - accuracy: 0.9769 - precision: 0.9287 - recall: 0.8967 - val_loss: 0.1094 - val_accuracy: 0.9844 - val_precision: 0.9381 - val_recall: 0.9464 - lr: 0.0010\n",
      "Epoch 5/20\n",
      "122/122 [==============================] - 63s 515ms/step - loss: 0.0720 - accuracy: 0.9751 - precision: 0.9277 - recall: 0.8834 - val_loss: 0.0343 - val_accuracy: 0.9868 - val_precision: 0.9810 - val_recall: 0.9196 - lr: 2.0000e-04\n",
      "CPU times: total: 3min 42s\n",
      "Wall time: 5min 16s\n"
     ]
    },
    {
     "data": {
      "text/plain": [
       "<keras.callbacks.History at 0x1bea8e51270>"
      ]
     },
     "execution_count": 141,
     "metadata": {},
     "output_type": "execute_result"
    }
   ],
   "source": [
    "%%time\n",
    "# Fitting best model on X_train, y_train, X_val, y_val, X_test, y_test\n",
    "best_model_cus.fit(X_train, y_train, epochs=20, \n",
    "                    validation_data=(X_val, y_val), \n",
    "                    callbacks=[early_stopping, lr_scheduler])"
   ]
  },
  {
   "cell_type": "markdown",
   "id": "09463de9-1aa5-45bc-854a-b071f9f465f6",
   "metadata": {},
   "source": [
    "## Model Evaluation\n",
    "<a class=\"anchor\" id=\"13.2\"></a>\n",
    "[Table of Contents](#0.1)"
   ]
  },
  {
   "cell_type": "code",
   "execution_count": 142,
   "id": "f01d05a9-6923-4b17-b233-419cae1dc9a6",
   "metadata": {},
   "outputs": [
    {
     "name": "stdout",
     "output_type": "stream",
     "text": [
      "27/27 [==============================] - 12s 413ms/step\n"
     ]
    }
   ],
   "source": [
    "y_predict_hp_cus = best_model_cus.predict(X_test)\n",
    "y_predict_hp_cus = y_predict_hp_cus.flatten()"
   ]
  },
  {
   "cell_type": "code",
   "execution_count": 143,
   "id": "cbfaa08c-c2a3-46ba-9892-c19cdaf3e564",
   "metadata": {},
   "outputs": [
    {
     "data": {
      "text/plain": [
       "array([0, 1, 0, 0, 0, 1, 0, 0, 0, 1, 0, 0, 0, 0, 0, 0, 0, 0, 0, 0, 0, 0,\n",
       "       0, 0, 1, 0, 0, 1, 0, 1, 0, 0, 1, 0, 0, 0, 0, 0, 0, 0, 0, 1, 0, 0,\n",
       "       0, 0, 1, 0, 0, 0, 0, 0, 0, 0, 1, 0, 0, 0, 0, 0, 0, 0, 0, 0, 0, 0,\n",
       "       1, 0, 0, 1, 0, 0, 0, 0, 0, 1, 1, 0, 0, 0, 0, 0, 0, 0, 1, 0, 0, 0,\n",
       "       0, 0, 0, 1, 0, 0, 0, 1, 0, 0, 0, 0, 0, 0, 0, 0, 0, 1, 0, 0, 0, 1,\n",
       "       0, 0, 0, 0, 0, 0, 0, 0, 0, 1, 0, 0, 1, 0, 0, 1, 0, 1, 1, 0, 0, 0,\n",
       "       0, 0, 0, 0, 1, 0, 0, 0, 1, 0, 0, 0, 0, 0, 0, 0, 1, 0, 0, 0, 0, 0,\n",
       "       0, 1, 1, 0, 0, 0, 0, 0, 0, 0, 0, 0, 0, 0, 0, 1, 0, 1, 0, 0, 0, 0,\n",
       "       0, 0, 0, 0, 0, 0, 0, 0, 0, 0, 0, 0, 0, 0, 0, 0, 0, 0, 0, 0, 0, 0,\n",
       "       0, 0, 0, 0, 0, 0, 0, 0, 1, 0, 1, 0, 0, 0, 0, 0, 0, 0, 1, 0, 1, 0,\n",
       "       0, 0, 0, 1, 0, 0, 0, 0, 0, 0, 0, 0, 0, 0, 0, 0, 0, 1, 0, 0, 0, 1,\n",
       "       0, 0, 0, 0, 0, 0, 1, 0, 0, 0, 0, 0, 0, 0, 0, 0, 0, 0, 0, 0, 0, 0,\n",
       "       0, 0, 0, 0, 0, 0, 0, 0, 0, 0, 0, 0, 0, 0, 0, 0, 0, 0, 1, 0, 1, 0,\n",
       "       0, 0, 0, 0, 0, 0, 0, 1, 0, 0, 0, 1, 0, 0, 0, 0, 0, 0, 0, 0, 0, 0,\n",
       "       0, 1, 0, 0, 0, 1, 0, 0, 0, 0, 0, 0, 0, 0, 0, 0, 0, 0, 0, 0, 0, 0,\n",
       "       0, 0, 0, 0, 0, 0, 0, 0, 0, 0, 0, 0, 0, 0, 0, 0, 0, 1, 0, 0, 1, 1,\n",
       "       0, 0, 0, 0, 0, 0, 0, 0, 0, 0, 0, 0, 0, 1, 0, 1, 0, 0, 0, 0, 1, 0,\n",
       "       0, 0, 0, 0, 0, 1, 0, 0, 0, 0, 0, 0, 0, 0, 0, 0, 0, 0, 0, 0, 0, 0,\n",
       "       0, 0, 1, 1, 0, 0, 1, 0, 0, 0, 0, 0, 0, 0, 0, 0, 0, 0, 0, 0, 0, 0,\n",
       "       0, 0, 0, 1, 0, 0, 1, 0, 0, 0, 0, 0, 0, 0, 0, 0, 0, 0, 0, 0, 0, 0,\n",
       "       0, 1, 0, 0, 0, 0, 0, 0, 1, 0, 0, 0, 0, 0, 0, 0, 0, 0, 0, 0, 0, 0,\n",
       "       1, 0, 0, 0, 0, 0, 0, 1, 0, 0, 0, 0, 0, 0, 0, 0, 0, 0, 0, 0, 1, 0,\n",
       "       0, 0, 0, 0, 0, 1, 0, 0, 0, 0, 0, 0, 0, 0, 0, 0, 0, 0, 1, 0, 1, 0,\n",
       "       0, 1, 0, 0, 0, 0, 0, 0, 1, 0, 0, 0, 0, 0, 0, 0, 0, 1, 1, 0, 1, 0,\n",
       "       0, 0, 0, 0, 0, 0, 1, 0, 0, 0, 0, 0, 0, 0, 0, 0, 0, 0, 0, 0, 1, 0,\n",
       "       0, 1, 0, 1, 0, 0, 0, 0, 0, 0, 0, 0, 0, 0, 0, 0, 0, 0, 0, 0, 0, 0,\n",
       "       0, 0, 0, 0, 0, 0, 0, 0, 0, 0, 0, 0, 0, 0, 0, 1, 0, 0, 0, 0, 0, 0,\n",
       "       0, 0, 0, 0, 0, 0, 0, 0, 0, 0, 0, 0, 1, 0, 0, 0, 0, 0, 0, 0, 0, 0,\n",
       "       0, 0, 0, 0, 0, 0, 1, 0, 0, 0, 0, 1, 0, 0, 0, 1, 0, 0, 0, 0, 0, 0,\n",
       "       1, 0, 0, 0, 0, 0, 1, 0, 0, 0, 0, 0, 0, 0, 0, 0, 0, 0, 1, 0, 0, 0,\n",
       "       1, 1, 1, 0, 0, 1, 0, 0, 0, 0, 0, 0, 0, 0, 0, 0, 0, 0, 0, 0, 0, 0,\n",
       "       1, 0, 0, 1, 0, 0, 0, 0, 0, 1, 1, 0, 0, 0, 0, 1, 0, 0, 0, 0, 0, 0,\n",
       "       0, 0, 0, 0, 0, 0, 0, 0, 0, 0, 0, 0, 0, 0, 0, 0, 0, 0, 0, 0, 1, 0,\n",
       "       0, 0, 0, 0, 0, 1, 0, 0, 0, 0, 0, 0, 0, 0, 1, 0, 0, 0, 0, 0, 0, 0,\n",
       "       0, 0, 0, 0, 0, 0, 0, 0, 0, 0, 0, 0, 0, 0, 0, 0, 0, 0, 0, 0, 0, 0,\n",
       "       0, 0, 0, 0, 0, 0, 0, 0, 0, 1, 0, 1, 0, 0, 0, 0, 0, 0, 0, 1, 0, 0,\n",
       "       0, 0, 0, 0, 0, 0, 1, 0, 0, 0, 1, 0, 0, 0, 0, 0, 0, 0, 0, 0, 1, 0,\n",
       "       1, 0, 1, 0, 0, 0, 0, 0, 0, 0, 1, 0, 0, 0, 1, 0, 0, 0, 0, 1, 0, 1])"
      ]
     },
     "execution_count": 143,
     "metadata": {},
     "output_type": "execute_result"
    }
   ],
   "source": [
    "y_predict_hp_cus = np.where(y_predict_hp_cus > 0.5,1,0)\n",
    "y_predict_hp_cus"
   ]
  },
  {
   "cell_type": "code",
   "execution_count": 144,
   "id": "e389a1d6-a673-40e9-91a8-e80523f89816",
   "metadata": {},
   "outputs": [
    {
     "data": {
      "text/plain": [
       "array([[722,   2],\n",
       "       [  8, 104]], dtype=int64)"
      ]
     },
     "execution_count": 144,
     "metadata": {},
     "output_type": "execute_result"
    }
   ],
   "source": [
    "cm_hp_cus = confusion_matrix(y_test, y_predict_hp_cus)\n",
    "cm_hp_cus"
   ]
  },
  {
   "cell_type": "code",
   "execution_count": 145,
   "id": "ffab9197-4295-4368-b23b-1fd34a487bc9",
   "metadata": {},
   "outputs": [
    {
     "data": {
      "text/plain": [
       "Text(43.25, 0.5, 'Actual')"
      ]
     },
     "execution_count": 145,
     "metadata": {},
     "output_type": "execute_result"
    },
    {
     "data": {
      "image/png": "[encoded data removed]",
      "text/plain": [
       "<Figure size 640x480 with 2 Axes>"
      ]
     },
     "metadata": {},
     "output_type": "display_data"
    }
   ],
   "source": [
    "sns.heatmap(cm_hp_cus, annot=True, fmt = 'd')\n",
    "plt.xlabel('Predicted')\n",
    "plt.ylabel('Actual')"
   ]
  },
  {
   "cell_type": "code",
   "execution_count": 146,
   "id": "ca5b73bb-480c-409f-8c4a-c4bfb96d58c7",
   "metadata": {},
   "outputs": [
    {
     "name": "stdout",
     "output_type": "stream",
     "text": [
      "              precision    recall  f1-score   support\n",
      "\n",
      "         Ham       0.99      1.00      0.99       724\n",
      "        Spam       0.98      0.93      0.95       112\n",
      "\n",
      "    accuracy                           0.99       836\n",
      "   macro avg       0.99      0.96      0.97       836\n",
      "weighted avg       0.99      0.99      0.99       836\n",
      "\n"
     ]
    }
   ],
   "source": [
    "cus_hp = classification_report(y_test, y_predict_hp_cus, target_names=['Ham', 'Spam'])\n",
    "print(cus_hp)"
   ]
  },
  {
   "cell_type": "markdown",
   "id": "c2fb35b5-a034-49e6-9d9d-b5c60d62a49c",
   "metadata": {},
   "source": [
    "## Additional Metrics (ROC-AUC) for BERT\n",
    "<a class=\"anchor\" id=\"13.3\"></a>\n",
    "[Table of Contents](#0.1)"
   ]
  },
  {
   "cell_type": "code",
   "execution_count": 147,
   "id": "8bb69eae-f313-413f-aa87-93c5c4e66896",
   "metadata": {},
   "outputs": [
    {
     "name": "stdout",
     "output_type": "stream",
     "text": [
      "ROC-AUC Score on Test Set: 0.9629\n"
     ]
    }
   ],
   "source": [
    "roc_auc_test = roc_auc_score(y_test, y_predict_hp_cus)\n",
    "print(f'ROC-AUC Score on Test Set: {roc_auc_test:.4f}')"
   ]
  },
  {
   "cell_type": "code",
   "execution_count": 148,
   "id": "9af72b42-05fc-4899-a9f0-785937875813",
   "metadata": {},
   "outputs": [
    {
     "data": {
      "image/png": "[encoded data removed]",
      "text/plain": [
       "<Figure size 640x480 with 1 Axes>"
      ]
     },
     "metadata": {},
     "output_type": "display_data"
    }
   ],
   "source": [
    "# y_test and y_predict_hp_cus are already defined\n",
    "fpr, tpr, _ = roc_curve(y_test, y_predict_hp)\n",
    "roc_auc = auc(fpr, tpr)\n",
    "\n",
    "# Plotting the ROC curve\n",
    "plt.figure()\n",
    "plt.plot(fpr, tpr, color='darkorange', lw=2, label=f'ROC curve (area = {roc_auc:.4f})')\n",
    "plt.plot([0, 1], [0, 1], color='navy', lw=2, linestyle='--')\n",
    "plt.xlim([0.0, 1.0])\n",
    "plt.ylim([0.0, 1.05])\n",
    "plt.xlabel('False Positive Rate')\n",
    "plt.ylabel('True Positive Rate')\n",
    "plt.title('Receiver Operating Characteristic (ROC) Curve')\n",
    "plt.legend(loc='lower right')\n",
    "plt.show()\n"
   ]
  },
  {
   "cell_type": "code",
   "execution_count": 149,
   "id": "d2331ea9-c01f-412e-bb55-75d23707f205",
   "metadata": {},
   "outputs": [
    {
     "name": "stdout",
     "output_type": "stream",
     "text": [
      "1/1 [==============================] - 1s 697ms/step\n"
     ]
    },
    {
     "data": {
      "text/plain": [
       "array([[0.038733  ],\n",
       "       [0.48401392],\n",
       "       [0.21443476],\n",
       "       [0.4764059 ],\n",
       "       [0.00154567]], dtype=float32)"
      ]
     },
     "execution_count": 149,
     "metadata": {},
     "output_type": "execute_result"
    }
   ],
   "source": [
    "# Detection of examples\n",
    "cus_inf_hp = best_model_cus.predict(reviews)\n",
    "cus_inf_hp"
   ]
  },
  {
   "cell_type": "markdown",
   "id": "0e2aca4a-d1cf-4ed4-9b45-d6a317be7ada",
   "metadata": {},
   "source": [
    "## Performance Comparison of Fine-Tuned BERT\n",
    "<a class=\"anchor\" id=\"14\"></a>\n",
    "[Table of Contents](#0.1)"
   ]
  },
  {
   "cell_type": "code",
   "execution_count": 151,
   "id": "9244cb20-e7d2-4c49-8082-85dfbd9630ce",
   "metadata": {},
   "outputs": [
    {
     "data": {
      "text/html": [
       "<div>\n",
       "<style scoped>\n",
       "    .dataframe tbody tr th:only-of-type {\n",
       "        vertical-align: middle;\n",
       "    }\n",
       "\n",
       "    .dataframe tbody tr th {\n",
       "        vertical-align: top;\n",
       "    }\n",
       "\n",
       "    .dataframe thead th {\n",
       "        text-align: right;\n",
       "    }\n",
       "</style>\n",
       "<table border=\"1\" class=\"dataframe\">\n",
       "  <thead>\n",
       "    <tr style=\"text-align: right;\">\n",
       "      <th></th>\n",
       "      <th>Model</th>\n",
       "      <th>Accuracy</th>\n",
       "      <th>Precision (ham)</th>\n",
       "      <th>Precision (spam)</th>\n",
       "      <th>Recall (ham)</th>\n",
       "      <th>Recall (spam)</th>\n",
       "      <th>F1-score (ham)</th>\n",
       "      <th>F1-score (spam)</th>\n",
       "      <th>Support (ham)</th>\n",
       "      <th>Support (spam)</th>\n",
       "    </tr>\n",
       "  </thead>\n",
       "  <tbody>\n",
       "    <tr>\n",
       "      <th>0</th>\n",
       "      <td>Original</td>\n",
       "      <td>0.990431</td>\n",
       "      <td>0.991758</td>\n",
       "      <td>0.981481</td>\n",
       "      <td>0.997238</td>\n",
       "      <td>0.946429</td>\n",
       "      <td>0.994490</td>\n",
       "      <td>0.963636</td>\n",
       "      <td>724.0</td>\n",
       "      <td>112.0</td>\n",
       "    </tr>\n",
       "    <tr>\n",
       "      <th>1</th>\n",
       "      <td>Down Sampling</td>\n",
       "      <td>0.960000</td>\n",
       "      <td>0.926230</td>\n",
       "      <td>1.000000</td>\n",
       "      <td>1.000000</td>\n",
       "      <td>0.919643</td>\n",
       "      <td>0.961702</td>\n",
       "      <td>0.958140</td>\n",
       "      <td>113.0</td>\n",
       "      <td>112.0</td>\n",
       "    </tr>\n",
       "    <tr>\n",
       "      <th>2</th>\n",
       "      <td>Up Sampling</td>\n",
       "      <td>0.982735</td>\n",
       "      <td>0.987448</td>\n",
       "      <td>0.978112</td>\n",
       "      <td>0.977901</td>\n",
       "      <td>0.987569</td>\n",
       "      <td>0.982651</td>\n",
       "      <td>0.982818</td>\n",
       "      <td>724.0</td>\n",
       "      <td>724.0</td>\n",
       "    </tr>\n",
       "    <tr>\n",
       "      <th>3</th>\n",
       "      <td>Class Weights</td>\n",
       "      <td>0.153110</td>\n",
       "      <td>1.000000</td>\n",
       "      <td>0.136585</td>\n",
       "      <td>0.022099</td>\n",
       "      <td>1.000000</td>\n",
       "      <td>0.043243</td>\n",
       "      <td>0.240343</td>\n",
       "      <td>724.0</td>\n",
       "      <td>112.0</td>\n",
       "    </tr>\n",
       "    <tr>\n",
       "      <th>4</th>\n",
       "      <td>Custom Loss</td>\n",
       "      <td>0.235646</td>\n",
       "      <td>0.897196</td>\n",
       "      <td>0.138546</td>\n",
       "      <td>0.132597</td>\n",
       "      <td>0.901786</td>\n",
       "      <td>0.231047</td>\n",
       "      <td>0.240190</td>\n",
       "      <td>724.0</td>\n",
       "      <td>112.0</td>\n",
       "    </tr>\n",
       "  </tbody>\n",
       "</table>\n",
       "</div>"
      ],
      "text/plain": [
       "           Model  Accuracy  Precision (ham)  Precision (spam)  Recall (ham)  \\\n",
       "0       Original  0.990431         0.991758          0.981481      0.997238   \n",
       "1  Down Sampling  0.960000         0.926230          1.000000      1.000000   \n",
       "2    Up Sampling  0.982735         0.987448          0.978112      0.977901   \n",
       "3  Class Weights  0.153110         1.000000          0.136585      0.022099   \n",
       "4    Custom Loss  0.235646         0.897196          0.138546      0.132597   \n",
       "\n",
       "   Recall (spam)  F1-score (ham)  F1-score (spam)  Support (ham)  \\\n",
       "0       0.946429        0.994490         0.963636          724.0   \n",
       "1       0.919643        0.961702         0.958140          113.0   \n",
       "2       0.987569        0.982651         0.982818          724.0   \n",
       "3       1.000000        0.043243         0.240343          724.0   \n",
       "4       0.901786        0.231047         0.240190          724.0   \n",
       "\n",
       "   Support (spam)  \n",
       "0           112.0  \n",
       "1           112.0  \n",
       "2           724.0  \n",
       "3           112.0  \n",
       "4           112.0  "
      ]
     },
     "execution_count": 151,
     "metadata": {},
     "output_type": "execute_result"
    }
   ],
   "source": [
    "# Converting the actual classification report metrics into dictionaries\n",
    "nml_metrics = classification_report(y_test, y_predict, target_names=['ham', 'spam'], output_dict=True)\n",
    "dwn_metrics = classification_report(y_test_dwn, y_predict_dwn, target_names=['ham', 'spam'], output_dict=True)\n",
    "up_metrics = classification_report(y_test_up, y_predict_up, target_names=['ham', 'spam'], output_dict=True)\n",
    "clw_metrics = classification_report(y_test, y_predict_clw, target_names=['ham', 'spam'], output_dict=True)\n",
    "cus_metrics = classification_report(y_test, y_predict_cus, target_names=['ham', 'spam'], output_dict=True)\n",
    "\n",
    "# Create a DataFrame with the relevant metrics\n",
    "metrics_df = pd.DataFrame({\n",
    "    'Model': ['Original', 'Down Sampling', 'Up Sampling', 'Class Weights', 'Custom Loss'],\n",
    "    'Accuracy': [nml_metrics['accuracy'], dwn_metrics['accuracy'], up_metrics['accuracy'], clw_metrics['accuracy'], cus_metrics['accuracy']],\n",
    "    'Precision (ham)': [nml_metrics['ham']['precision'], dwn_metrics['ham']['precision'], up_metrics['ham']['precision'], clw_metrics['ham']['precision'], cus_metrics['ham']['precision']],\n",
    "    'Precision (spam)': [nml_metrics['spam']['precision'], dwn_metrics['spam']['precision'], up_metrics['spam']['precision'], clw_metrics['spam']['precision'], cus_metrics['spam']['precision']],\n",
    "    'Recall (ham)': [nml_metrics['ham']['recall'], dwn_metrics['ham']['recall'], up_metrics['ham']['recall'], clw_metrics['ham']['recall'], cus_metrics['ham']['recall']],\n",
    "    'Recall (spam)': [nml_metrics['spam']['recall'], dwn_metrics['spam']['recall'], up_metrics['spam']['recall'], clw_metrics['spam']['recall'], cus_metrics['spam']['recall']],\n",
    "    'F1-score (ham)': [nml_metrics['ham']['f1-score'], dwn_metrics['ham']['f1-score'], up_metrics['ham']['f1-score'], clw_metrics['ham']['f1-score'], cus_metrics['ham']['f1-score']],\n",
    "    'F1-score (spam)': [nml_metrics['spam']['f1-score'], dwn_metrics['spam']['f1-score'], up_metrics['spam']['f1-score'], clw_metrics['spam']['f1-score'], cus_metrics['spam']['f1-score']],\n",
    "    'Support (ham)': [nml_metrics['ham']['support'], dwn_metrics['ham']['support'], up_metrics['ham']['support'], clw_metrics['ham']['support'], cus_metrics['ham']['support']],\n",
    "    'Support (spam)': [nml_metrics['spam']['support'], dwn_metrics['spam']['support'], up_metrics['spam']['support'], clw_metrics['spam']['support'], cus_metrics['spam']['support']]\n",
    "})\n",
    "\n",
    "# Display the comprehensive comparison table\n",
    "metrics_df\n"
   ]
  },
  {
   "cell_type": "markdown",
   "id": "9fc30fac-65d0-4ac0-a5d6-a8a89964fb5c",
   "metadata": {},
   "source": [
    "## Performance Comparison of Hyperparameter-Tuned BERT\n",
    "<a class=\"anchor\" id=\"15\"></a>\n",
    "[Table of Contents](#0.1)"
   ]
  },
  {
   "cell_type": "code",
   "execution_count": 152,
   "id": "0cfb5a90-0f72-4364-b3ca-bf68b5b6dd66",
   "metadata": {},
   "outputs": [
    {
     "data": {
      "text/html": [
       "<div>\n",
       "<style scoped>\n",
       "    .dataframe tbody tr th:only-of-type {\n",
       "        vertical-align: middle;\n",
       "    }\n",
       "\n",
       "    .dataframe tbody tr th {\n",
       "        vertical-align: top;\n",
       "    }\n",
       "\n",
       "    .dataframe thead th {\n",
       "        text-align: right;\n",
       "    }\n",
       "</style>\n",
       "<table border=\"1\" class=\"dataframe\">\n",
       "  <thead>\n",
       "    <tr style=\"text-align: right;\">\n",
       "      <th></th>\n",
       "      <th>Model</th>\n",
       "      <th>Accuracy</th>\n",
       "      <th>Precision (ham)</th>\n",
       "      <th>Precision (spam)</th>\n",
       "      <th>Recall (ham)</th>\n",
       "      <th>Recall (spam)</th>\n",
       "      <th>F1-score (ham)</th>\n",
       "      <th>F1-score (spam)</th>\n",
       "      <th>Support (ham)</th>\n",
       "      <th>Support (spam)</th>\n",
       "    </tr>\n",
       "  </thead>\n",
       "  <tbody>\n",
       "    <tr>\n",
       "      <th>0</th>\n",
       "      <td>Original</td>\n",
       "      <td>0.989234</td>\n",
       "      <td>0.990398</td>\n",
       "      <td>0.981308</td>\n",
       "      <td>0.997238</td>\n",
       "      <td>0.937500</td>\n",
       "      <td>0.993806</td>\n",
       "      <td>0.958904</td>\n",
       "      <td>724.0</td>\n",
       "      <td>112.0</td>\n",
       "    </tr>\n",
       "    <tr>\n",
       "      <th>1</th>\n",
       "      <td>Down Sampling</td>\n",
       "      <td>0.964444</td>\n",
       "      <td>0.956522</td>\n",
       "      <td>0.972727</td>\n",
       "      <td>0.973451</td>\n",
       "      <td>0.955357</td>\n",
       "      <td>0.964912</td>\n",
       "      <td>0.963964</td>\n",
       "      <td>113.0</td>\n",
       "      <td>112.0</td>\n",
       "    </tr>\n",
       "    <tr>\n",
       "      <th>2</th>\n",
       "      <td>Up Sampling</td>\n",
       "      <td>0.983425</td>\n",
       "      <td>0.988827</td>\n",
       "      <td>0.978142</td>\n",
       "      <td>0.977901</td>\n",
       "      <td>0.988950</td>\n",
       "      <td>0.983333</td>\n",
       "      <td>0.983516</td>\n",
       "      <td>724.0</td>\n",
       "      <td>724.0</td>\n",
       "    </tr>\n",
       "    <tr>\n",
       "      <th>3</th>\n",
       "      <td>Class Weights</td>\n",
       "      <td>0.988038</td>\n",
       "      <td>0.989041</td>\n",
       "      <td>0.981132</td>\n",
       "      <td>0.997238</td>\n",
       "      <td>0.928571</td>\n",
       "      <td>0.993122</td>\n",
       "      <td>0.954128</td>\n",
       "      <td>724.0</td>\n",
       "      <td>112.0</td>\n",
       "    </tr>\n",
       "    <tr>\n",
       "      <th>4</th>\n",
       "      <td>Custom Loss</td>\n",
       "      <td>0.988038</td>\n",
       "      <td>0.989041</td>\n",
       "      <td>0.981132</td>\n",
       "      <td>0.997238</td>\n",
       "      <td>0.928571</td>\n",
       "      <td>0.993122</td>\n",
       "      <td>0.954128</td>\n",
       "      <td>724.0</td>\n",
       "      <td>112.0</td>\n",
       "    </tr>\n",
       "  </tbody>\n",
       "</table>\n",
       "</div>"
      ],
      "text/plain": [
       "           Model  Accuracy  Precision (ham)  Precision (spam)  Recall (ham)  \\\n",
       "0       Original  0.989234         0.990398          0.981308      0.997238   \n",
       "1  Down Sampling  0.964444         0.956522          0.972727      0.973451   \n",
       "2    Up Sampling  0.983425         0.988827          0.978142      0.977901   \n",
       "3  Class Weights  0.988038         0.989041          0.981132      0.997238   \n",
       "4    Custom Loss  0.988038         0.989041          0.981132      0.997238   \n",
       "\n",
       "   Recall (spam)  F1-score (ham)  F1-score (spam)  Support (ham)  \\\n",
       "0       0.937500        0.993806         0.958904          724.0   \n",
       "1       0.955357        0.964912         0.963964          113.0   \n",
       "2       0.988950        0.983333         0.983516          724.0   \n",
       "3       0.928571        0.993122         0.954128          724.0   \n",
       "4       0.928571        0.993122         0.954128          724.0   \n",
       "\n",
       "   Support (spam)  \n",
       "0           112.0  \n",
       "1           112.0  \n",
       "2           724.0  \n",
       "3           112.0  \n",
       "4           112.0  "
      ]
     },
     "execution_count": 152,
     "metadata": {},
     "output_type": "execute_result"
    }
   ],
   "source": [
    "# Converting the actual classification report metrics into dictionaries\n",
    "nml_metrics_hp = classification_report(y_test, y_predict_hp, target_names=['ham', 'spam'], output_dict=True)\n",
    "dwn_metrics_hp = classification_report(y_test_dwn, y_predict_hp_dwn, target_names=['ham', 'spam'], output_dict=True)\n",
    "up_metrics_hp = classification_report(y_test_up, y_predict_hp_up, target_names=['ham', 'spam'], output_dict=True)\n",
    "clw_metrics_hp = classification_report(y_test, y_predict_hp_clw, target_names=['ham', 'spam'], output_dict=True)\n",
    "cus_metrics_hp = classification_report(y_test, y_predict_hp_cus, target_names=['ham', 'spam'], output_dict=True)\n",
    "\n",
    "# Create a DataFrame with the relevant metrics\n",
    "metrics_hp_df = pd.DataFrame({\n",
    "    'Model': ['Original', 'Down Sampling', 'Up Sampling', 'Class Weights', 'Custom Loss'],\n",
    "    'Accuracy': [nml_metrics_hp['accuracy'], dwn_metrics_hp['accuracy'], up_metrics_hp['accuracy'], clw_metrics_hp['accuracy'], cus_metrics_hp['accuracy']],\n",
    "    'Precision (ham)': [nml_metrics_hp['ham']['precision'], dwn_metrics_hp['ham']['precision'], up_metrics_hp['ham']['precision'], clw_metrics_hp['ham']['precision'], cus_metrics_hp['ham']['precision']],\n",
    "    'Precision (spam)': [nml_metrics_hp['spam']['precision'], dwn_metrics_hp['spam']['precision'], up_metrics_hp['spam']['precision'], clw_metrics_hp['spam']['precision'], cus_metrics_hp['spam']['precision']],\n",
    "    'Recall (ham)': [nml_metrics_hp['ham']['recall'], dwn_metrics_hp['ham']['recall'], up_metrics_hp['ham']['recall'], clw_metrics_hp['ham']['recall'], cus_metrics_hp['ham']['recall']],\n",
    "    'Recall (spam)': [nml_metrics_hp['spam']['recall'], dwn_metrics_hp['spam']['recall'], up_metrics_hp['spam']['recall'], clw_metrics_hp['spam']['recall'], cus_metrics_hp['spam']['recall']],\n",
    "    'F1-score (ham)': [nml_metrics_hp['ham']['f1-score'], dwn_metrics_hp['ham']['f1-score'], up_metrics_hp['ham']['f1-score'], clw_metrics_hp['ham']['f1-score'], cus_metrics_hp['ham']['f1-score']],\n",
    "    'F1-score (spam)': [nml_metrics_hp['spam']['f1-score'], dwn_metrics_hp['spam']['f1-score'], up_metrics_hp['spam']['f1-score'], clw_metrics_hp['spam']['f1-score'], cus_metrics_hp['spam']['f1-score']],\n",
    "    'Support (ham)': [nml_metrics_hp['ham']['support'], dwn_metrics_hp['ham']['support'], up_metrics_hp['ham']['support'], clw_metrics_hp['ham']['support'], cus_metrics_hp['ham']['support']],\n",
    "    'Support (spam)': [nml_metrics_hp['spam']['support'], dwn_metrics_hp['spam']['support'], up_metrics_hp['spam']['support'], clw_metrics_hp['spam']['support'], cus_metrics_hp['spam']['support']]\n",
    "})\n",
    "\n",
    "# Display the comprehensive comparison table\n",
    "metrics_hp_df\n"
   ]
  },
  {
   "cell_type": "markdown",
   "id": "d3aae4b7-5522-43fa-bcc4-e44bba99ff2a",
   "metadata": {},
   "source": [
    "## Inference Comparison of Fine-Tuned BERT\n",
    "<a class=\"anchor\" id=\"16\"></a>\n",
    "[Table of Contents](#0.1)"
   ]
  },
  {
   "cell_type": "code",
   "execution_count": 153,
   "id": "22c1fe69-f73a-4f0b-870c-c1601bff7214",
   "metadata": {},
   "outputs": [
    {
     "data": {
      "text/html": [
       "<div>\n",
       "<style scoped>\n",
       "    .dataframe tbody tr th:only-of-type {\n",
       "        vertical-align: middle;\n",
       "    }\n",
       "\n",
       "    .dataframe tbody tr th {\n",
       "        vertical-align: top;\n",
       "    }\n",
       "\n",
       "    .dataframe thead th {\n",
       "        text-align: right;\n",
       "    }\n",
       "</style>\n",
       "<table border=\"1\" class=\"dataframe\">\n",
       "  <thead>\n",
       "    <tr style=\"text-align: right;\">\n",
       "      <th></th>\n",
       "      <th>Normal Inference</th>\n",
       "      <th>Down Sampling Inference</th>\n",
       "      <th>Up Sampling Inference</th>\n",
       "      <th>Class Weights Inference</th>\n",
       "      <th>Custom Loss Inference</th>\n",
       "    </tr>\n",
       "  </thead>\n",
       "  <tbody>\n",
       "    <tr>\n",
       "      <th>0</th>\n",
       "      <td>0.027743</td>\n",
       "      <td>0.007487</td>\n",
       "      <td>0.214065</td>\n",
       "      <td>0.627704</td>\n",
       "      <td>0.502014</td>\n",
       "    </tr>\n",
       "    <tr>\n",
       "      <th>1</th>\n",
       "      <td>0.462971</td>\n",
       "      <td>0.210188</td>\n",
       "      <td>0.780696</td>\n",
       "      <td>0.639677</td>\n",
       "      <td>0.544649</td>\n",
       "    </tr>\n",
       "    <tr>\n",
       "      <th>2</th>\n",
       "      <td>0.155890</td>\n",
       "      <td>0.087669</td>\n",
       "      <td>0.711345</td>\n",
       "      <td>0.524960</td>\n",
       "      <td>0.525406</td>\n",
       "    </tr>\n",
       "    <tr>\n",
       "      <th>3</th>\n",
       "      <td>0.420343</td>\n",
       "      <td>0.207842</td>\n",
       "      <td>0.766022</td>\n",
       "      <td>0.593533</td>\n",
       "      <td>0.530577</td>\n",
       "    </tr>\n",
       "    <tr>\n",
       "      <th>4</th>\n",
       "      <td>0.007806</td>\n",
       "      <td>0.002023</td>\n",
       "      <td>0.007855</td>\n",
       "      <td>0.594488</td>\n",
       "      <td>0.523352</td>\n",
       "    </tr>\n",
       "  </tbody>\n",
       "</table>\n",
       "</div>"
      ],
      "text/plain": [
       "   Normal Inference  Down Sampling Inference  Up Sampling Inference  \\\n",
       "0          0.027743                 0.007487               0.214065   \n",
       "1          0.462971                 0.210188               0.780696   \n",
       "2          0.155890                 0.087669               0.711345   \n",
       "3          0.420343                 0.207842               0.766022   \n",
       "4          0.007806                 0.002023               0.007855   \n",
       "\n",
       "   Class Weights Inference  Custom Loss Inference  \n",
       "0                 0.627704               0.502014  \n",
       "1                 0.639677               0.544649  \n",
       "2                 0.524960               0.525406  \n",
       "3                 0.593533               0.530577  \n",
       "4                 0.594488               0.523352  "
      ]
     },
     "execution_count": 153,
     "metadata": {},
     "output_type": "execute_result"
    }
   ],
   "source": [
    "# Reshape arrays to be 1-dimensional\n",
    "nml_inf = nml_inf.reshape(-1)\n",
    "dwn_inf = dwn_inf.reshape(-1)\n",
    "up_inf = up_inf.reshape(-1)\n",
    "clw_inf = clw_inf.reshape(-1)\n",
    "cus_inf = cus_inf.reshape(-1)\n",
    "\n",
    "inferences = {\n",
    "    'Normal Inference': nml_inf,\n",
    "    'Down Sampling Inference': dwn_inf,\n",
    "    'Up Sampling Inference': up_inf,\n",
    "    'Class Weights Inference': clw_inf,\n",
    "    'Custom Loss Inference': cus_inf\n",
    "}\n",
    "\n",
    "inf = pd.DataFrame(inferences)\n",
    "\n",
    "# Display the table\n",
    "inf"
   ]
  },
  {
   "cell_type": "markdown",
   "id": "e08e1153-06c4-4965-970c-6b3cb40b2371",
   "metadata": {},
   "source": [
    "## Inference Comparison of Hyperparameter-Tuned BERT\n",
    "<a class=\"anchor\" id=\"17\"></a>\n",
    "[Table of Contents](#0.1)"
   ]
  },
  {
   "cell_type": "code",
   "execution_count": 154,
   "id": "0b24d908-7b45-4c93-9d06-40aac134764c",
   "metadata": {},
   "outputs": [
    {
     "data": {
      "text/html": [
       "<div>\n",
       "<style scoped>\n",
       "    .dataframe tbody tr th:only-of-type {\n",
       "        vertical-align: middle;\n",
       "    }\n",
       "\n",
       "    .dataframe tbody tr th {\n",
       "        vertical-align: top;\n",
       "    }\n",
       "\n",
       "    .dataframe thead th {\n",
       "        text-align: right;\n",
       "    }\n",
       "</style>\n",
       "<table border=\"1\" class=\"dataframe\">\n",
       "  <thead>\n",
       "    <tr style=\"text-align: right;\">\n",
       "      <th></th>\n",
       "      <th>Normal Inference</th>\n",
       "      <th>Down Sampling Inference</th>\n",
       "      <th>Up Sampling Inference</th>\n",
       "      <th>Class Weights Inference</th>\n",
       "      <th>Custom Loss Inference</th>\n",
       "    </tr>\n",
       "  </thead>\n",
       "  <tbody>\n",
       "    <tr>\n",
       "      <th>0</th>\n",
       "      <td>0.021727</td>\n",
       "      <td>0.047020</td>\n",
       "      <td>0.368073</td>\n",
       "      <td>0.031642</td>\n",
       "      <td>0.038733</td>\n",
       "    </tr>\n",
       "    <tr>\n",
       "      <th>1</th>\n",
       "      <td>0.396931</td>\n",
       "      <td>0.444924</td>\n",
       "      <td>0.892845</td>\n",
       "      <td>0.436153</td>\n",
       "      <td>0.484014</td>\n",
       "    </tr>\n",
       "    <tr>\n",
       "      <th>2</th>\n",
       "      <td>0.200549</td>\n",
       "      <td>0.802365</td>\n",
       "      <td>0.759731</td>\n",
       "      <td>0.153385</td>\n",
       "      <td>0.214435</td>\n",
       "    </tr>\n",
       "    <tr>\n",
       "      <th>3</th>\n",
       "      <td>0.358744</td>\n",
       "      <td>0.768852</td>\n",
       "      <td>0.905011</td>\n",
       "      <td>0.392813</td>\n",
       "      <td>0.476406</td>\n",
       "    </tr>\n",
       "    <tr>\n",
       "      <th>4</th>\n",
       "      <td>0.004297</td>\n",
       "      <td>0.000901</td>\n",
       "      <td>0.006211</td>\n",
       "      <td>0.001184</td>\n",
       "      <td>0.001546</td>\n",
       "    </tr>\n",
       "  </tbody>\n",
       "</table>\n",
       "</div>"
      ],
      "text/plain": [
       "   Normal Inference  Down Sampling Inference  Up Sampling Inference  \\\n",
       "0          0.021727                 0.047020               0.368073   \n",
       "1          0.396931                 0.444924               0.892845   \n",
       "2          0.200549                 0.802365               0.759731   \n",
       "3          0.358744                 0.768852               0.905011   \n",
       "4          0.004297                 0.000901               0.006211   \n",
       "\n",
       "   Class Weights Inference  Custom Loss Inference  \n",
       "0                 0.031642               0.038733  \n",
       "1                 0.436153               0.484014  \n",
       "2                 0.153385               0.214435  \n",
       "3                 0.392813               0.476406  \n",
       "4                 0.001184               0.001546  "
      ]
     },
     "execution_count": 154,
     "metadata": {},
     "output_type": "execute_result"
    }
   ],
   "source": [
    "# Reshape arrays to be 1-dimensional\n",
    "nml_inf_hp = nml_inf_hp.reshape(-1)\n",
    "dwn_inf_hp = dwn_inf_hp.reshape(-1)\n",
    "up_inf_hp = up_inf_hp.reshape(-1)\n",
    "clw_inf_hp = clw_inf_hp.reshape(-1)\n",
    "cus_inf_hp = cus_inf_hp.reshape(-1)\n",
    "\n",
    "inferences_hp = {\n",
    "    'Normal Inference': nml_inf_hp,\n",
    "    'Down Sampling Inference': dwn_inf_hp,\n",
    "    'Up Sampling Inference': up_inf_hp,\n",
    "    'Class Weights Inference': clw_inf_hp,\n",
    "    'Custom Loss Inference': cus_inf_hp\n",
    "}\n",
    "\n",
    "inf_up = pd.DataFrame(inferences_hp)\n",
    "\n",
    "# Display the table\n",
    "inf_up"
   ]
  },
  {
   "cell_type": "markdown",
   "id": "dafc4dcd-f314-4651-9a45-1398c6c975ec",
   "metadata": {},
   "source": [
    "## Conclusion\n",
    "<a class=\"anchor\" id=\"18\"></a>\n",
    "[Table of Contents](#0.1)"
   ]
  },
  {
   "cell_type": "markdown",
   "id": "4263e3ac-d0ee-428f-8dd7-6090e60d4d65",
   "metadata": {},
   "source": [
    "Based on the comparison of the `Fine-tuned BERT model` and the `Hyperparameter-tuned BERT model` for spam detection, it is evident that the `Hyperparameter-tuned BERT model` with `Up Sampling` demonstrates the highest F1-score for spam detection, achieving a value of 0.983516. In contrast, the `Hyperparameter-tuned BERT model` with `Down Sampling` also performs well, with an F1-score of 0.963964, but it slightly falls short compared to the hyperparameter-tuned model. Other approaches, such as `Class Weights`, where weights are assigned to the data, show significantly lower F1-scores. Similarly, `Custom Loss`, which involves label smoothing according to the data labels ratio, decreases the classification report metrics, indicating less effectiveness in spam detection.\n",
    "\n",
    "This indicates that balanced data will give more accurate results in the classification of text messages into ham or spam while applying Bidirectional Encoder Representation from Transformers (BERT). It also highlights a superior balance between precision and recall for identifying spam, making the `Hyperparameter-tuned BERT model` with `Up Sampling` the most effective model among those tested.\n",
    "\n",
    "Given these results, the `Hyperparameter-tuned BERT model` with `Up Sampling` is recommended for optimal spam detection performance. This model is well-suited for real industry applications and is ready to be deployed. By saving this best-performing model, robust and reliable spam detection can be ensured in a production environment, enhancing the overall effectiveness and efficiency of the system."
   ]
  },
  {
   "cell_type": "markdown",
   "id": "a1611214-ffb6-4c75-84e6-62f990d748d8",
   "metadata": {},
   "source": [
    "## Deployment\n",
    "<a class=\"anchor\" id=\"19\"></a>\n",
    "[Table of Contents](#0.1)"
   ]
  },
  {
   "cell_type": "code",
   "execution_count": null,
   "id": "855d56ea-29e2-46d7-ac96-6943161e28c0",
   "metadata": {},
   "outputs": [],
   "source": [
    "# Save the entire model to a HDF5 file\n",
    "best_model_up.save('spam_detection_model.h5')\n"
   ]
  },
  {
   "cell_type": "code",
   "execution_count": null,
   "id": "66871c48-0234-4672-80c4-b19094d00d70",
   "metadata": {},
   "outputs": [],
   "source": [
    "# Save the model in SavedModel format\n",
    "best_model_up.save('saved_model/spam_detection_model')"
   ]
  },
  {
   "cell_type": "code",
   "execution_count": null,
   "id": "ccd9a596-754b-4aa3-9eb4-b4ad3a72fd4e",
   "metadata": {},
   "outputs": [],
   "source": [
    "message = input(\"Enter your message: \")\n",
    "\n",
    "# Preprocess the message\n",
    "preprocessed_message = bert_preprocessor([message])\n",
    "encoded_message = bert_encoder(preprocessed_message)\n",
    "\n",
    "# Predict using the best model\n",
    "result = best_model_up.predict(encoded_message)\n",
    "print(result)\n",
    "\n",
    "if result[0] == 1:\n",
    "    print(\"This has a high probability of being a spam message.\")\n",
    "else:\n",
    "    print(\"This is not likely to be a spam message.\")\n"
   ]
  },
  {
   "cell_type": "markdown",
   "id": "226488b3-e206-47b3-9dcb-bb4d9d42848b",
   "metadata": {},
   "source": [
    "## References\n",
    "<a class=\"anchor\" id=\"20\"></a>\n",
    "[Table of Contents](#0.1)"
   ]
  },
  {
   "cell_type": "markdown",
   "id": "88bfc1d1-f5b8-46cd-a8c0-5b477400f130",
   "metadata": {},
   "source": [
    "`www.google.com`  `www.stackoverflow.com`  `www.tensorflowhub.com`  `www.geeksforgeeks.com`  `www.youtube.com`  `www.copilot.com`  `www.chatgpt.com`"
   ]
  }
 ],
 "metadata": {
  "kernelspec": {
   "display_name": "Python 3 (ipykernel)",
   "language": "python",
   "name": "python3"
  },
  "language_info": {
   "codemirror_mode": {
    "name": "ipython",
    "version": 3
   },
   "file_extension": ".py",
   "mimetype": "text/x-python",
   "name": "python",
   "nbconvert_exporter": "python",
   "pygments_lexer": "ipython3",
   "version": "3.10.13"
  }
 },
 "nbformat": 4,
 "nbformat_minor": 5
}
